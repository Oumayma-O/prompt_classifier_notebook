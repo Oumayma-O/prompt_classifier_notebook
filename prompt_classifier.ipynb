{
  "cells": [
    {
      "cell_type": "markdown",
      "metadata": {
        "id": "view-in-github",
        "colab_type": "text"
      },
      "source": [
        "<a href=\"https://colab.research.google.com/github/Oumayma-O/prompt_classifier_notebook/blob/main/prompt_classifier.ipynb\" target=\"_parent\"><img src=\"https://colab.research.google.com/assets/colab-badge.svg\" alt=\"Open In Colab\"/></a>"
      ]
    },
    {
      "cell_type": "code",
      "source": [
        "!python --version"
      ],
      "metadata": {
        "colab": {
          "base_uri": "https://localhost:8080/"
        },
        "id": "_iKReM43txMK",
        "outputId": "bd1fae83-bfc8-4faf-ecf5-9147edab2800"
      },
      "execution_count": null,
      "outputs": [
        {
          "output_type": "stream",
          "name": "stdout",
          "text": [
            "Python 3.10.12\n"
          ]
        }
      ]
    },
    {
      "cell_type": "code",
      "source": [
        "import sklearn\n",
        "print(sklearn.__version__)\n"
      ],
      "metadata": {
        "id": "AwwFRDJuu0WY",
        "outputId": "3dfe32e2-ad5f-4fa0-e2db-bea1da2e155d",
        "colab": {
          "base_uri": "https://localhost:8080/"
        }
      },
      "execution_count": null,
      "outputs": [
        {
          "output_type": "stream",
          "name": "stdout",
          "text": [
            "1.2.2\n"
          ]
        }
      ]
    },
    {
      "cell_type": "markdown",
      "metadata": {
        "id": "BjeZLIYBZER_"
      },
      "source": [
        "# Importing packages"
      ]
    },
    {
      "cell_type": "code",
      "execution_count": null,
      "metadata": {
        "colab": {
          "base_uri": "https://localhost:8080/"
        },
        "id": "SjqRW_7WTt1o",
        "outputId": "387d996c-9a19-4c90-b34d-5cd415c9d5ff"
      },
      "outputs": [
        {
          "name": "stdout",
          "output_type": "stream",
          "text": [
            "Requirement already satisfied: scikit-learn in /usr/local/lib/python3.10/dist-packages (1.2.2)\n",
            "Requirement already satisfied: numpy>=1.17.3 in /usr/local/lib/python3.10/dist-packages (from scikit-learn) (1.25.2)\n",
            "Requirement already satisfied: scipy>=1.3.2 in /usr/local/lib/python3.10/dist-packages (from scikit-learn) (1.11.4)\n",
            "Requirement already satisfied: joblib>=1.1.1 in /usr/local/lib/python3.10/dist-packages (from scikit-learn) (1.4.2)\n",
            "Requirement already satisfied: threadpoolctl>=2.0.0 in /usr/local/lib/python3.10/dist-packages (from scikit-learn) (3.5.0)\n"
          ]
        }
      ],
      "source": [
        "%pip install scikit-learn"
      ]
    },
    {
      "cell_type": "code",
      "execution_count": null,
      "metadata": {
        "id": "A-ez3x3eTt1q"
      },
      "outputs": [],
      "source": [
        "import json\n",
        "import pandas as pd\n",
        "import matplotlib.pyplot as plt\n",
        "from sklearn.feature_extraction.text import TfidfVectorizer # convertire text -> TF-IDF\n",
        "from sklearn.model_selection import train_test_split # split data\n",
        "from sklearn.linear_model import LogisticRegression # regressiong classifier\n",
        "from sklearn.multiclass import OneVsOneClassifier\n",
        "from sklearn.metrics import classification_report, confusion_matrix, accuracy_score\n",
        "import seaborn as sns\n",
        "import re\n",
        "from nltk.corpus import stopwords\n",
        "from nltk.tokenize import word_tokenize\n",
        "import nltk\n",
        "import spacy\n",
        "import seaborn as sns\n",
        "from sklearn.metrics import classification_report, confusion_matrix, accuracy_score\n",
        "from collections import Counter\n",
        "import joblib\n"
      ]
    },
    {
      "cell_type": "markdown",
      "metadata": {
        "id": "veaiLJTvZKNL"
      },
      "source": [
        "# Importing data"
      ]
    },
    {
      "cell_type": "code",
      "execution_count": null,
      "metadata": {
        "colab": {
          "base_uri": "https://localhost:8080/"
        },
        "id": "y9_zNYJaUjB1",
        "outputId": "0328d08e-7d8a-4724-cab8-f62740931d64"
      },
      "outputs": [
        {
          "output_type": "stream",
          "name": "stdout",
          "text": [
            "Drive already mounted at /content/drive; to attempt to forcibly remount, call drive.mount(\"/content/drive\", force_remount=True).\n"
          ]
        }
      ],
      "source": [
        "from google.colab import drive\n",
        "drive.mount('/content/drive')"
      ]
    },
    {
      "cell_type": "code",
      "execution_count": null,
      "metadata": {
        "id": "Ul0oXIdLD1cI"
      },
      "outputs": [],
      "source": [
        "# Path to your CSV file\n",
        "csv_file_path = '/content/drive/MyDrive/Prompt-classifier/data.csv'\n",
        "\n",
        "# Read the CSV file into a DataFrame\n",
        "df = pd.read_csv(csv_file_path)\n",
        "\n",
        "# Remove rows with the 'output' label in the 'output' column\n",
        "df = df[df['output'] != 'output']"
      ]
    },
    {
      "cell_type": "code",
      "execution_count": null,
      "metadata": {
        "colab": {
          "base_uri": "https://localhost:8080/",
          "height": 206
        },
        "id": "eypf7c5gTNqU",
        "outputId": "22f3a1dd-9680-4ea9-f28d-43560e9e55b1"
      },
      "outputs": [
        {
          "output_type": "execute_result",
          "data": {
            "text/plain": [
              "                                               input       output\n",
              "0  je cherche un emploi de développeur web en remote    best_jobs\n",
              "1  recommandation pour trouver un poste de data s...    best_jobs\n",
              "2  comment rédiger un CV efficace pour un poste d...  cv_improver\n",
              "3  avis sur mon CV pour postuler comme ingénieur ...  cv_improver\n",
              "4  peut-on améliorer mon CV pour un emploi de dév...  cv_improver"
            ],
            "text/html": [
              "\n",
              "  <div id=\"df-1031e1fa-cc39-40ec-a333-c6b6a3e8e0ae\" class=\"colab-df-container\">\n",
              "    <div>\n",
              "<style scoped>\n",
              "    .dataframe tbody tr th:only-of-type {\n",
              "        vertical-align: middle;\n",
              "    }\n",
              "\n",
              "    .dataframe tbody tr th {\n",
              "        vertical-align: top;\n",
              "    }\n",
              "\n",
              "    .dataframe thead th {\n",
              "        text-align: right;\n",
              "    }\n",
              "</style>\n",
              "<table border=\"1\" class=\"dataframe\">\n",
              "  <thead>\n",
              "    <tr style=\"text-align: right;\">\n",
              "      <th></th>\n",
              "      <th>input</th>\n",
              "      <th>output</th>\n",
              "    </tr>\n",
              "  </thead>\n",
              "  <tbody>\n",
              "    <tr>\n",
              "      <th>0</th>\n",
              "      <td>je cherche un emploi de développeur web en remote</td>\n",
              "      <td>best_jobs</td>\n",
              "    </tr>\n",
              "    <tr>\n",
              "      <th>1</th>\n",
              "      <td>recommandation pour trouver un poste de data s...</td>\n",
              "      <td>best_jobs</td>\n",
              "    </tr>\n",
              "    <tr>\n",
              "      <th>2</th>\n",
              "      <td>comment rédiger un CV efficace pour un poste d...</td>\n",
              "      <td>cv_improver</td>\n",
              "    </tr>\n",
              "    <tr>\n",
              "      <th>3</th>\n",
              "      <td>avis sur mon CV pour postuler comme ingénieur ...</td>\n",
              "      <td>cv_improver</td>\n",
              "    </tr>\n",
              "    <tr>\n",
              "      <th>4</th>\n",
              "      <td>peut-on améliorer mon CV pour un emploi de dév...</td>\n",
              "      <td>cv_improver</td>\n",
              "    </tr>\n",
              "  </tbody>\n",
              "</table>\n",
              "</div>\n",
              "    <div class=\"colab-df-buttons\">\n",
              "\n",
              "  <div class=\"colab-df-container\">\n",
              "    <button class=\"colab-df-convert\" onclick=\"convertToInteractive('df-1031e1fa-cc39-40ec-a333-c6b6a3e8e0ae')\"\n",
              "            title=\"Convert this dataframe to an interactive table.\"\n",
              "            style=\"display:none;\">\n",
              "\n",
              "  <svg xmlns=\"http://www.w3.org/2000/svg\" height=\"24px\" viewBox=\"0 -960 960 960\">\n",
              "    <path d=\"M120-120v-720h720v720H120Zm60-500h600v-160H180v160Zm220 220h160v-160H400v160Zm0 220h160v-160H400v160ZM180-400h160v-160H180v160Zm440 0h160v-160H620v160ZM180-180h160v-160H180v160Zm440 0h160v-160H620v160Z\"/>\n",
              "  </svg>\n",
              "    </button>\n",
              "\n",
              "  <style>\n",
              "    .colab-df-container {\n",
              "      display:flex;\n",
              "      gap: 12px;\n",
              "    }\n",
              "\n",
              "    .colab-df-convert {\n",
              "      background-color: #E8F0FE;\n",
              "      border: none;\n",
              "      border-radius: 50%;\n",
              "      cursor: pointer;\n",
              "      display: none;\n",
              "      fill: #1967D2;\n",
              "      height: 32px;\n",
              "      padding: 0 0 0 0;\n",
              "      width: 32px;\n",
              "    }\n",
              "\n",
              "    .colab-df-convert:hover {\n",
              "      background-color: #E2EBFA;\n",
              "      box-shadow: 0px 1px 2px rgba(60, 64, 67, 0.3), 0px 1px 3px 1px rgba(60, 64, 67, 0.15);\n",
              "      fill: #174EA6;\n",
              "    }\n",
              "\n",
              "    .colab-df-buttons div {\n",
              "      margin-bottom: 4px;\n",
              "    }\n",
              "\n",
              "    [theme=dark] .colab-df-convert {\n",
              "      background-color: #3B4455;\n",
              "      fill: #D2E3FC;\n",
              "    }\n",
              "\n",
              "    [theme=dark] .colab-df-convert:hover {\n",
              "      background-color: #434B5C;\n",
              "      box-shadow: 0px 1px 3px 1px rgba(0, 0, 0, 0.15);\n",
              "      filter: drop-shadow(0px 1px 2px rgba(0, 0, 0, 0.3));\n",
              "      fill: #FFFFFF;\n",
              "    }\n",
              "  </style>\n",
              "\n",
              "    <script>\n",
              "      const buttonEl =\n",
              "        document.querySelector('#df-1031e1fa-cc39-40ec-a333-c6b6a3e8e0ae button.colab-df-convert');\n",
              "      buttonEl.style.display =\n",
              "        google.colab.kernel.accessAllowed ? 'block' : 'none';\n",
              "\n",
              "      async function convertToInteractive(key) {\n",
              "        const element = document.querySelector('#df-1031e1fa-cc39-40ec-a333-c6b6a3e8e0ae');\n",
              "        const dataTable =\n",
              "          await google.colab.kernel.invokeFunction('convertToInteractive',\n",
              "                                                    [key], {});\n",
              "        if (!dataTable) return;\n",
              "\n",
              "        const docLinkHtml = 'Like what you see? Visit the ' +\n",
              "          '<a target=\"_blank\" href=https://colab.research.google.com/notebooks/data_table.ipynb>data table notebook</a>'\n",
              "          + ' to learn more about interactive tables.';\n",
              "        element.innerHTML = '';\n",
              "        dataTable['output_type'] = 'display_data';\n",
              "        await google.colab.output.renderOutput(dataTable, element);\n",
              "        const docLink = document.createElement('div');\n",
              "        docLink.innerHTML = docLinkHtml;\n",
              "        element.appendChild(docLink);\n",
              "      }\n",
              "    </script>\n",
              "  </div>\n",
              "\n",
              "\n",
              "<div id=\"df-884cbb56-8f11-4847-aca0-8ef669661cb2\">\n",
              "  <button class=\"colab-df-quickchart\" onclick=\"quickchart('df-884cbb56-8f11-4847-aca0-8ef669661cb2')\"\n",
              "            title=\"Suggest charts\"\n",
              "            style=\"display:none;\">\n",
              "\n",
              "<svg xmlns=\"http://www.w3.org/2000/svg\" height=\"24px\"viewBox=\"0 0 24 24\"\n",
              "     width=\"24px\">\n",
              "    <g>\n",
              "        <path d=\"M19 3H5c-1.1 0-2 .9-2 2v14c0 1.1.9 2 2 2h14c1.1 0 2-.9 2-2V5c0-1.1-.9-2-2-2zM9 17H7v-7h2v7zm4 0h-2V7h2v10zm4 0h-2v-4h2v4z\"/>\n",
              "    </g>\n",
              "</svg>\n",
              "  </button>\n",
              "\n",
              "<style>\n",
              "  .colab-df-quickchart {\n",
              "      --bg-color: #E8F0FE;\n",
              "      --fill-color: #1967D2;\n",
              "      --hover-bg-color: #E2EBFA;\n",
              "      --hover-fill-color: #174EA6;\n",
              "      --disabled-fill-color: #AAA;\n",
              "      --disabled-bg-color: #DDD;\n",
              "  }\n",
              "\n",
              "  [theme=dark] .colab-df-quickchart {\n",
              "      --bg-color: #3B4455;\n",
              "      --fill-color: #D2E3FC;\n",
              "      --hover-bg-color: #434B5C;\n",
              "      --hover-fill-color: #FFFFFF;\n",
              "      --disabled-bg-color: #3B4455;\n",
              "      --disabled-fill-color: #666;\n",
              "  }\n",
              "\n",
              "  .colab-df-quickchart {\n",
              "    background-color: var(--bg-color);\n",
              "    border: none;\n",
              "    border-radius: 50%;\n",
              "    cursor: pointer;\n",
              "    display: none;\n",
              "    fill: var(--fill-color);\n",
              "    height: 32px;\n",
              "    padding: 0;\n",
              "    width: 32px;\n",
              "  }\n",
              "\n",
              "  .colab-df-quickchart:hover {\n",
              "    background-color: var(--hover-bg-color);\n",
              "    box-shadow: 0 1px 2px rgba(60, 64, 67, 0.3), 0 1px 3px 1px rgba(60, 64, 67, 0.15);\n",
              "    fill: var(--button-hover-fill-color);\n",
              "  }\n",
              "\n",
              "  .colab-df-quickchart-complete:disabled,\n",
              "  .colab-df-quickchart-complete:disabled:hover {\n",
              "    background-color: var(--disabled-bg-color);\n",
              "    fill: var(--disabled-fill-color);\n",
              "    box-shadow: none;\n",
              "  }\n",
              "\n",
              "  .colab-df-spinner {\n",
              "    border: 2px solid var(--fill-color);\n",
              "    border-color: transparent;\n",
              "    border-bottom-color: var(--fill-color);\n",
              "    animation:\n",
              "      spin 1s steps(1) infinite;\n",
              "  }\n",
              "\n",
              "  @keyframes spin {\n",
              "    0% {\n",
              "      border-color: transparent;\n",
              "      border-bottom-color: var(--fill-color);\n",
              "      border-left-color: var(--fill-color);\n",
              "    }\n",
              "    20% {\n",
              "      border-color: transparent;\n",
              "      border-left-color: var(--fill-color);\n",
              "      border-top-color: var(--fill-color);\n",
              "    }\n",
              "    30% {\n",
              "      border-color: transparent;\n",
              "      border-left-color: var(--fill-color);\n",
              "      border-top-color: var(--fill-color);\n",
              "      border-right-color: var(--fill-color);\n",
              "    }\n",
              "    40% {\n",
              "      border-color: transparent;\n",
              "      border-right-color: var(--fill-color);\n",
              "      border-top-color: var(--fill-color);\n",
              "    }\n",
              "    60% {\n",
              "      border-color: transparent;\n",
              "      border-right-color: var(--fill-color);\n",
              "    }\n",
              "    80% {\n",
              "      border-color: transparent;\n",
              "      border-right-color: var(--fill-color);\n",
              "      border-bottom-color: var(--fill-color);\n",
              "    }\n",
              "    90% {\n",
              "      border-color: transparent;\n",
              "      border-bottom-color: var(--fill-color);\n",
              "    }\n",
              "  }\n",
              "</style>\n",
              "\n",
              "  <script>\n",
              "    async function quickchart(key) {\n",
              "      const quickchartButtonEl =\n",
              "        document.querySelector('#' + key + ' button');\n",
              "      quickchartButtonEl.disabled = true;  // To prevent multiple clicks.\n",
              "      quickchartButtonEl.classList.add('colab-df-spinner');\n",
              "      try {\n",
              "        const charts = await google.colab.kernel.invokeFunction(\n",
              "            'suggestCharts', [key], {});\n",
              "      } catch (error) {\n",
              "        console.error('Error during call to suggestCharts:', error);\n",
              "      }\n",
              "      quickchartButtonEl.classList.remove('colab-df-spinner');\n",
              "      quickchartButtonEl.classList.add('colab-df-quickchart-complete');\n",
              "    }\n",
              "    (() => {\n",
              "      let quickchartButtonEl =\n",
              "        document.querySelector('#df-884cbb56-8f11-4847-aca0-8ef669661cb2 button');\n",
              "      quickchartButtonEl.style.display =\n",
              "        google.colab.kernel.accessAllowed ? 'block' : 'none';\n",
              "    })();\n",
              "  </script>\n",
              "</div>\n",
              "\n",
              "    </div>\n",
              "  </div>\n"
            ],
            "application/vnd.google.colaboratory.intrinsic+json": {
              "type": "dataframe",
              "variable_name": "df",
              "summary": "{\n  \"name\": \"df\",\n  \"rows\": 396,\n  \"fields\": [\n    {\n      \"column\": \"input\",\n      \"properties\": {\n        \"dtype\": \"category\",\n        \"num_unique_values\": 171,\n        \"samples\": [\n          \"comment choisir un bon vin ?\",\n          \"comment structurer un CV pour un poste de chef de projet technique ?\",\n          \"avis sur ma lettre de motivation pour une offre en d\\u00e9veloppement international\"\n        ],\n        \"semantic_type\": \"\",\n        \"description\": \"\"\n      }\n    },\n    {\n      \"column\": \"output\",\n      \"properties\": {\n        \"dtype\": \"category\",\n        \"num_unique_values\": 5,\n        \"samples\": [\n          \"cv_improver\",\n          \"KO\",\n          \"lm_improver\"\n        ],\n        \"semantic_type\": \"\",\n        \"description\": \"\"\n      }\n    }\n  ]\n}"
            }
          },
          "metadata": {},
          "execution_count": 34
        }
      ],
      "source": [
        "df.head()"
      ]
    },
    {
      "cell_type": "markdown",
      "metadata": {
        "id": "aBLZKhdGZo8-"
      },
      "source": [
        "# EDA"
      ]
    },
    {
      "cell_type": "code",
      "execution_count": null,
      "metadata": {
        "colab": {
          "base_uri": "https://localhost:8080/"
        },
        "id": "GJv-BUITTt1s",
        "outputId": "71255541-95b3-4ab7-dc50-6ad42bcdf1c3"
      },
      "outputs": [
        {
          "output_type": "stream",
          "name": "stdout",
          "text": [
            "Head of the DataFrame:\n",
            "                                               input       output\n",
            "0  je cherche un emploi de développeur web en remote    best_jobs\n",
            "1  recommandation pour trouver un poste de data s...    best_jobs\n",
            "2  comment rédiger un CV efficace pour un poste d...  cv_improver\n",
            "3  avis sur mon CV pour postuler comme ingénieur ...  cv_improver\n",
            "4  peut-on améliorer mon CV pour un emploi de dév...  cv_improver\n"
          ]
        }
      ],
      "source": [
        "# Step 4: Visualize the head of the DataFrame\n",
        "print(\"Head of the DataFrame:\")\n",
        "print(df.head())"
      ]
    },
    {
      "cell_type": "code",
      "execution_count": null,
      "metadata": {
        "colab": {
          "base_uri": "https://localhost:8080/"
        },
        "id": "YVg5wEQzTt1s",
        "outputId": "494c9737-de4d-4ca8-bbec-0764f2e7c984"
      },
      "outputs": [
        {
          "output_type": "stream",
          "name": "stdout",
          "text": [
            "\n",
            "Dataset Description:\n",
            "                                                    input              output\n",
            "count                                                 396                 396\n",
            "unique                                                171                   5\n",
            "top     avis sur ma lettre de motivation pour une offr...  interview-coaching\n",
            "freq                                                    5                 105\n"
          ]
        }
      ],
      "source": [
        "# Step 5: Show dataset description\n",
        "print(\"\\nDataset Description:\")\n",
        "print(df.describe(include='all'))"
      ]
    },
    {
      "cell_type": "code",
      "execution_count": null,
      "metadata": {
        "colab": {
          "base_uri": "https://localhost:8080/"
        },
        "id": "l14LgM7ZTqam",
        "outputId": "0d5ea900-ea63-4010-df2c-11724c57f135"
      },
      "outputs": [
        {
          "output_type": "stream",
          "name": "stdout",
          "text": [
            "Number of duplicate rows: 225\n"
          ]
        }
      ],
      "source": [
        "# Check for duplicates\n",
        "duplicates = df.duplicated()\n",
        "num_duplicates = duplicates.sum()\n",
        "\n",
        "# Print the number of duplicates\n",
        "print(f'Number of duplicate rows: {num_duplicates}')\n"
      ]
    },
    {
      "cell_type": "code",
      "execution_count": null,
      "metadata": {
        "id": "vRE-Vb0bTr-B"
      },
      "outputs": [],
      "source": [
        "# Remove duplicates\n",
        "df = df.drop_duplicates()\n",
        "\n",
        "# Optionally, save the cleaned DataFrame back to a CSV file\n",
        "df.to_csv('cleaned_csv_file_path.csv', index=False)"
      ]
    },
    {
      "cell_type": "code",
      "execution_count": null,
      "metadata": {
        "colab": {
          "base_uri": "https://localhost:8080/"
        },
        "id": "qqAOSN0PTt1s",
        "outputId": "51e60a18-786c-44df-9dea-9c58c4cfdb76"
      },
      "outputs": [
        {
          "output_type": "stream",
          "name": "stdout",
          "text": [
            "\n",
            "DataFrame Summary:\n",
            "<class 'pandas.core.frame.DataFrame'>\n",
            "Index: 171 entries, 0 to 395\n",
            "Data columns (total 2 columns):\n",
            " #   Column  Non-Null Count  Dtype \n",
            "---  ------  --------------  ----- \n",
            " 0   input   171 non-null    object\n",
            " 1   output  171 non-null    object\n",
            "dtypes: object(2)\n",
            "memory usage: 4.0+ KB\n",
            "None\n"
          ]
        }
      ],
      "source": [
        "# Step 6: Summary of the DataFrame\n",
        "print(\"\\nDataFrame Summary:\")\n",
        "print(df.info())"
      ]
    },
    {
      "cell_type": "code",
      "execution_count": null,
      "metadata": {
        "colab": {
          "base_uri": "https://localhost:8080/",
          "height": 838
        },
        "id": "6A7fOf_ZTt1t",
        "outputId": "10503a81-09ec-46d7-c075-3172c46140b6"
      },
      "outputs": [
        {
          "output_type": "stream",
          "name": "stdout",
          "text": [
            "\n",
            "Class Distribution:\n",
            "output\n",
            "KO                    51\n",
            "interview-coaching    37\n",
            "cv_improver           32\n",
            "lm_improver           26\n",
            "best_jobs             25\n",
            "Name: count, dtype: int64\n"
          ]
        },
        {
          "output_type": "display_data",
          "data": {
            "text/plain": [
              "<Figure size 1000x600 with 1 Axes>"
            ],
            "image/png": "[encoded data removed]"
          },
          "metadata": {}
        }
      ],
      "source": [
        "# Step 7: Print and plot class distribution\n",
        "if 'output' in df.columns:\n",
        "    class_counts = df['output'].value_counts()\n",
        "    print(\"\\nClass Distribution:\")\n",
        "    print(class_counts)\n",
        "\n",
        "    # Plotting class distribution\n",
        "    plt.figure(figsize=(10, 6))\n",
        "    class_counts.plot(kind='bar')\n",
        "    plt.title('Class Distribution')\n",
        "    plt.xlabel('Class')\n",
        "    plt.ylabel('Frequency')\n",
        "    plt.show()\n",
        "else:\n",
        "    print(\"The dataset does not contain a 'output'.\")"
      ]
    },
    {
      "cell_type": "code",
      "source": [
        "# Calculate the length of each input\n",
        "df['input_length'] = df['input'].apply(len)"
      ],
      "metadata": {
        "id": "H4ony6HVgYQ8"
      },
      "execution_count": null,
      "outputs": []
    },
    {
      "cell_type": "code",
      "source": [
        "df.head()"
      ],
      "metadata": {
        "colab": {
          "base_uri": "https://localhost:8080/",
          "height": 206
        },
        "id": "YtsGBtnIgZQQ",
        "outputId": "03d5e3cc-d1f4-49c3-c763-0122856eb306"
      },
      "execution_count": null,
      "outputs": [
        {
          "output_type": "execute_result",
          "data": {
            "text/plain": [
              "                                               input       output  \\\n",
              "0  je cherche un emploi de développeur web en remote    best_jobs   \n",
              "1  recommandation pour trouver un poste de data s...    best_jobs   \n",
              "2  comment rédiger un CV efficace pour un poste d...  cv_improver   \n",
              "3  avis sur mon CV pour postuler comme ingénieur ...  cv_improver   \n",
              "4  peut-on améliorer mon CV pour un emploi de dév...  cv_improver   \n",
              "\n",
              "   input_length  \n",
              "0            49  \n",
              "1            62  \n",
              "2            72  \n",
              "3            61  \n",
              "4            60  "
            ],
            "text/html": [
              "\n",
              "  <div id=\"df-823e4326-60d6-454f-9107-e2df947f240c\" class=\"colab-df-container\">\n",
              "    <div>\n",
              "<style scoped>\n",
              "    .dataframe tbody tr th:only-of-type {\n",
              "        vertical-align: middle;\n",
              "    }\n",
              "\n",
              "    .dataframe tbody tr th {\n",
              "        vertical-align: top;\n",
              "    }\n",
              "\n",
              "    .dataframe thead th {\n",
              "        text-align: right;\n",
              "    }\n",
              "</style>\n",
              "<table border=\"1\" class=\"dataframe\">\n",
              "  <thead>\n",
              "    <tr style=\"text-align: right;\">\n",
              "      <th></th>\n",
              "      <th>input</th>\n",
              "      <th>output</th>\n",
              "      <th>input_length</th>\n",
              "    </tr>\n",
              "  </thead>\n",
              "  <tbody>\n",
              "    <tr>\n",
              "      <th>0</th>\n",
              "      <td>je cherche un emploi de développeur web en remote</td>\n",
              "      <td>best_jobs</td>\n",
              "      <td>49</td>\n",
              "    </tr>\n",
              "    <tr>\n",
              "      <th>1</th>\n",
              "      <td>recommandation pour trouver un poste de data s...</td>\n",
              "      <td>best_jobs</td>\n",
              "      <td>62</td>\n",
              "    </tr>\n",
              "    <tr>\n",
              "      <th>2</th>\n",
              "      <td>comment rédiger un CV efficace pour un poste d...</td>\n",
              "      <td>cv_improver</td>\n",
              "      <td>72</td>\n",
              "    </tr>\n",
              "    <tr>\n",
              "      <th>3</th>\n",
              "      <td>avis sur mon CV pour postuler comme ingénieur ...</td>\n",
              "      <td>cv_improver</td>\n",
              "      <td>61</td>\n",
              "    </tr>\n",
              "    <tr>\n",
              "      <th>4</th>\n",
              "      <td>peut-on améliorer mon CV pour un emploi de dév...</td>\n",
              "      <td>cv_improver</td>\n",
              "      <td>60</td>\n",
              "    </tr>\n",
              "  </tbody>\n",
              "</table>\n",
              "</div>\n",
              "    <div class=\"colab-df-buttons\">\n",
              "\n",
              "  <div class=\"colab-df-container\">\n",
              "    <button class=\"colab-df-convert\" onclick=\"convertToInteractive('df-823e4326-60d6-454f-9107-e2df947f240c')\"\n",
              "            title=\"Convert this dataframe to an interactive table.\"\n",
              "            style=\"display:none;\">\n",
              "\n",
              "  <svg xmlns=\"http://www.w3.org/2000/svg\" height=\"24px\" viewBox=\"0 -960 960 960\">\n",
              "    <path d=\"M120-120v-720h720v720H120Zm60-500h600v-160H180v160Zm220 220h160v-160H400v160Zm0 220h160v-160H400v160ZM180-400h160v-160H180v160Zm440 0h160v-160H620v160ZM180-180h160v-160H180v160Zm440 0h160v-160H620v160Z\"/>\n",
              "  </svg>\n",
              "    </button>\n",
              "\n",
              "  <style>\n",
              "    .colab-df-container {\n",
              "      display:flex;\n",
              "      gap: 12px;\n",
              "    }\n",
              "\n",
              "    .colab-df-convert {\n",
              "      background-color: #E8F0FE;\n",
              "      border: none;\n",
              "      border-radius: 50%;\n",
              "      cursor: pointer;\n",
              "      display: none;\n",
              "      fill: #1967D2;\n",
              "      height: 32px;\n",
              "      padding: 0 0 0 0;\n",
              "      width: 32px;\n",
              "    }\n",
              "\n",
              "    .colab-df-convert:hover {\n",
              "      background-color: #E2EBFA;\n",
              "      box-shadow: 0px 1px 2px rgba(60, 64, 67, 0.3), 0px 1px 3px 1px rgba(60, 64, 67, 0.15);\n",
              "      fill: #174EA6;\n",
              "    }\n",
              "\n",
              "    .colab-df-buttons div {\n",
              "      margin-bottom: 4px;\n",
              "    }\n",
              "\n",
              "    [theme=dark] .colab-df-convert {\n",
              "      background-color: #3B4455;\n",
              "      fill: #D2E3FC;\n",
              "    }\n",
              "\n",
              "    [theme=dark] .colab-df-convert:hover {\n",
              "      background-color: #434B5C;\n",
              "      box-shadow: 0px 1px 3px 1px rgba(0, 0, 0, 0.15);\n",
              "      filter: drop-shadow(0px 1px 2px rgba(0, 0, 0, 0.3));\n",
              "      fill: #FFFFFF;\n",
              "    }\n",
              "  </style>\n",
              "\n",
              "    <script>\n",
              "      const buttonEl =\n",
              "        document.querySelector('#df-823e4326-60d6-454f-9107-e2df947f240c button.colab-df-convert');\n",
              "      buttonEl.style.display =\n",
              "        google.colab.kernel.accessAllowed ? 'block' : 'none';\n",
              "\n",
              "      async function convertToInteractive(key) {\n",
              "        const element = document.querySelector('#df-823e4326-60d6-454f-9107-e2df947f240c');\n",
              "        const dataTable =\n",
              "          await google.colab.kernel.invokeFunction('convertToInteractive',\n",
              "                                                    [key], {});\n",
              "        if (!dataTable) return;\n",
              "\n",
              "        const docLinkHtml = 'Like what you see? Visit the ' +\n",
              "          '<a target=\"_blank\" href=https://colab.research.google.com/notebooks/data_table.ipynb>data table notebook</a>'\n",
              "          + ' to learn more about interactive tables.';\n",
              "        element.innerHTML = '';\n",
              "        dataTable['output_type'] = 'display_data';\n",
              "        await google.colab.output.renderOutput(dataTable, element);\n",
              "        const docLink = document.createElement('div');\n",
              "        docLink.innerHTML = docLinkHtml;\n",
              "        element.appendChild(docLink);\n",
              "      }\n",
              "    </script>\n",
              "  </div>\n",
              "\n",
              "\n",
              "<div id=\"df-719ef37b-0d06-4bf7-aedb-cee13fc1e7cc\">\n",
              "  <button class=\"colab-df-quickchart\" onclick=\"quickchart('df-719ef37b-0d06-4bf7-aedb-cee13fc1e7cc')\"\n",
              "            title=\"Suggest charts\"\n",
              "            style=\"display:none;\">\n",
              "\n",
              "<svg xmlns=\"http://www.w3.org/2000/svg\" height=\"24px\"viewBox=\"0 0 24 24\"\n",
              "     width=\"24px\">\n",
              "    <g>\n",
              "        <path d=\"M19 3H5c-1.1 0-2 .9-2 2v14c0 1.1.9 2 2 2h14c1.1 0 2-.9 2-2V5c0-1.1-.9-2-2-2zM9 17H7v-7h2v7zm4 0h-2V7h2v10zm4 0h-2v-4h2v4z\"/>\n",
              "    </g>\n",
              "</svg>\n",
              "  </button>\n",
              "\n",
              "<style>\n",
              "  .colab-df-quickchart {\n",
              "      --bg-color: #E8F0FE;\n",
              "      --fill-color: #1967D2;\n",
              "      --hover-bg-color: #E2EBFA;\n",
              "      --hover-fill-color: #174EA6;\n",
              "      --disabled-fill-color: #AAA;\n",
              "      --disabled-bg-color: #DDD;\n",
              "  }\n",
              "\n",
              "  [theme=dark] .colab-df-quickchart {\n",
              "      --bg-color: #3B4455;\n",
              "      --fill-color: #D2E3FC;\n",
              "      --hover-bg-color: #434B5C;\n",
              "      --hover-fill-color: #FFFFFF;\n",
              "      --disabled-bg-color: #3B4455;\n",
              "      --disabled-fill-color: #666;\n",
              "  }\n",
              "\n",
              "  .colab-df-quickchart {\n",
              "    background-color: var(--bg-color);\n",
              "    border: none;\n",
              "    border-radius: 50%;\n",
              "    cursor: pointer;\n",
              "    display: none;\n",
              "    fill: var(--fill-color);\n",
              "    height: 32px;\n",
              "    padding: 0;\n",
              "    width: 32px;\n",
              "  }\n",
              "\n",
              "  .colab-df-quickchart:hover {\n",
              "    background-color: var(--hover-bg-color);\n",
              "    box-shadow: 0 1px 2px rgba(60, 64, 67, 0.3), 0 1px 3px 1px rgba(60, 64, 67, 0.15);\n",
              "    fill: var(--button-hover-fill-color);\n",
              "  }\n",
              "\n",
              "  .colab-df-quickchart-complete:disabled,\n",
              "  .colab-df-quickchart-complete:disabled:hover {\n",
              "    background-color: var(--disabled-bg-color);\n",
              "    fill: var(--disabled-fill-color);\n",
              "    box-shadow: none;\n",
              "  }\n",
              "\n",
              "  .colab-df-spinner {\n",
              "    border: 2px solid var(--fill-color);\n",
              "    border-color: transparent;\n",
              "    border-bottom-color: var(--fill-color);\n",
              "    animation:\n",
              "      spin 1s steps(1) infinite;\n",
              "  }\n",
              "\n",
              "  @keyframes spin {\n",
              "    0% {\n",
              "      border-color: transparent;\n",
              "      border-bottom-color: var(--fill-color);\n",
              "      border-left-color: var(--fill-color);\n",
              "    }\n",
              "    20% {\n",
              "      border-color: transparent;\n",
              "      border-left-color: var(--fill-color);\n",
              "      border-top-color: var(--fill-color);\n",
              "    }\n",
              "    30% {\n",
              "      border-color: transparent;\n",
              "      border-left-color: var(--fill-color);\n",
              "      border-top-color: var(--fill-color);\n",
              "      border-right-color: var(--fill-color);\n",
              "    }\n",
              "    40% {\n",
              "      border-color: transparent;\n",
              "      border-right-color: var(--fill-color);\n",
              "      border-top-color: var(--fill-color);\n",
              "    }\n",
              "    60% {\n",
              "      border-color: transparent;\n",
              "      border-right-color: var(--fill-color);\n",
              "    }\n",
              "    80% {\n",
              "      border-color: transparent;\n",
              "      border-right-color: var(--fill-color);\n",
              "      border-bottom-color: var(--fill-color);\n",
              "    }\n",
              "    90% {\n",
              "      border-color: transparent;\n",
              "      border-bottom-color: var(--fill-color);\n",
              "    }\n",
              "  }\n",
              "</style>\n",
              "\n",
              "  <script>\n",
              "    async function quickchart(key) {\n",
              "      const quickchartButtonEl =\n",
              "        document.querySelector('#' + key + ' button');\n",
              "      quickchartButtonEl.disabled = true;  // To prevent multiple clicks.\n",
              "      quickchartButtonEl.classList.add('colab-df-spinner');\n",
              "      try {\n",
              "        const charts = await google.colab.kernel.invokeFunction(\n",
              "            'suggestCharts', [key], {});\n",
              "      } catch (error) {\n",
              "        console.error('Error during call to suggestCharts:', error);\n",
              "      }\n",
              "      quickchartButtonEl.classList.remove('colab-df-spinner');\n",
              "      quickchartButtonEl.classList.add('colab-df-quickchart-complete');\n",
              "    }\n",
              "    (() => {\n",
              "      let quickchartButtonEl =\n",
              "        document.querySelector('#df-719ef37b-0d06-4bf7-aedb-cee13fc1e7cc button');\n",
              "      quickchartButtonEl.style.display =\n",
              "        google.colab.kernel.accessAllowed ? 'block' : 'none';\n",
              "    })();\n",
              "  </script>\n",
              "</div>\n",
              "\n",
              "    </div>\n",
              "  </div>\n"
            ],
            "application/vnd.google.colaboratory.intrinsic+json": {
              "type": "dataframe",
              "variable_name": "df",
              "summary": "{\n  \"name\": \"df\",\n  \"rows\": 171,\n  \"fields\": [\n    {\n      \"column\": \"input\",\n      \"properties\": {\n        \"dtype\": \"string\",\n        \"num_unique_values\": 171,\n        \"samples\": [\n          \"comment choisir un bon vin ?\",\n          \"comment structurer un CV pour un poste de chef de projet technique ?\",\n          \"avis sur ma lettre de motivation pour une offre en d\\u00e9veloppement international\"\n        ],\n        \"semantic_type\": \"\",\n        \"description\": \"\"\n      }\n    },\n    {\n      \"column\": \"output\",\n      \"properties\": {\n        \"dtype\": \"category\",\n        \"num_unique_values\": 5,\n        \"samples\": [\n          \"cv_improver\",\n          \"KO\",\n          \"lm_improver\"\n        ],\n        \"semantic_type\": \"\",\n        \"description\": \"\"\n      }\n    },\n    {\n      \"column\": \"input_length\",\n      \"properties\": {\n        \"dtype\": \"number\",\n        \"std\": 47,\n        \"min\": 25,\n        \"max\": 237,\n        \"num_unique_values\": 93,\n        \"samples\": [\n          43,\n          65,\n          37\n        ],\n        \"semantic_type\": \"\",\n        \"description\": \"\"\n      }\n    }\n  ]\n}"
            }
          },
          "metadata": {},
          "execution_count": 42
        }
      ]
    },
    {
      "cell_type": "code",
      "source": [
        "# Group by 'output' and calculate the average input length\n",
        "average_length_per_class = df.groupby('output')['input_length'].mean()\n",
        "\n",
        "# Print the average lengths\n",
        "print(\"\\nAverage Input Length per Class:\")\n",
        "print(average_length_per_class)"
      ],
      "metadata": {
        "colab": {
          "base_uri": "https://localhost:8080/"
        },
        "id": "gcEIa_vhgbni",
        "outputId": "9fb8e35a-8470-440a-a7fe-e806e232d6ba"
      },
      "execution_count": null,
      "outputs": [
        {
          "output_type": "stream",
          "name": "stdout",
          "text": [
            "\n",
            "Average Input Length per Class:\n",
            "output\n",
            "KO                     43.960784\n",
            "best_jobs              91.000000\n",
            "cv_improver            87.937500\n",
            "interview-coaching    121.972973\n",
            "lm_improver            97.615385\n",
            "Name: input_length, dtype: float64\n"
          ]
        }
      ]
    },
    {
      "cell_type": "markdown",
      "source": [
        "# Data Augmentation"
      ],
      "metadata": {
        "id": "0mv3CIW4bG5I"
      }
    },
    {
      "cell_type": "code",
      "execution_count": null,
      "metadata": {
        "colab": {
          "base_uri": "https://localhost:8080/",
          "height": 1000
        },
        "id": "dkoSUoB-Vm_C",
        "outputId": "23d976e6-1191-4338-8fdd-e082776a410e"
      },
      "outputs": [
        {
          "output_type": "stream",
          "name": "stdout",
          "text": [
            "Requirement already satisfied: nltk in /usr/local/lib/python3.10/dist-packages (3.8.1)\n",
            "Collecting googletrans==4.0.0-rc1\n",
            "  Downloading googletrans-4.0.0rc1.tar.gz (20 kB)\n",
            "  Preparing metadata (setup.py) ... \u001b[?25l\u001b[?25hdone\n",
            "Requirement already satisfied: imbalanced-learn in /usr/local/lib/python3.10/dist-packages (0.10.1)\n",
            "Collecting httpx==0.13.3 (from googletrans==4.0.0-rc1)\n",
            "  Downloading httpx-0.13.3-py3-none-any.whl (55 kB)\n",
            "\u001b[2K     \u001b[90m━━━━━━━━━━━━━━━━━━━━━━━━━━━━━━━━━━━━━━━━\u001b[0m \u001b[32m55.1/55.1 kB\u001b[0m \u001b[31m4.2 MB/s\u001b[0m eta \u001b[36m0:00:00\u001b[0m\n",
            "\u001b[?25hRequirement already satisfied: certifi in /usr/local/lib/python3.10/dist-packages (from httpx==0.13.3->googletrans==4.0.0-rc1) (2024.6.2)\n",
            "Collecting hstspreload (from httpx==0.13.3->googletrans==4.0.0-rc1)\n",
            "  Downloading hstspreload-2024.6.1-py3-none-any.whl (1.2 MB)\n",
            "\u001b[2K     \u001b[90m━━━━━━━━━━━━━━━━━━━━━━━━━━━━━━━━━━━━━━━━\u001b[0m \u001b[32m1.2/1.2 MB\u001b[0m \u001b[31m31.5 MB/s\u001b[0m eta \u001b[36m0:00:00\u001b[0m\n",
            "\u001b[?25hRequirement already satisfied: sniffio in /usr/local/lib/python3.10/dist-packages (from httpx==0.13.3->googletrans==4.0.0-rc1) (1.3.1)\n",
            "Collecting chardet==3.* (from httpx==0.13.3->googletrans==4.0.0-rc1)\n",
            "  Downloading chardet-3.0.4-py2.py3-none-any.whl (133 kB)\n",
            "\u001b[2K     \u001b[90m━━━━━━━━━━━━━━━━━━━━━━━━━━━━━━━━━━━━━━━━\u001b[0m \u001b[32m133.4/133.4 kB\u001b[0m \u001b[31m13.6 MB/s\u001b[0m eta \u001b[36m0:00:00\u001b[0m\n",
            "\u001b[?25hCollecting idna==2.* (from httpx==0.13.3->googletrans==4.0.0-rc1)\n",
            "  Downloading idna-2.10-py2.py3-none-any.whl (58 kB)\n",
            "\u001b[2K     \u001b[90m━━━━━━━━━━━━━━━━━━━━━━━━━━━━━━━━━━━━━━━━\u001b[0m \u001b[32m58.8/58.8 kB\u001b[0m \u001b[31m7.7 MB/s\u001b[0m eta \u001b[36m0:00:00\u001b[0m\n",
            "\u001b[?25hCollecting rfc3986<2,>=1.3 (from httpx==0.13.3->googletrans==4.0.0-rc1)\n",
            "  Downloading rfc3986-1.5.0-py2.py3-none-any.whl (31 kB)\n",
            "Collecting httpcore==0.9.* (from httpx==0.13.3->googletrans==4.0.0-rc1)\n",
            "  Downloading httpcore-0.9.1-py3-none-any.whl (42 kB)\n",
            "\u001b[2K     \u001b[90m━━━━━━━━━━━━━━━━━━━━━━━━━━━━━━━━━━━━━━━━\u001b[0m \u001b[32m42.6/42.6 kB\u001b[0m \u001b[31m5.6 MB/s\u001b[0m eta \u001b[36m0:00:00\u001b[0m\n",
            "\u001b[?25hCollecting h11<0.10,>=0.8 (from httpcore==0.9.*->httpx==0.13.3->googletrans==4.0.0-rc1)\n",
            "  Downloading h11-0.9.0-py2.py3-none-any.whl (53 kB)\n",
            "\u001b[2K     \u001b[90m━━━━━━━━━━━━━━━━━━━━━━━━━━━━━━━━━━━━━━━━\u001b[0m \u001b[32m53.6/53.6 kB\u001b[0m \u001b[31m7.4 MB/s\u001b[0m eta \u001b[36m0:00:00\u001b[0m\n",
            "\u001b[?25hCollecting h2==3.* (from httpcore==0.9.*->httpx==0.13.3->googletrans==4.0.0-rc1)\n",
            "  Downloading h2-3.2.0-py2.py3-none-any.whl (65 kB)\n",
            "\u001b[2K     \u001b[90m━━━━━━━━━━━━━━━━━━━━━━━━━━━━━━━━━━━━━━━━\u001b[0m \u001b[32m65.0/65.0 kB\u001b[0m \u001b[31m7.8 MB/s\u001b[0m eta \u001b[36m0:00:00\u001b[0m\n",
            "\u001b[?25hCollecting hyperframe<6,>=5.2.0 (from h2==3.*->httpcore==0.9.*->httpx==0.13.3->googletrans==4.0.0-rc1)\n",
            "  Downloading hyperframe-5.2.0-py2.py3-none-any.whl (12 kB)\n",
            "Collecting hpack<4,>=3.0 (from h2==3.*->httpcore==0.9.*->httpx==0.13.3->googletrans==4.0.0-rc1)\n",
            "  Downloading hpack-3.0.0-py2.py3-none-any.whl (38 kB)\n",
            "Requirement already satisfied: click in /usr/local/lib/python3.10/dist-packages (from nltk) (8.1.7)\n",
            "Requirement already satisfied: joblib in /usr/local/lib/python3.10/dist-packages (from nltk) (1.4.2)\n",
            "Requirement already satisfied: regex>=2021.8.3 in /usr/local/lib/python3.10/dist-packages (from nltk) (2024.5.15)\n",
            "Requirement already satisfied: tqdm in /usr/local/lib/python3.10/dist-packages (from nltk) (4.66.4)\n",
            "Requirement already satisfied: numpy>=1.17.3 in /usr/local/lib/python3.10/dist-packages (from imbalanced-learn) (1.25.2)\n",
            "Requirement already satisfied: scipy>=1.3.2 in /usr/local/lib/python3.10/dist-packages (from imbalanced-learn) (1.11.4)\n",
            "Requirement already satisfied: scikit-learn>=1.0.2 in /usr/local/lib/python3.10/dist-packages (from imbalanced-learn) (1.2.2)\n",
            "Requirement already satisfied: threadpoolctl>=2.0.0 in /usr/local/lib/python3.10/dist-packages (from imbalanced-learn) (3.5.0)\n",
            "Building wheels for collected packages: googletrans\n",
            "  Building wheel for googletrans (setup.py) ... \u001b[?25l\u001b[?25hdone\n",
            "  Created wheel for googletrans: filename=googletrans-4.0.0rc1-py3-none-any.whl size=17395 sha256=029f31decd4217f1279c5caf82a4dd622dac469b92fa687ad98fab110042a88b\n",
            "  Stored in directory: /root/.cache/pip/wheels/c0/59/9f/7372f0cf70160fe61b528532e1a7c8498c4becd6bcffb022de\n",
            "Successfully built googletrans\n",
            "Installing collected packages: rfc3986, hyperframe, hpack, h11, chardet, idna, hstspreload, h2, httpcore, httpx, googletrans\n",
            "  Attempting uninstall: chardet\n",
            "    Found existing installation: chardet 5.2.0\n",
            "    Uninstalling chardet-5.2.0:\n",
            "      Successfully uninstalled chardet-5.2.0\n",
            "  Attempting uninstall: idna\n",
            "    Found existing installation: idna 3.7\n",
            "    Uninstalling idna-3.7:\n",
            "      Successfully uninstalled idna-3.7\n",
            "Successfully installed chardet-3.0.4 googletrans-4.0.0rc1 h11-0.9.0 h2-3.2.0 hpack-3.0.0 hstspreload-2024.6.1 httpcore-0.9.1 httpx-0.13.3 hyperframe-5.2.0 idna-2.10 rfc3986-1.5.0\n"
          ]
        },
        {
          "output_type": "display_data",
          "data": {
            "application/vnd.colab-display-data+json": {
              "pip_warning": {
                "packages": [
                  "chardet",
                  "idna"
                ]
              },
              "id": "f8969228b37f4e0687d1d47084c0bbd2"
            }
          },
          "metadata": {}
        }
      ],
      "source": [
        "pip install nltk googletrans==4.0.0-rc1 imbalanced-learn\n"
      ]
    },
    {
      "cell_type": "code",
      "execution_count": null,
      "metadata": {
        "colab": {
          "base_uri": "https://localhost:8080/"
        },
        "id": "xfxW7PSDVqJT",
        "outputId": "d562b04a-ce32-41b3-c848-a8eafa2973a4"
      },
      "outputs": [
        {
          "output_type": "stream",
          "name": "stderr",
          "text": [
            "[nltk_data] Downloading package wordnet to /root/nltk_data...\n",
            "[nltk_data] Downloading package omw-1.4 to /root/nltk_data...\n"
          ]
        },
        {
          "output_type": "execute_result",
          "data": {
            "text/plain": [
              "True"
            ]
          },
          "metadata": {},
          "execution_count": 14
        }
      ],
      "source": [
        "import pandas as pd\n",
        "import random\n",
        "from nltk.corpus import wordnet\n",
        "from googletrans import Translator\n",
        "from imblearn.over_sampling import SMOTE\n",
        "from sklearn.feature_extraction.text import TfidfVectorizer\n",
        "import nltk\n",
        "\n",
        "# Download NLTK data\n",
        "nltk.download('wordnet')\n",
        "nltk.download('omw-1.4')"
      ]
    },
    {
      "cell_type": "code",
      "execution_count": null,
      "metadata": {
        "id": "lNrB0moRWqcr"
      },
      "outputs": [],
      "source": [
        "# Synonym replacement function for French\n",
        "def synonym_replacement_french(text):\n",
        "    words = text.split()\n",
        "    new_words = words.copy()\n",
        "    for i, word in enumerate(words):\n",
        "        synonyms = wordnet.synsets(word, lang='fra')\n",
        "        if synonyms:\n",
        "            synonym = synonyms[0].lemmas(lang='fra')[0].name()\n",
        "            if synonym != word:\n",
        "                new_words[i] = synonym\n",
        "    return ' '.join(new_words)\n"
      ]
    },
    {
      "cell_type": "code",
      "execution_count": null,
      "metadata": {
        "id": "Il-OJ-BEWnnG"
      },
      "outputs": [],
      "source": [
        "# Back translation function\n",
        "def back_translation_french(text, src='fr', mid='en'):\n",
        "    translator = Translator()\n",
        "    translated = translator.translate(text, src=src, dest=mid).text\n",
        "    back_translated = translator.translate(translated, src=mid, dest=src).text\n",
        "    return back_translated\n"
      ]
    },
    {
      "cell_type": "code",
      "execution_count": null,
      "metadata": {
        "id": "UZLQHqwVWgM1"
      },
      "outputs": [],
      "source": [
        "# Function to augment data\n",
        "def augment_data(df, target_label, n_samples):\n",
        "    df_class = df[df['output'] == target_label]\n",
        "    augmented_texts = df_class['input'].tolist()\n",
        "\n",
        "    while len(augmented_texts) < n_samples:\n",
        "        for text in df_class['input']:\n",
        "            if len(augmented_texts) >= n_samples:\n",
        "                break\n",
        "            augmented_texts.append(synonym_replacement_french(text))\n",
        "            if len(augmented_texts) >= n_samples:\n",
        "                break\n",
        "            augmented_texts.append(back_translation_french(text))\n",
        "\n",
        "    augmented_df = pd.DataFrame({'input': augmented_texts[:n_samples], 'output': [target_label] * n_samples})\n",
        "    return augmented_df"
      ]
    },
    {
      "cell_type": "code",
      "execution_count": null,
      "metadata": {
        "id": "e77tq1ETWheH"
      },
      "outputs": [],
      "source": [
        "# Apply data augmentation to each class\n",
        "target_samples_per_class = 200\n",
        "augmented_dfs = []\n",
        "\n",
        "for label in df['output'].unique():\n",
        "    augmented_df = augment_data(df, label, target_samples_per_class)\n",
        "    augmented_dfs.append(augmented_df)\n",
        "\n",
        "# Combine all augmented dataframes\n",
        "df_augmented = pd.concat(augmented_dfs)"
      ]
    },
    {
      "cell_type": "code",
      "source": [
        "# Save the combined dataframe to Google Drive\n",
        "df_augmented.to_csv('/content/drive/MyDrive/Prompt-classifier/augmented_data.csv', index=False)"
      ],
      "metadata": {
        "id": "9doOawlubD8Z"
      },
      "execution_count": null,
      "outputs": []
    },
    {
      "cell_type": "code",
      "source": [
        "# Display the new data summary\n",
        "print(\"New Data Summary:\")\n",
        "print(df_augmented.info())\n",
        "print(\"\\nClass Distribution after Augmentation:\")\n",
        "print(df_augmented['output'].value_counts())\n"
      ],
      "metadata": {
        "colab": {
          "base_uri": "https://localhost:8080/"
        },
        "id": "CVxqqw8CZavf",
        "outputId": "04a3e5ef-463a-42b5-c7e1-64e036e797b4"
      },
      "execution_count": null,
      "outputs": [
        {
          "output_type": "stream",
          "name": "stdout",
          "text": [
            "New Data Summary:\n",
            "<class 'pandas.core.frame.DataFrame'>\n",
            "Index: 1000 entries, 0 to 199\n",
            "Data columns (total 2 columns):\n",
            " #   Column  Non-Null Count  Dtype \n",
            "---  ------  --------------  ----- \n",
            " 0   input   1000 non-null   object\n",
            " 1   output  1000 non-null   object\n",
            "dtypes: object(2)\n",
            "memory usage: 23.4+ KB\n",
            "None\n",
            "\n",
            "Class Distribution after Augmentation:\n",
            "output\n",
            "best_jobs             200\n",
            "cv_improver           200\n",
            "lm_improver           200\n",
            "interview-coaching    200\n",
            "KO                    200\n",
            "Name: count, dtype: int64\n"
          ]
        }
      ]
    },
    {
      "cell_type": "code",
      "execution_count": null,
      "metadata": {
        "id": "wdnD8toXWjGF"
      },
      "outputs": [],
      "source": [
        "# Separate features and target\n",
        "X = df_augmented['input']\n",
        "y = df_augmented['output']"
      ]
    },
    {
      "cell_type": "markdown",
      "metadata": {
        "id": "3W8Y0XikTt1u"
      },
      "source": [
        "# Adding a preprocessing layer"
      ]
    },
    {
      "cell_type": "code",
      "execution_count": null,
      "metadata": {
        "colab": {
          "base_uri": "https://localhost:8080/"
        },
        "id": "gzfll1RCVQXz",
        "outputId": "e074421e-79b2-4e86-c8a2-44a58d1c3282"
      },
      "outputs": [
        {
          "output_type": "stream",
          "name": "stdout",
          "text": [
            "Requirement already satisfied: spacy in /usr/local/lib/python3.10/dist-packages (3.7.5)\n",
            "Requirement already satisfied: spacy-legacy<3.1.0,>=3.0.11 in /usr/local/lib/python3.10/dist-packages (from spacy) (3.0.12)\n",
            "Requirement already satisfied: spacy-loggers<2.0.0,>=1.0.0 in /usr/local/lib/python3.10/dist-packages (from spacy) (1.0.5)\n",
            "Requirement already satisfied: murmurhash<1.1.0,>=0.28.0 in /usr/local/lib/python3.10/dist-packages (from spacy) (1.0.10)\n",
            "Requirement already satisfied: cymem<2.1.0,>=2.0.2 in /usr/local/lib/python3.10/dist-packages (from spacy) (2.0.8)\n",
            "Requirement already satisfied: preshed<3.1.0,>=3.0.2 in /usr/local/lib/python3.10/dist-packages (from spacy) (3.0.9)\n",
            "Requirement already satisfied: thinc<8.3.0,>=8.2.2 in /usr/local/lib/python3.10/dist-packages (from spacy) (8.2.5)\n",
            "Requirement already satisfied: wasabi<1.2.0,>=0.9.1 in /usr/local/lib/python3.10/dist-packages (from spacy) (1.1.3)\n",
            "Requirement already satisfied: srsly<3.0.0,>=2.4.3 in /usr/local/lib/python3.10/dist-packages (from spacy) (2.4.8)\n",
            "Requirement already satisfied: catalogue<2.1.0,>=2.0.6 in /usr/local/lib/python3.10/dist-packages (from spacy) (2.0.10)\n",
            "Requirement already satisfied: weasel<0.5.0,>=0.1.0 in /usr/local/lib/python3.10/dist-packages (from spacy) (0.4.1)\n",
            "Requirement already satisfied: typer<1.0.0,>=0.3.0 in /usr/local/lib/python3.10/dist-packages (from spacy) (0.12.3)\n",
            "Requirement already satisfied: tqdm<5.0.0,>=4.38.0 in /usr/local/lib/python3.10/dist-packages (from spacy) (4.66.4)\n",
            "Requirement already satisfied: requests<3.0.0,>=2.13.0 in /usr/local/lib/python3.10/dist-packages (from spacy) (2.31.0)\n",
            "Requirement already satisfied: pydantic!=1.8,!=1.8.1,<3.0.0,>=1.7.4 in /usr/local/lib/python3.10/dist-packages (from spacy) (2.7.4)\n",
            "Requirement already satisfied: jinja2 in /usr/local/lib/python3.10/dist-packages (from spacy) (3.1.4)\n",
            "Requirement already satisfied: setuptools in /usr/local/lib/python3.10/dist-packages (from spacy) (67.7.2)\n",
            "Requirement already satisfied: packaging>=20.0 in /usr/local/lib/python3.10/dist-packages (from spacy) (24.1)\n",
            "Requirement already satisfied: langcodes<4.0.0,>=3.2.0 in /usr/local/lib/python3.10/dist-packages (from spacy) (3.4.0)\n",
            "Requirement already satisfied: numpy>=1.19.0 in /usr/local/lib/python3.10/dist-packages (from spacy) (1.25.2)\n",
            "Requirement already satisfied: language-data>=1.2 in /usr/local/lib/python3.10/dist-packages (from langcodes<4.0.0,>=3.2.0->spacy) (1.2.0)\n",
            "Requirement already satisfied: annotated-types>=0.4.0 in /usr/local/lib/python3.10/dist-packages (from pydantic!=1.8,!=1.8.1,<3.0.0,>=1.7.4->spacy) (0.7.0)\n",
            "Requirement already satisfied: pydantic-core==2.18.4 in /usr/local/lib/python3.10/dist-packages (from pydantic!=1.8,!=1.8.1,<3.0.0,>=1.7.4->spacy) (2.18.4)\n",
            "Requirement already satisfied: typing-extensions>=4.6.1 in /usr/local/lib/python3.10/dist-packages (from pydantic!=1.8,!=1.8.1,<3.0.0,>=1.7.4->spacy) (4.12.2)\n",
            "Requirement already satisfied: charset-normalizer<4,>=2 in /usr/local/lib/python3.10/dist-packages (from requests<3.0.0,>=2.13.0->spacy) (3.3.2)\n",
            "Requirement already satisfied: idna<4,>=2.5 in /usr/local/lib/python3.10/dist-packages (from requests<3.0.0,>=2.13.0->spacy) (3.7)\n",
            "Requirement already satisfied: urllib3<3,>=1.21.1 in /usr/local/lib/python3.10/dist-packages (from requests<3.0.0,>=2.13.0->spacy) (2.0.7)\n",
            "Requirement already satisfied: certifi>=2017.4.17 in /usr/local/lib/python3.10/dist-packages (from requests<3.0.0,>=2.13.0->spacy) (2024.6.2)\n",
            "Requirement already satisfied: blis<0.8.0,>=0.7.8 in /usr/local/lib/python3.10/dist-packages (from thinc<8.3.0,>=8.2.2->spacy) (0.7.11)\n",
            "Requirement already satisfied: confection<1.0.0,>=0.0.1 in /usr/local/lib/python3.10/dist-packages (from thinc<8.3.0,>=8.2.2->spacy) (0.1.5)\n",
            "Requirement already satisfied: click>=8.0.0 in /usr/local/lib/python3.10/dist-packages (from typer<1.0.0,>=0.3.0->spacy) (8.1.7)\n",
            "Requirement already satisfied: shellingham>=1.3.0 in /usr/local/lib/python3.10/dist-packages (from typer<1.0.0,>=0.3.0->spacy) (1.5.4)\n",
            "Requirement already satisfied: rich>=10.11.0 in /usr/local/lib/python3.10/dist-packages (from typer<1.0.0,>=0.3.0->spacy) (13.7.1)\n",
            "Requirement already satisfied: cloudpathlib<1.0.0,>=0.7.0 in /usr/local/lib/python3.10/dist-packages (from weasel<0.5.0,>=0.1.0->spacy) (0.18.1)\n",
            "Requirement already satisfied: smart-open<8.0.0,>=5.2.1 in /usr/local/lib/python3.10/dist-packages (from weasel<0.5.0,>=0.1.0->spacy) (7.0.4)\n",
            "Requirement already satisfied: MarkupSafe>=2.0 in /usr/local/lib/python3.10/dist-packages (from jinja2->spacy) (2.1.5)\n",
            "Requirement already satisfied: marisa-trie>=0.7.7 in /usr/local/lib/python3.10/dist-packages (from language-data>=1.2->langcodes<4.0.0,>=3.2.0->spacy) (1.2.0)\n",
            "Requirement already satisfied: markdown-it-py>=2.2.0 in /usr/local/lib/python3.10/dist-packages (from rich>=10.11.0->typer<1.0.0,>=0.3.0->spacy) (3.0.0)\n",
            "Requirement already satisfied: pygments<3.0.0,>=2.13.0 in /usr/local/lib/python3.10/dist-packages (from rich>=10.11.0->typer<1.0.0,>=0.3.0->spacy) (2.16.1)\n",
            "Requirement already satisfied: wrapt in /usr/local/lib/python3.10/dist-packages (from smart-open<8.0.0,>=5.2.1->weasel<0.5.0,>=0.1.0->spacy) (1.14.1)\n",
            "Requirement already satisfied: mdurl~=0.1 in /usr/local/lib/python3.10/dist-packages (from markdown-it-py>=2.2.0->rich>=10.11.0->typer<1.0.0,>=0.3.0->spacy) (0.1.2)\n",
            "Collecting fr-core-news-sm==3.7.0\n",
            "  Downloading https://github.com/explosion/spacy-models/releases/download/fr_core_news_sm-3.7.0/fr_core_news_sm-3.7.0-py3-none-any.whl (16.3 MB)\n",
            "\u001b[2K     \u001b[90m━━━━━━━━━━━━━━━━━━━━━━━━━━━━━━━━━━━━━━━━\u001b[0m \u001b[32m16.3/16.3 MB\u001b[0m \u001b[31m48.4 MB/s\u001b[0m eta \u001b[36m0:00:00\u001b[0m\n",
            "\u001b[?25hRequirement already satisfied: spacy<3.8.0,>=3.7.0 in /usr/local/lib/python3.10/dist-packages (from fr-core-news-sm==3.7.0) (3.7.5)\n",
            "Requirement already satisfied: spacy-legacy<3.1.0,>=3.0.11 in /usr/local/lib/python3.10/dist-packages (from spacy<3.8.0,>=3.7.0->fr-core-news-sm==3.7.0) (3.0.12)\n",
            "Requirement already satisfied: spacy-loggers<2.0.0,>=1.0.0 in /usr/local/lib/python3.10/dist-packages (from spacy<3.8.0,>=3.7.0->fr-core-news-sm==3.7.0) (1.0.5)\n",
            "Requirement already satisfied: murmurhash<1.1.0,>=0.28.0 in /usr/local/lib/python3.10/dist-packages (from spacy<3.8.0,>=3.7.0->fr-core-news-sm==3.7.0) (1.0.10)\n",
            "Requirement already satisfied: cymem<2.1.0,>=2.0.2 in /usr/local/lib/python3.10/dist-packages (from spacy<3.8.0,>=3.7.0->fr-core-news-sm==3.7.0) (2.0.8)\n",
            "Requirement already satisfied: preshed<3.1.0,>=3.0.2 in /usr/local/lib/python3.10/dist-packages (from spacy<3.8.0,>=3.7.0->fr-core-news-sm==3.7.0) (3.0.9)\n",
            "Requirement already satisfied: thinc<8.3.0,>=8.2.2 in /usr/local/lib/python3.10/dist-packages (from spacy<3.8.0,>=3.7.0->fr-core-news-sm==3.7.0) (8.2.5)\n",
            "Requirement already satisfied: wasabi<1.2.0,>=0.9.1 in /usr/local/lib/python3.10/dist-packages (from spacy<3.8.0,>=3.7.0->fr-core-news-sm==3.7.0) (1.1.3)\n",
            "Requirement already satisfied: srsly<3.0.0,>=2.4.3 in /usr/local/lib/python3.10/dist-packages (from spacy<3.8.0,>=3.7.0->fr-core-news-sm==3.7.0) (2.4.8)\n",
            "Requirement already satisfied: catalogue<2.1.0,>=2.0.6 in /usr/local/lib/python3.10/dist-packages (from spacy<3.8.0,>=3.7.0->fr-core-news-sm==3.7.0) (2.0.10)\n",
            "Requirement already satisfied: weasel<0.5.0,>=0.1.0 in /usr/local/lib/python3.10/dist-packages (from spacy<3.8.0,>=3.7.0->fr-core-news-sm==3.7.0) (0.4.1)\n",
            "Requirement already satisfied: typer<1.0.0,>=0.3.0 in /usr/local/lib/python3.10/dist-packages (from spacy<3.8.0,>=3.7.0->fr-core-news-sm==3.7.0) (0.12.3)\n",
            "Requirement already satisfied: tqdm<5.0.0,>=4.38.0 in /usr/local/lib/python3.10/dist-packages (from spacy<3.8.0,>=3.7.0->fr-core-news-sm==3.7.0) (4.66.4)\n",
            "Requirement already satisfied: requests<3.0.0,>=2.13.0 in /usr/local/lib/python3.10/dist-packages (from spacy<3.8.0,>=3.7.0->fr-core-news-sm==3.7.0) (2.31.0)\n",
            "Requirement already satisfied: pydantic!=1.8,!=1.8.1,<3.0.0,>=1.7.4 in /usr/local/lib/python3.10/dist-packages (from spacy<3.8.0,>=3.7.0->fr-core-news-sm==3.7.0) (2.7.4)\n",
            "Requirement already satisfied: jinja2 in /usr/local/lib/python3.10/dist-packages (from spacy<3.8.0,>=3.7.0->fr-core-news-sm==3.7.0) (3.1.4)\n",
            "Requirement already satisfied: setuptools in /usr/local/lib/python3.10/dist-packages (from spacy<3.8.0,>=3.7.0->fr-core-news-sm==3.7.0) (67.7.2)\n",
            "Requirement already satisfied: packaging>=20.0 in /usr/local/lib/python3.10/dist-packages (from spacy<3.8.0,>=3.7.0->fr-core-news-sm==3.7.0) (24.1)\n",
            "Requirement already satisfied: langcodes<4.0.0,>=3.2.0 in /usr/local/lib/python3.10/dist-packages (from spacy<3.8.0,>=3.7.0->fr-core-news-sm==3.7.0) (3.4.0)\n",
            "Requirement already satisfied: numpy>=1.19.0 in /usr/local/lib/python3.10/dist-packages (from spacy<3.8.0,>=3.7.0->fr-core-news-sm==3.7.0) (1.25.2)\n",
            "Requirement already satisfied: language-data>=1.2 in /usr/local/lib/python3.10/dist-packages (from langcodes<4.0.0,>=3.2.0->spacy<3.8.0,>=3.7.0->fr-core-news-sm==3.7.0) (1.2.0)\n",
            "Requirement already satisfied: annotated-types>=0.4.0 in /usr/local/lib/python3.10/dist-packages (from pydantic!=1.8,!=1.8.1,<3.0.0,>=1.7.4->spacy<3.8.0,>=3.7.0->fr-core-news-sm==3.7.0) (0.7.0)\n",
            "Requirement already satisfied: pydantic-core==2.18.4 in /usr/local/lib/python3.10/dist-packages (from pydantic!=1.8,!=1.8.1,<3.0.0,>=1.7.4->spacy<3.8.0,>=3.7.0->fr-core-news-sm==3.7.0) (2.18.4)\n",
            "Requirement already satisfied: typing-extensions>=4.6.1 in /usr/local/lib/python3.10/dist-packages (from pydantic!=1.8,!=1.8.1,<3.0.0,>=1.7.4->spacy<3.8.0,>=3.7.0->fr-core-news-sm==3.7.0) (4.12.2)\n",
            "Requirement already satisfied: charset-normalizer<4,>=2 in /usr/local/lib/python3.10/dist-packages (from requests<3.0.0,>=2.13.0->spacy<3.8.0,>=3.7.0->fr-core-news-sm==3.7.0) (3.3.2)\n",
            "Requirement already satisfied: idna<4,>=2.5 in /usr/local/lib/python3.10/dist-packages (from requests<3.0.0,>=2.13.0->spacy<3.8.0,>=3.7.0->fr-core-news-sm==3.7.0) (3.7)\n",
            "Requirement already satisfied: urllib3<3,>=1.21.1 in /usr/local/lib/python3.10/dist-packages (from requests<3.0.0,>=2.13.0->spacy<3.8.0,>=3.7.0->fr-core-news-sm==3.7.0) (2.0.7)\n",
            "Requirement already satisfied: certifi>=2017.4.17 in /usr/local/lib/python3.10/dist-packages (from requests<3.0.0,>=2.13.0->spacy<3.8.0,>=3.7.0->fr-core-news-sm==3.7.0) (2024.6.2)\n",
            "Requirement already satisfied: blis<0.8.0,>=0.7.8 in /usr/local/lib/python3.10/dist-packages (from thinc<8.3.0,>=8.2.2->spacy<3.8.0,>=3.7.0->fr-core-news-sm==3.7.0) (0.7.11)\n",
            "Requirement already satisfied: confection<1.0.0,>=0.0.1 in /usr/local/lib/python3.10/dist-packages (from thinc<8.3.0,>=8.2.2->spacy<3.8.0,>=3.7.0->fr-core-news-sm==3.7.0) (0.1.5)\n",
            "Requirement already satisfied: click>=8.0.0 in /usr/local/lib/python3.10/dist-packages (from typer<1.0.0,>=0.3.0->spacy<3.8.0,>=3.7.0->fr-core-news-sm==3.7.0) (8.1.7)\n",
            "Requirement already satisfied: shellingham>=1.3.0 in /usr/local/lib/python3.10/dist-packages (from typer<1.0.0,>=0.3.0->spacy<3.8.0,>=3.7.0->fr-core-news-sm==3.7.0) (1.5.4)\n",
            "Requirement already satisfied: rich>=10.11.0 in /usr/local/lib/python3.10/dist-packages (from typer<1.0.0,>=0.3.0->spacy<3.8.0,>=3.7.0->fr-core-news-sm==3.7.0) (13.7.1)\n",
            "Requirement already satisfied: cloudpathlib<1.0.0,>=0.7.0 in /usr/local/lib/python3.10/dist-packages (from weasel<0.5.0,>=0.1.0->spacy<3.8.0,>=3.7.0->fr-core-news-sm==3.7.0) (0.18.1)\n",
            "Requirement already satisfied: smart-open<8.0.0,>=5.2.1 in /usr/local/lib/python3.10/dist-packages (from weasel<0.5.0,>=0.1.0->spacy<3.8.0,>=3.7.0->fr-core-news-sm==3.7.0) (7.0.4)\n",
            "Requirement already satisfied: MarkupSafe>=2.0 in /usr/local/lib/python3.10/dist-packages (from jinja2->spacy<3.8.0,>=3.7.0->fr-core-news-sm==3.7.0) (2.1.5)\n",
            "Requirement already satisfied: marisa-trie>=0.7.7 in /usr/local/lib/python3.10/dist-packages (from language-data>=1.2->langcodes<4.0.0,>=3.2.0->spacy<3.8.0,>=3.7.0->fr-core-news-sm==3.7.0) (1.2.0)\n",
            "Requirement already satisfied: markdown-it-py>=2.2.0 in /usr/local/lib/python3.10/dist-packages (from rich>=10.11.0->typer<1.0.0,>=0.3.0->spacy<3.8.0,>=3.7.0->fr-core-news-sm==3.7.0) (3.0.0)\n",
            "Requirement already satisfied: pygments<3.0.0,>=2.13.0 in /usr/local/lib/python3.10/dist-packages (from rich>=10.11.0->typer<1.0.0,>=0.3.0->spacy<3.8.0,>=3.7.0->fr-core-news-sm==3.7.0) (2.16.1)\n",
            "Requirement already satisfied: wrapt in /usr/local/lib/python3.10/dist-packages (from smart-open<8.0.0,>=5.2.1->weasel<0.5.0,>=0.1.0->spacy<3.8.0,>=3.7.0->fr-core-news-sm==3.7.0) (1.14.1)\n",
            "Requirement already satisfied: mdurl~=0.1 in /usr/local/lib/python3.10/dist-packages (from markdown-it-py>=2.2.0->rich>=10.11.0->typer<1.0.0,>=0.3.0->spacy<3.8.0,>=3.7.0->fr-core-news-sm==3.7.0) (0.1.2)\n",
            "Installing collected packages: fr-core-news-sm\n",
            "Successfully installed fr-core-news-sm-3.7.0\n",
            "\u001b[38;5;2m✔ Download and installation successful\u001b[0m\n",
            "You can now load the package via spacy.load('fr_core_news_sm')\n",
            "\u001b[38;5;3m⚠ Restart to reload dependencies\u001b[0m\n",
            "If you are in a Jupyter or Colab notebook, you may need to restart Python in\n",
            "order to load all the package's dependencies. You can do this by selecting the\n",
            "'Restart kernel' or 'Restart runtime' option.\n"
          ]
        }
      ],
      "source": [
        "!pip install spacy\n",
        "!python -m spacy download fr_core_news_sm"
      ]
    },
    {
      "cell_type": "code",
      "execution_count": null,
      "metadata": {
        "colab": {
          "base_uri": "https://localhost:8080/"
        },
        "id": "4Lw-vqSkTt1v",
        "outputId": "d0a28c7c-2416-424a-af1f-65ee69ded2ba"
      },
      "outputs": [
        {
          "output_type": "stream",
          "name": "stderr",
          "text": [
            "[nltk_data] Downloading package stopwords to /root/nltk_data...\n",
            "[nltk_data]   Unzipping corpora/stopwords.zip.\n",
            "[nltk_data] Downloading package punkt to /root/nltk_data...\n",
            "[nltk_data]   Unzipping tokenizers/punkt.zip.\n"
          ]
        },
        {
          "output_type": "stream",
          "name": "stdout",
          "text": [
            "cherche emploi développeur web remote\n"
          ]
        }
      ],
      "source": [
        "import pandas as pd\n",
        "import random\n",
        "from nltk.corpus import stopwords\n",
        "from nltk.tokenize import word_tokenize\n",
        "import nltk\n",
        "import spacy\n",
        "import re\n",
        "\n",
        "# Download necessary NLTK resources\n",
        "nltk.download('stopwords')\n",
        "nltk.download('punkt')\n",
        "\n",
        "# Load SpaCy model for French\n",
        "nlp = spacy.load('fr_core_news_sm')\n",
        "\n",
        "# Function to resolve contractions using SpaCy\n",
        "def resolve_contractions_spacy(text):\n",
        "    doc = nlp(text)\n",
        "    tokens = [token.text for token in doc]\n",
        "    return ' '.join(tokens)\n",
        "\n",
        "# Basic text cleaning function with POS tagging and lemmatization we can remove single characters too\n",
        "def preprocess_text(text):\n",
        "    # Resolve contractions\n",
        "    text = resolve_contractions_spacy(text)\n",
        "    # Lowercase\n",
        "    text = text.lower()\n",
        "    # Remove punctuation\n",
        "    text = re.sub(r'[^\\w\\s]', '', text)\n",
        "    # Process text with SpaCy for tokenization, POS tagging, and lemmatization\n",
        "    doc = nlp(text)\n",
        "    # Remove stopwords and perform lemmatization\n",
        "    french_stopwords = set(stopwords.words('french'))\n",
        "    words = [token.lemma_ for token in doc if token.text not in french_stopwords and token.pos_ != 'PUNCT']\n",
        "    # Rejoin words into a single string\n",
        "    cleaned_text = ' '.join(words)\n",
        "    # Remove trailing spaces and multiple spaces\n",
        "    cleaned_text = re.sub(r'\\s+', ' ', cleaned_text).strip()\n",
        "    return cleaned_text\n",
        "\n",
        "# Example usage\n",
        "text_example = \"Je cherche un emploi de développeur web en remote.\"\n",
        "cleaned_text = preprocess_text(text_example)\n",
        "print(cleaned_text)\n"
      ]
    },
    {
      "cell_type": "code",
      "execution_count": null,
      "metadata": {
        "id": "BwuyG5sxIkm8"
      },
      "outputs": [],
      "source": [
        "# Apply text preprocessing\n",
        "df_augmented['input'] = df_augmented['input'].apply(preprocess_text)"
      ]
    },
    {
      "cell_type": "code",
      "source": [
        "# Save the combined dataframe to Google Drive\n",
        "df_augmented.to_csv('/content/drive/MyDrive/Prompt-classifier/preprocessed_augmented_data.csv', index=False)"
      ],
      "metadata": {
        "id": "JSdBfFjAirjv"
      },
      "execution_count": null,
      "outputs": []
    },
    {
      "cell_type": "code",
      "source": [
        "# Display the head of the DataFrame after preprocessing\n",
        "print(\"Head of the DataFrame after preprocessing:\")\n",
        "print(df_augmented.head())"
      ],
      "metadata": {
        "colab": {
          "base_uri": "https://localhost:8080/"
        },
        "id": "HRT5ARzkaHUU",
        "outputId": "a88fcd43-bbd5-44f0-f6d5-09f0a6c5a034"
      },
      "execution_count": null,
      "outputs": [
        {
          "output_type": "stream",
          "name": "stdout",
          "text": [
            "Head of the DataFrame after preprocessing:\n",
            "                                               input     output\n",
            "0              cherche emploi développeur web remote  best_jobs\n",
            "1  recommandation trouver poste dater scientist pari  best_jobs\n",
            "2  recherche opportunité tant analyste financier ...  best_jobs\n",
            "3           conseil trouver emploi marketing digital  best_jobs\n",
            "4           conseil postuler emploi développeur java  best_jobs\n"
          ]
        }
      ]
    },
    {
      "cell_type": "markdown",
      "source": [
        "#TF-IDF Vectorization"
      ],
      "metadata": {
        "id": "fAWPsH43aKml"
      }
    },
    {
      "cell_type": "code",
      "source": [
        "csv_file_path = '/content/drive/MyDrive/Prompt-classifier/augmented_data.csv'\n",
        "\n",
        "# Read the CSV file into a DataFrame\n",
        "df_augmented = pd.read_csv(csv_file_path)"
      ],
      "metadata": {
        "id": "aHpqZI7eush_"
      },
      "execution_count": null,
      "outputs": []
    },
    {
      "cell_type": "code",
      "execution_count": null,
      "metadata": {
        "id": "DS4w_YP_IQca"
      },
      "outputs": [],
      "source": [
        "# Feature Engineering - TF-IDF Vectorization\n",
        "vectorizer = TfidfVectorizer(max_features=1000)\n",
        "X = vectorizer.fit_transform(df_augmented['input'])"
      ]
    },
    {
      "cell_type": "code",
      "source": [
        "y = df_augmented['output']"
      ],
      "metadata": {
        "id": "ZoBMipDrupYN"
      },
      "execution_count": null,
      "outputs": []
    },
    {
      "cell_type": "code",
      "execution_count": null,
      "metadata": {
        "id": "UwcTgo6IVtqX"
      },
      "outputs": [],
      "source": [
        "# Convert the TF-IDF matrix to a DataFrame (for inspecting the terms, if needed)\n",
        "tfidf_df = pd.DataFrame(X.toarray(), columns=vectorizer.get_feature_names_out())"
      ]
    },
    {
      "cell_type": "code",
      "source": [
        "tfidf_df.head()"
      ],
      "metadata": {
        "colab": {
          "base_uri": "https://localhost:8080/",
          "height": 255
        },
        "id": "87bLJIiec6oK",
        "outputId": "84f31d98-90d6-4ecd-d964-d8da7d6659d5"
      },
      "execution_count": null,
      "outputs": [
        {
          "output_type": "execute_result",
          "data": {
            "text/plain": [
              "   2024  aboutir  acquarossa  adapter  administrateur  administration  \\\n",
              "0   0.0      0.0         0.0      0.0             0.0             0.0   \n",
              "1   0.0      0.0         0.0      0.0             0.0             0.0   \n",
              "2   0.0      0.0         0.0      0.0             0.0             0.0   \n",
              "3   0.0      0.0         0.0      0.0             0.0             0.0   \n",
              "4   0.0      0.0         0.0      0.0             0.0             0.0   \n",
              "\n",
              "   administrer  adopter  affiler  affre  ...  voiture  voyage       web  \\\n",
              "0          0.0      0.0      0.0    0.0  ...      0.0     0.0  0.519073   \n",
              "1          0.0      0.0      0.0    0.0  ...      0.0     0.0  0.000000   \n",
              "2          0.0      0.0      0.0    0.0  ...      0.0     0.0  0.000000   \n",
              "3          0.0      0.0      0.0    0.0  ...      0.0     0.0  0.000000   \n",
              "4          0.0      0.0      0.0    0.0  ...      0.0     0.0  0.000000   \n",
              "\n",
              "   économiser  écrire  énergie  étape  évidence  événement  événementiel  \n",
              "0         0.0     0.0      0.0    0.0       0.0        0.0           0.0  \n",
              "1         0.0     0.0      0.0    0.0       0.0        0.0           0.0  \n",
              "2         0.0     0.0      0.0    0.0       0.0        0.0           0.0  \n",
              "3         0.0     0.0      0.0    0.0       0.0        0.0           0.0  \n",
              "4         0.0     0.0      0.0    0.0       0.0        0.0           0.0  \n",
              "\n",
              "[5 rows x 347 columns]"
            ],
            "text/html": [
              "\n",
              "  <div id=\"df-556950bb-3252-4414-88bc-a0bb494eaf19\" class=\"colab-df-container\">\n",
              "    <div>\n",
              "<style scoped>\n",
              "    .dataframe tbody tr th:only-of-type {\n",
              "        vertical-align: middle;\n",
              "    }\n",
              "\n",
              "    .dataframe tbody tr th {\n",
              "        vertical-align: top;\n",
              "    }\n",
              "\n",
              "    .dataframe thead th {\n",
              "        text-align: right;\n",
              "    }\n",
              "</style>\n",
              "<table border=\"1\" class=\"dataframe\">\n",
              "  <thead>\n",
              "    <tr style=\"text-align: right;\">\n",
              "      <th></th>\n",
              "      <th>2024</th>\n",
              "      <th>aboutir</th>\n",
              "      <th>acquarossa</th>\n",
              "      <th>adapter</th>\n",
              "      <th>administrateur</th>\n",
              "      <th>administration</th>\n",
              "      <th>administrer</th>\n",
              "      <th>adopter</th>\n",
              "      <th>affiler</th>\n",
              "      <th>affre</th>\n",
              "      <th>...</th>\n",
              "      <th>voiture</th>\n",
              "      <th>voyage</th>\n",
              "      <th>web</th>\n",
              "      <th>économiser</th>\n",
              "      <th>écrire</th>\n",
              "      <th>énergie</th>\n",
              "      <th>étape</th>\n",
              "      <th>évidence</th>\n",
              "      <th>événement</th>\n",
              "      <th>événementiel</th>\n",
              "    </tr>\n",
              "  </thead>\n",
              "  <tbody>\n",
              "    <tr>\n",
              "      <th>0</th>\n",
              "      <td>0.0</td>\n",
              "      <td>0.0</td>\n",
              "      <td>0.0</td>\n",
              "      <td>0.0</td>\n",
              "      <td>0.0</td>\n",
              "      <td>0.0</td>\n",
              "      <td>0.0</td>\n",
              "      <td>0.0</td>\n",
              "      <td>0.0</td>\n",
              "      <td>0.0</td>\n",
              "      <td>...</td>\n",
              "      <td>0.0</td>\n",
              "      <td>0.0</td>\n",
              "      <td>0.519073</td>\n",
              "      <td>0.0</td>\n",
              "      <td>0.0</td>\n",
              "      <td>0.0</td>\n",
              "      <td>0.0</td>\n",
              "      <td>0.0</td>\n",
              "      <td>0.0</td>\n",
              "      <td>0.0</td>\n",
              "    </tr>\n",
              "    <tr>\n",
              "      <th>1</th>\n",
              "      <td>0.0</td>\n",
              "      <td>0.0</td>\n",
              "      <td>0.0</td>\n",
              "      <td>0.0</td>\n",
              "      <td>0.0</td>\n",
              "      <td>0.0</td>\n",
              "      <td>0.0</td>\n",
              "      <td>0.0</td>\n",
              "      <td>0.0</td>\n",
              "      <td>0.0</td>\n",
              "      <td>...</td>\n",
              "      <td>0.0</td>\n",
              "      <td>0.0</td>\n",
              "      <td>0.000000</td>\n",
              "      <td>0.0</td>\n",
              "      <td>0.0</td>\n",
              "      <td>0.0</td>\n",
              "      <td>0.0</td>\n",
              "      <td>0.0</td>\n",
              "      <td>0.0</td>\n",
              "      <td>0.0</td>\n",
              "    </tr>\n",
              "    <tr>\n",
              "      <th>2</th>\n",
              "      <td>0.0</td>\n",
              "      <td>0.0</td>\n",
              "      <td>0.0</td>\n",
              "      <td>0.0</td>\n",
              "      <td>0.0</td>\n",
              "      <td>0.0</td>\n",
              "      <td>0.0</td>\n",
              "      <td>0.0</td>\n",
              "      <td>0.0</td>\n",
              "      <td>0.0</td>\n",
              "      <td>...</td>\n",
              "      <td>0.0</td>\n",
              "      <td>0.0</td>\n",
              "      <td>0.000000</td>\n",
              "      <td>0.0</td>\n",
              "      <td>0.0</td>\n",
              "      <td>0.0</td>\n",
              "      <td>0.0</td>\n",
              "      <td>0.0</td>\n",
              "      <td>0.0</td>\n",
              "      <td>0.0</td>\n",
              "    </tr>\n",
              "    <tr>\n",
              "      <th>3</th>\n",
              "      <td>0.0</td>\n",
              "      <td>0.0</td>\n",
              "      <td>0.0</td>\n",
              "      <td>0.0</td>\n",
              "      <td>0.0</td>\n",
              "      <td>0.0</td>\n",
              "      <td>0.0</td>\n",
              "      <td>0.0</td>\n",
              "      <td>0.0</td>\n",
              "      <td>0.0</td>\n",
              "      <td>...</td>\n",
              "      <td>0.0</td>\n",
              "      <td>0.0</td>\n",
              "      <td>0.000000</td>\n",
              "      <td>0.0</td>\n",
              "      <td>0.0</td>\n",
              "      <td>0.0</td>\n",
              "      <td>0.0</td>\n",
              "      <td>0.0</td>\n",
              "      <td>0.0</td>\n",
              "      <td>0.0</td>\n",
              "    </tr>\n",
              "    <tr>\n",
              "      <th>4</th>\n",
              "      <td>0.0</td>\n",
              "      <td>0.0</td>\n",
              "      <td>0.0</td>\n",
              "      <td>0.0</td>\n",
              "      <td>0.0</td>\n",
              "      <td>0.0</td>\n",
              "      <td>0.0</td>\n",
              "      <td>0.0</td>\n",
              "      <td>0.0</td>\n",
              "      <td>0.0</td>\n",
              "      <td>...</td>\n",
              "      <td>0.0</td>\n",
              "      <td>0.0</td>\n",
              "      <td>0.000000</td>\n",
              "      <td>0.0</td>\n",
              "      <td>0.0</td>\n",
              "      <td>0.0</td>\n",
              "      <td>0.0</td>\n",
              "      <td>0.0</td>\n",
              "      <td>0.0</td>\n",
              "      <td>0.0</td>\n",
              "    </tr>\n",
              "  </tbody>\n",
              "</table>\n",
              "<p>5 rows × 347 columns</p>\n",
              "</div>\n",
              "    <div class=\"colab-df-buttons\">\n",
              "\n",
              "  <div class=\"colab-df-container\">\n",
              "    <button class=\"colab-df-convert\" onclick=\"convertToInteractive('df-556950bb-3252-4414-88bc-a0bb494eaf19')\"\n",
              "            title=\"Convert this dataframe to an interactive table.\"\n",
              "            style=\"display:none;\">\n",
              "\n",
              "  <svg xmlns=\"http://www.w3.org/2000/svg\" height=\"24px\" viewBox=\"0 -960 960 960\">\n",
              "    <path d=\"M120-120v-720h720v720H120Zm60-500h600v-160H180v160Zm220 220h160v-160H400v160Zm0 220h160v-160H400v160ZM180-400h160v-160H180v160Zm440 0h160v-160H620v160ZM180-180h160v-160H180v160Zm440 0h160v-160H620v160Z\"/>\n",
              "  </svg>\n",
              "    </button>\n",
              "\n",
              "  <style>\n",
              "    .colab-df-container {\n",
              "      display:flex;\n",
              "      gap: 12px;\n",
              "    }\n",
              "\n",
              "    .colab-df-convert {\n",
              "      background-color: #E8F0FE;\n",
              "      border: none;\n",
              "      border-radius: 50%;\n",
              "      cursor: pointer;\n",
              "      display: none;\n",
              "      fill: #1967D2;\n",
              "      height: 32px;\n",
              "      padding: 0 0 0 0;\n",
              "      width: 32px;\n",
              "    }\n",
              "\n",
              "    .colab-df-convert:hover {\n",
              "      background-color: #E2EBFA;\n",
              "      box-shadow: 0px 1px 2px rgba(60, 64, 67, 0.3), 0px 1px 3px 1px rgba(60, 64, 67, 0.15);\n",
              "      fill: #174EA6;\n",
              "    }\n",
              "\n",
              "    .colab-df-buttons div {\n",
              "      margin-bottom: 4px;\n",
              "    }\n",
              "\n",
              "    [theme=dark] .colab-df-convert {\n",
              "      background-color: #3B4455;\n",
              "      fill: #D2E3FC;\n",
              "    }\n",
              "\n",
              "    [theme=dark] .colab-df-convert:hover {\n",
              "      background-color: #434B5C;\n",
              "      box-shadow: 0px 1px 3px 1px rgba(0, 0, 0, 0.15);\n",
              "      filter: drop-shadow(0px 1px 2px rgba(0, 0, 0, 0.3));\n",
              "      fill: #FFFFFF;\n",
              "    }\n",
              "  </style>\n",
              "\n",
              "    <script>\n",
              "      const buttonEl =\n",
              "        document.querySelector('#df-556950bb-3252-4414-88bc-a0bb494eaf19 button.colab-df-convert');\n",
              "      buttonEl.style.display =\n",
              "        google.colab.kernel.accessAllowed ? 'block' : 'none';\n",
              "\n",
              "      async function convertToInteractive(key) {\n",
              "        const element = document.querySelector('#df-556950bb-3252-4414-88bc-a0bb494eaf19');\n",
              "        const dataTable =\n",
              "          await google.colab.kernel.invokeFunction('convertToInteractive',\n",
              "                                                    [key], {});\n",
              "        if (!dataTable) return;\n",
              "\n",
              "        const docLinkHtml = 'Like what you see? Visit the ' +\n",
              "          '<a target=\"_blank\" href=https://colab.research.google.com/notebooks/data_table.ipynb>data table notebook</a>'\n",
              "          + ' to learn more about interactive tables.';\n",
              "        element.innerHTML = '';\n",
              "        dataTable['output_type'] = 'display_data';\n",
              "        await google.colab.output.renderOutput(dataTable, element);\n",
              "        const docLink = document.createElement('div');\n",
              "        docLink.innerHTML = docLinkHtml;\n",
              "        element.appendChild(docLink);\n",
              "      }\n",
              "    </script>\n",
              "  </div>\n",
              "\n",
              "\n",
              "<div id=\"df-7a428eab-10e8-45c7-b83d-281f92140ad3\">\n",
              "  <button class=\"colab-df-quickchart\" onclick=\"quickchart('df-7a428eab-10e8-45c7-b83d-281f92140ad3')\"\n",
              "            title=\"Suggest charts\"\n",
              "            style=\"display:none;\">\n",
              "\n",
              "<svg xmlns=\"http://www.w3.org/2000/svg\" height=\"24px\"viewBox=\"0 0 24 24\"\n",
              "     width=\"24px\">\n",
              "    <g>\n",
              "        <path d=\"M19 3H5c-1.1 0-2 .9-2 2v14c0 1.1.9 2 2 2h14c1.1 0 2-.9 2-2V5c0-1.1-.9-2-2-2zM9 17H7v-7h2v7zm4 0h-2V7h2v10zm4 0h-2v-4h2v4z\"/>\n",
              "    </g>\n",
              "</svg>\n",
              "  </button>\n",
              "\n",
              "<style>\n",
              "  .colab-df-quickchart {\n",
              "      --bg-color: #E8F0FE;\n",
              "      --fill-color: #1967D2;\n",
              "      --hover-bg-color: #E2EBFA;\n",
              "      --hover-fill-color: #174EA6;\n",
              "      --disabled-fill-color: #AAA;\n",
              "      --disabled-bg-color: #DDD;\n",
              "  }\n",
              "\n",
              "  [theme=dark] .colab-df-quickchart {\n",
              "      --bg-color: #3B4455;\n",
              "      --fill-color: #D2E3FC;\n",
              "      --hover-bg-color: #434B5C;\n",
              "      --hover-fill-color: #FFFFFF;\n",
              "      --disabled-bg-color: #3B4455;\n",
              "      --disabled-fill-color: #666;\n",
              "  }\n",
              "\n",
              "  .colab-df-quickchart {\n",
              "    background-color: var(--bg-color);\n",
              "    border: none;\n",
              "    border-radius: 50%;\n",
              "    cursor: pointer;\n",
              "    display: none;\n",
              "    fill: var(--fill-color);\n",
              "    height: 32px;\n",
              "    padding: 0;\n",
              "    width: 32px;\n",
              "  }\n",
              "\n",
              "  .colab-df-quickchart:hover {\n",
              "    background-color: var(--hover-bg-color);\n",
              "    box-shadow: 0 1px 2px rgba(60, 64, 67, 0.3), 0 1px 3px 1px rgba(60, 64, 67, 0.15);\n",
              "    fill: var(--button-hover-fill-color);\n",
              "  }\n",
              "\n",
              "  .colab-df-quickchart-complete:disabled,\n",
              "  .colab-df-quickchart-complete:disabled:hover {\n",
              "    background-color: var(--disabled-bg-color);\n",
              "    fill: var(--disabled-fill-color);\n",
              "    box-shadow: none;\n",
              "  }\n",
              "\n",
              "  .colab-df-spinner {\n",
              "    border: 2px solid var(--fill-color);\n",
              "    border-color: transparent;\n",
              "    border-bottom-color: var(--fill-color);\n",
              "    animation:\n",
              "      spin 1s steps(1) infinite;\n",
              "  }\n",
              "\n",
              "  @keyframes spin {\n",
              "    0% {\n",
              "      border-color: transparent;\n",
              "      border-bottom-color: var(--fill-color);\n",
              "      border-left-color: var(--fill-color);\n",
              "    }\n",
              "    20% {\n",
              "      border-color: transparent;\n",
              "      border-left-color: var(--fill-color);\n",
              "      border-top-color: var(--fill-color);\n",
              "    }\n",
              "    30% {\n",
              "      border-color: transparent;\n",
              "      border-left-color: var(--fill-color);\n",
              "      border-top-color: var(--fill-color);\n",
              "      border-right-color: var(--fill-color);\n",
              "    }\n",
              "    40% {\n",
              "      border-color: transparent;\n",
              "      border-right-color: var(--fill-color);\n",
              "      border-top-color: var(--fill-color);\n",
              "    }\n",
              "    60% {\n",
              "      border-color: transparent;\n",
              "      border-right-color: var(--fill-color);\n",
              "    }\n",
              "    80% {\n",
              "      border-color: transparent;\n",
              "      border-right-color: var(--fill-color);\n",
              "      border-bottom-color: var(--fill-color);\n",
              "    }\n",
              "    90% {\n",
              "      border-color: transparent;\n",
              "      border-bottom-color: var(--fill-color);\n",
              "    }\n",
              "  }\n",
              "</style>\n",
              "\n",
              "  <script>\n",
              "    async function quickchart(key) {\n",
              "      const quickchartButtonEl =\n",
              "        document.querySelector('#' + key + ' button');\n",
              "      quickchartButtonEl.disabled = true;  // To prevent multiple clicks.\n",
              "      quickchartButtonEl.classList.add('colab-df-spinner');\n",
              "      try {\n",
              "        const charts = await google.colab.kernel.invokeFunction(\n",
              "            'suggestCharts', [key], {});\n",
              "      } catch (error) {\n",
              "        console.error('Error during call to suggestCharts:', error);\n",
              "      }\n",
              "      quickchartButtonEl.classList.remove('colab-df-spinner');\n",
              "      quickchartButtonEl.classList.add('colab-df-quickchart-complete');\n",
              "    }\n",
              "    (() => {\n",
              "      let quickchartButtonEl =\n",
              "        document.querySelector('#df-7a428eab-10e8-45c7-b83d-281f92140ad3 button');\n",
              "      quickchartButtonEl.style.display =\n",
              "        google.colab.kernel.accessAllowed ? 'block' : 'none';\n",
              "    })();\n",
              "  </script>\n",
              "</div>\n",
              "\n",
              "    </div>\n",
              "  </div>\n"
            ],
            "application/vnd.google.colaboratory.intrinsic+json": {
              "type": "dataframe",
              "variable_name": "tfidf_df"
            }
          },
          "metadata": {},
          "execution_count": 38
        }
      ]
    },
    {
      "cell_type": "code",
      "source": [
        "# Check for duplicate index labels in the DataFrame\n",
        "print(\"Checking for duplicate index labels...\")\n",
        "if tfidf_df.index.duplicated().any():\n",
        "    print(\"Duplicate index labels found. Resetting index...\")\n",
        "    tfidf_df.reset_index(drop=True, inplace=True)\n",
        "\n",
        "# Ensure that the length of y matches the length of tfidf_df\n",
        "if len(tfidf_df) != len(y):\n",
        "    raise ValueError(f\"Length of tfidf_df ({len(tfidf_df)}) does not match length of y ({len(y)})\")\n"
      ],
      "metadata": {
        "colab": {
          "base_uri": "https://localhost:8080/"
        },
        "id": "-frTXzh2cdjB",
        "outputId": "a9bbf84e-add6-4498-db00-f6016e4288fa"
      },
      "execution_count": null,
      "outputs": [
        {
          "output_type": "stream",
          "name": "stdout",
          "text": [
            "Checking for duplicate index labels...\n"
          ]
        }
      ]
    },
    {
      "cell_type": "code",
      "source": [
        "# Reset index of y to match tfidf_df if necessary\n",
        "y = y.reset_index(drop=True)\n",
        "\n",
        "# Add the 'output' column to the TF-IDF DataFrame\n",
        "tfidf_df['output'] = y\n",
        "\n",
        "# Show the most frequent terms for each class\n",
        "most_frequent_terms = {}\n",
        "for class_label in tfidf_df['output'].unique():\n",
        "    class_df = tfidf_df[tfidf_df['output'] == class_label]\n",
        "    term_sums = class_df.drop(columns=['output']).sum().sort_values(ascending=False)\n",
        "    most_frequent_terms[class_label] = term_sums.head(10)\n",
        "\n",
        "print(\"\\nMost Frequent Terms for Each Class:\")\n",
        "for class_label, terms in most_frequent_terms.items():\n",
        "    print(f\"\\nClass: {class_label}\")\n",
        "    print(terms)"
      ],
      "metadata": {
        "colab": {
          "base_uri": "https://localhost:8080/"
        },
        "id": "FKxsaX-1cgQH",
        "outputId": "1b3d1280-cfff-4206-b680-195a5253bb4e"
      },
      "execution_count": null,
      "outputs": [
        {
          "output_type": "stream",
          "name": "stdout",
          "text": [
            "\n",
            "Most Frequent Terms for Each Class:\n",
            "\n",
            "Class: best_jobs\n",
            "opportunité    32.118309\n",
            "emploi         19.220946\n",
            "après          14.504457\n",
            "enquête        14.431470\n",
            "meilleur       14.427537\n",
            "logiciel       13.782175\n",
            "ingénieur      13.071138\n",
            "débutant       12.812467\n",
            "analyste       12.162033\n",
            "recherche      11.935064\n",
            "dtype: float64\n",
            "\n",
            "Class: cv_improver\n",
            "cv                42.197926\n",
            "continuer         16.684182\n",
            "poste             15.302455\n",
            "comment           14.370936\n",
            "compétence        14.259807\n",
            "inégalable        13.261017\n",
            "recommandation    12.827447\n",
            "développeur       12.063638\n",
            "projet            11.165841\n",
            "adapter            9.963091\n",
            "dtype: float64\n",
            "\n",
            "Class: lm_improver\n",
            "lettre           46.774474\n",
            "motivation       34.164906\n",
            "besoin           30.895882\n",
            "continuer        26.939520\n",
            "an               21.973545\n",
            "opinion          15.951743\n",
            "affiler          14.724430\n",
            "communication    12.824551\n",
            "après            11.544571\n",
            "offre            11.179813\n",
            "dtype: float64\n",
            "\n",
            "Class: interview-coaching\n",
            "entretien      39.134820\n",
            "inégalable     25.428769\n",
            "poste          23.201291\n",
            "préparer       18.132190\n",
            "entrevue       15.922629\n",
            "tant           15.221994\n",
            "développeur    15.109493\n",
            "stratégie      14.180994\n",
            "après          13.777073\n",
            "continuer      13.633335\n",
            "dtype: float64\n",
            "\n",
            "Class: KO\n",
            "comment         14.117176\n",
            "meilleur        14.061369\n",
            "ider             9.920472\n",
            "façon            8.141252\n",
            "recette          7.432240\n",
            "anniversaire     7.332087\n",
            "conseil          6.971802\n",
            "bos_grunnien     6.839442\n",
            "inégalable       6.486786\n",
            "choisir          6.418119\n",
            "dtype: float64\n"
          ]
        }
      ]
    },
    {
      "cell_type": "markdown",
      "metadata": {
        "id": "xxbKSq4BC8T5"
      },
      "source": [
        "# Splitting data"
      ]
    },
    {
      "cell_type": "code",
      "execution_count": null,
      "metadata": {
        "id": "rmco3HWwC7cI"
      },
      "outputs": [],
      "source": [
        "# Training\n",
        "X_train, X_test, y_train, y_test = train_test_split(X, y, test_size=0.2, random_state=42)"
      ]
    },
    {
      "cell_type": "code",
      "execution_count": null,
      "metadata": {
        "colab": {
          "base_uri": "https://localhost:8080/"
        },
        "id": "S16wlNB8F_HB",
        "outputId": "d8a36560-d7af-4886-9d40-279d844b56e4"
      },
      "outputs": [
        {
          "output_type": "execute_result",
          "data": {
            "text/plain": [
              "(800,)"
            ]
          },
          "metadata": {},
          "execution_count": 41
        }
      ],
      "source": [
        "y_train.shape"
      ]
    },
    {
      "cell_type": "code",
      "execution_count": null,
      "metadata": {
        "colab": {
          "base_uri": "https://localhost:8080/"
        },
        "id": "En99f0SDFGCt",
        "outputId": "fab48467-a1ab-41f7-ce1c-d52043923ee7"
      },
      "outputs": [
        {
          "output_type": "stream",
          "name": "stdout",
          "text": [
            "\n",
            "Training Data Class Distribution:\n",
            "output\n",
            "best_jobs             167\n",
            "lm_improver           163\n",
            "interview-coaching    162\n",
            "KO                    156\n",
            "cv_improver           152\n",
            "Name: count, dtype: int64\n"
          ]
        }
      ],
      "source": [
        "y_train_series = pd.Series(y_train)\n",
        "train_class_counts = y_train_series.value_counts()\n",
        "\n",
        "print(\"\\nTraining Data Class Distribution:\")\n",
        "print(train_class_counts)"
      ]
    },
    {
      "cell_type": "code",
      "execution_count": null,
      "metadata": {
        "colab": {
          "base_uri": "https://localhost:8080/"
        },
        "id": "CYbepG1HGU3H",
        "outputId": "2744c848-74ed-492b-d8c2-be7bfbdfb74a"
      },
      "outputs": [
        {
          "output_type": "stream",
          "name": "stdout",
          "text": [
            "\n",
            "Testing Data Class Distribution:\n",
            "output\n",
            "cv_improver           48\n",
            "KO                    44\n",
            "interview-coaching    38\n",
            "lm_improver           37\n",
            "best_jobs             33\n",
            "Name: count, dtype: int64\n"
          ]
        }
      ],
      "source": [
        "y_test_series = pd.Series(y_test)\n",
        "test_class_counts = y_test_series.value_counts()\n",
        "\n",
        "print(\"\\nTesting Data Class Distribution:\")\n",
        "print(test_class_counts)"
      ]
    },
    {
      "cell_type": "markdown",
      "metadata": {
        "id": "s6vH3oAPaAnY"
      },
      "source": [
        "# LogisticRegression ovr scheme"
      ]
    },
    {
      "cell_type": "code",
      "execution_count": null,
      "metadata": {
        "id": "Kumo_9wOTt1u"
      },
      "outputs": [],
      "source": [
        "model = LogisticRegression(multi_class='ovr', solver='liblinear')  # One-vs-Rest scheme for multi-class classification"
      ]
    },
    {
      "cell_type": "markdown",
      "metadata": {
        "id": "lMifKPdKDAVw"
      },
      "source": [
        "## Training model"
      ]
    },
    {
      "cell_type": "code",
      "execution_count": null,
      "metadata": {
        "id": "0wAtJdUbC_mt",
        "colab": {
          "base_uri": "https://localhost:8080/",
          "height": 74
        },
        "outputId": "bc252d06-f402-4415-ec79-3a2006eef0e2"
      },
      "outputs": [
        {
          "output_type": "execute_result",
          "data": {
            "text/plain": [
              "LogisticRegression(multi_class='ovr', solver='liblinear')"
            ],
            "text/html": [
              "<style>#sk-container-id-1 {color: black;background-color: white;}#sk-container-id-1 pre{padding: 0;}#sk-container-id-1 div.sk-toggleable {background-color: white;}#sk-container-id-1 label.sk-toggleable__label {cursor: pointer;display: block;width: 100%;margin-bottom: 0;padding: 0.3em;box-sizing: border-box;text-align: center;}#sk-container-id-1 label.sk-toggleable__label-arrow:before {content: \"▸\";float: left;margin-right: 0.25em;color: #696969;}#sk-container-id-1 label.sk-toggleable__label-arrow:hover:before {color: black;}#sk-container-id-1 div.sk-estimator:hover label.sk-toggleable__label-arrow:before {color: black;}#sk-container-id-1 div.sk-toggleable__content {max-height: 0;max-width: 0;overflow: hidden;text-align: left;background-color: #f0f8ff;}#sk-container-id-1 div.sk-toggleable__content pre {margin: 0.2em;color: black;border-radius: 0.25em;background-color: #f0f8ff;}#sk-container-id-1 input.sk-toggleable__control:checked~div.sk-toggleable__content {max-height: 200px;max-width: 100%;overflow: auto;}#sk-container-id-1 input.sk-toggleable__control:checked~label.sk-toggleable__label-arrow:before {content: \"▾\";}#sk-container-id-1 div.sk-estimator input.sk-toggleable__control:checked~label.sk-toggleable__label {background-color: #d4ebff;}#sk-container-id-1 div.sk-label input.sk-toggleable__control:checked~label.sk-toggleable__label {background-color: #d4ebff;}#sk-container-id-1 input.sk-hidden--visually {border: 0;clip: rect(1px 1px 1px 1px);clip: rect(1px, 1px, 1px, 1px);height: 1px;margin: -1px;overflow: hidden;padding: 0;position: absolute;width: 1px;}#sk-container-id-1 div.sk-estimator {font-family: monospace;background-color: #f0f8ff;border: 1px dotted black;border-radius: 0.25em;box-sizing: border-box;margin-bottom: 0.5em;}#sk-container-id-1 div.sk-estimator:hover {background-color: #d4ebff;}#sk-container-id-1 div.sk-parallel-item::after {content: \"\";width: 100%;border-bottom: 1px solid gray;flex-grow: 1;}#sk-container-id-1 div.sk-label:hover label.sk-toggleable__label {background-color: #d4ebff;}#sk-container-id-1 div.sk-serial::before {content: \"\";position: absolute;border-left: 1px solid gray;box-sizing: border-box;top: 0;bottom: 0;left: 50%;z-index: 0;}#sk-container-id-1 div.sk-serial {display: flex;flex-direction: column;align-items: center;background-color: white;padding-right: 0.2em;padding-left: 0.2em;position: relative;}#sk-container-id-1 div.sk-item {position: relative;z-index: 1;}#sk-container-id-1 div.sk-parallel {display: flex;align-items: stretch;justify-content: center;background-color: white;position: relative;}#sk-container-id-1 div.sk-item::before, #sk-container-id-1 div.sk-parallel-item::before {content: \"\";position: absolute;border-left: 1px solid gray;box-sizing: border-box;top: 0;bottom: 0;left: 50%;z-index: -1;}#sk-container-id-1 div.sk-parallel-item {display: flex;flex-direction: column;z-index: 1;position: relative;background-color: white;}#sk-container-id-1 div.sk-parallel-item:first-child::after {align-self: flex-end;width: 50%;}#sk-container-id-1 div.sk-parallel-item:last-child::after {align-self: flex-start;width: 50%;}#sk-container-id-1 div.sk-parallel-item:only-child::after {width: 0;}#sk-container-id-1 div.sk-dashed-wrapped {border: 1px dashed gray;margin: 0 0.4em 0.5em 0.4em;box-sizing: border-box;padding-bottom: 0.4em;background-color: white;}#sk-container-id-1 div.sk-label label {font-family: monospace;font-weight: bold;display: inline-block;line-height: 1.2em;}#sk-container-id-1 div.sk-label-container {text-align: center;}#sk-container-id-1 div.sk-container {/* jupyter's `normalize.less` sets `[hidden] { display: none; }` but bootstrap.min.css set `[hidden] { display: none !important; }` so we also need the `!important` here to be able to override the default hidden behavior on the sphinx rendered scikit-learn.org. See: https://github.com/scikit-learn/scikit-learn/issues/21755 */display: inline-block !important;position: relative;}#sk-container-id-1 div.sk-text-repr-fallback {display: none;}</style><div id=\"sk-container-id-1\" class=\"sk-top-container\"><div class=\"sk-text-repr-fallback\"><pre>LogisticRegression(multi_class=&#x27;ovr&#x27;, solver=&#x27;liblinear&#x27;)</pre><b>In a Jupyter environment, please rerun this cell to show the HTML representation or trust the notebook. <br />On GitHub, the HTML representation is unable to render, please try loading this page with nbviewer.org.</b></div><div class=\"sk-container\" hidden><div class=\"sk-item\"><div class=\"sk-estimator sk-toggleable\"><input class=\"sk-toggleable__control sk-hidden--visually\" id=\"sk-estimator-id-1\" type=\"checkbox\" checked><label for=\"sk-estimator-id-1\" class=\"sk-toggleable__label sk-toggleable__label-arrow\">LogisticRegression</label><div class=\"sk-toggleable__content\"><pre>LogisticRegression(multi_class=&#x27;ovr&#x27;, solver=&#x27;liblinear&#x27;)</pre></div></div></div></div></div>"
            ]
          },
          "metadata": {},
          "execution_count": 45
        }
      ],
      "source": [
        "model.fit(X_train, y_train)"
      ]
    },
    {
      "cell_type": "markdown",
      "metadata": {
        "id": "q3LghTP-aGdR"
      },
      "source": [
        "## Model Evaluation"
      ]
    },
    {
      "cell_type": "code",
      "execution_count": null,
      "metadata": {
        "colab": {
          "base_uri": "https://localhost:8080/",
          "height": 936
        },
        "id": "y6tib0hRTt1u",
        "outputId": "a19d25ad-01a7-46ba-f9b5-035aad7b9518"
      },
      "outputs": [
        {
          "output_type": "stream",
          "name": "stdout",
          "text": [
            "\n",
            "Classification Report:\n",
            "                    precision    recall  f1-score   support\n",
            "\n",
            "                KO       1.00      1.00      1.00        44\n",
            "         best_jobs       1.00      1.00      1.00        33\n",
            "       cv_improver       1.00      1.00      1.00        48\n",
            "interview-coaching       1.00      1.00      1.00        38\n",
            "       lm_improver       1.00      1.00      1.00        37\n",
            "\n",
            "          accuracy                           1.00       200\n",
            "         macro avg       1.00      1.00      1.00       200\n",
            "      weighted avg       1.00      1.00      1.00       200\n",
            "\n",
            "\n",
            "Accuracy Score:\n",
            "1.0\n"
          ]
        },
        {
          "output_type": "display_data",
          "data": {
            "text/plain": [
              "<Figure size 1000x700 with 2 Axes>"
            ],
            "image/png": "[encoded data removed]"
          },
          "metadata": {}
        }
      ],
      "source": [
        "# Model Evaluation\n",
        "y_pred = model.predict(X_test)\n",
        "print(\"\\nClassification Report:\")\n",
        "print(classification_report(y_test, y_pred))\n",
        "\n",
        "\n",
        "print(\"\\nAccuracy Score:\")\n",
        "accuracy = accuracy_score(y_test, y_pred)\n",
        "print(accuracy)\n",
        "\n",
        "# Plotting the confusion matrix\n",
        "conf_matrix = confusion_matrix(y_test, y_pred)\n",
        "plt.figure(figsize=(10, 7))\n",
        "sns.heatmap(conf_matrix, annot=True, fmt='d', cmap='Blues', xticklabels=class_counts.index, yticklabels=class_counts.index)\n",
        "plt.xlabel('Predicted')\n",
        "plt.ylabel('Actual')\n",
        "plt.title('Confusion Matrix')\n",
        "plt.show()"
      ]
    },
    {
      "cell_type": "markdown",
      "metadata": {
        "id": "xVBfWs-1aWiR"
      },
      "source": [
        "# Logistic Regression (Softmax)"
      ]
    },
    {
      "cell_type": "code",
      "execution_count": null,
      "metadata": {
        "colab": {
          "base_uri": "https://localhost:8080/",
          "height": 74
        },
        "id": "j5v7zcGWV6hK",
        "outputId": "12c7eb72-bdc5-49ec-d5c3-f09850c6f4da"
      },
      "outputs": [
        {
          "output_type": "execute_result",
          "data": {
            "text/plain": [
              "LogisticRegression(multi_class='multinomial')"
            ],
            "text/html": [
              "<style>#sk-container-id-2 {color: black;background-color: white;}#sk-container-id-2 pre{padding: 0;}#sk-container-id-2 div.sk-toggleable {background-color: white;}#sk-container-id-2 label.sk-toggleable__label {cursor: pointer;display: block;width: 100%;margin-bottom: 0;padding: 0.3em;box-sizing: border-box;text-align: center;}#sk-container-id-2 label.sk-toggleable__label-arrow:before {content: \"▸\";float: left;margin-right: 0.25em;color: #696969;}#sk-container-id-2 label.sk-toggleable__label-arrow:hover:before {color: black;}#sk-container-id-2 div.sk-estimator:hover label.sk-toggleable__label-arrow:before {color: black;}#sk-container-id-2 div.sk-toggleable__content {max-height: 0;max-width: 0;overflow: hidden;text-align: left;background-color: #f0f8ff;}#sk-container-id-2 div.sk-toggleable__content pre {margin: 0.2em;color: black;border-radius: 0.25em;background-color: #f0f8ff;}#sk-container-id-2 input.sk-toggleable__control:checked~div.sk-toggleable__content {max-height: 200px;max-width: 100%;overflow: auto;}#sk-container-id-2 input.sk-toggleable__control:checked~label.sk-toggleable__label-arrow:before {content: \"▾\";}#sk-container-id-2 div.sk-estimator input.sk-toggleable__control:checked~label.sk-toggleable__label {background-color: #d4ebff;}#sk-container-id-2 div.sk-label input.sk-toggleable__control:checked~label.sk-toggleable__label {background-color: #d4ebff;}#sk-container-id-2 input.sk-hidden--visually {border: 0;clip: rect(1px 1px 1px 1px);clip: rect(1px, 1px, 1px, 1px);height: 1px;margin: -1px;overflow: hidden;padding: 0;position: absolute;width: 1px;}#sk-container-id-2 div.sk-estimator {font-family: monospace;background-color: #f0f8ff;border: 1px dotted black;border-radius: 0.25em;box-sizing: border-box;margin-bottom: 0.5em;}#sk-container-id-2 div.sk-estimator:hover {background-color: #d4ebff;}#sk-container-id-2 div.sk-parallel-item::after {content: \"\";width: 100%;border-bottom: 1px solid gray;flex-grow: 1;}#sk-container-id-2 div.sk-label:hover label.sk-toggleable__label {background-color: #d4ebff;}#sk-container-id-2 div.sk-serial::before {content: \"\";position: absolute;border-left: 1px solid gray;box-sizing: border-box;top: 0;bottom: 0;left: 50%;z-index: 0;}#sk-container-id-2 div.sk-serial {display: flex;flex-direction: column;align-items: center;background-color: white;padding-right: 0.2em;padding-left: 0.2em;position: relative;}#sk-container-id-2 div.sk-item {position: relative;z-index: 1;}#sk-container-id-2 div.sk-parallel {display: flex;align-items: stretch;justify-content: center;background-color: white;position: relative;}#sk-container-id-2 div.sk-item::before, #sk-container-id-2 div.sk-parallel-item::before {content: \"\";position: absolute;border-left: 1px solid gray;box-sizing: border-box;top: 0;bottom: 0;left: 50%;z-index: -1;}#sk-container-id-2 div.sk-parallel-item {display: flex;flex-direction: column;z-index: 1;position: relative;background-color: white;}#sk-container-id-2 div.sk-parallel-item:first-child::after {align-self: flex-end;width: 50%;}#sk-container-id-2 div.sk-parallel-item:last-child::after {align-self: flex-start;width: 50%;}#sk-container-id-2 div.sk-parallel-item:only-child::after {width: 0;}#sk-container-id-2 div.sk-dashed-wrapped {border: 1px dashed gray;margin: 0 0.4em 0.5em 0.4em;box-sizing: border-box;padding-bottom: 0.4em;background-color: white;}#sk-container-id-2 div.sk-label label {font-family: monospace;font-weight: bold;display: inline-block;line-height: 1.2em;}#sk-container-id-2 div.sk-label-container {text-align: center;}#sk-container-id-2 div.sk-container {/* jupyter's `normalize.less` sets `[hidden] { display: none; }` but bootstrap.min.css set `[hidden] { display: none !important; }` so we also need the `!important` here to be able to override the default hidden behavior on the sphinx rendered scikit-learn.org. See: https://github.com/scikit-learn/scikit-learn/issues/21755 */display: inline-block !important;position: relative;}#sk-container-id-2 div.sk-text-repr-fallback {display: none;}</style><div id=\"sk-container-id-2\" class=\"sk-top-container\"><div class=\"sk-text-repr-fallback\"><pre>LogisticRegression(multi_class=&#x27;multinomial&#x27;)</pre><b>In a Jupyter environment, please rerun this cell to show the HTML representation or trust the notebook. <br />On GitHub, the HTML representation is unable to render, please try loading this page with nbviewer.org.</b></div><div class=\"sk-container\" hidden><div class=\"sk-item\"><div class=\"sk-estimator sk-toggleable\"><input class=\"sk-toggleable__control sk-hidden--visually\" id=\"sk-estimator-id-2\" type=\"checkbox\" checked><label for=\"sk-estimator-id-2\" class=\"sk-toggleable__label sk-toggleable__label-arrow\">LogisticRegression</label><div class=\"sk-toggleable__content\"><pre>LogisticRegression(multi_class=&#x27;multinomial&#x27;)</pre></div></div></div></div></div>"
            ]
          },
          "metadata": {},
          "execution_count": 47
        }
      ],
      "source": [
        "# Multinomial Logistic Regression (Softmax)\n",
        "model_softmax = LogisticRegression(multi_class='multinomial', solver='lbfgs')\n",
        "model_softmax.fit(X_train, y_train)"
      ]
    },
    {
      "cell_type": "code",
      "source": [
        "# Save the trained model to a file\n",
        "model_filename = '/content/drive/MyDrive/Prompt-classifier/softmax_model.joblib'\n",
        "joblib.dump(model_softmax, model_filename)\n",
        "\n",
        "print(f\"Model saved to {model_filename}\")"
      ],
      "metadata": {
        "colab": {
          "base_uri": "https://localhost:8080/"
        },
        "id": "mgx6Ehivj0b9",
        "outputId": "33597703-f57a-4992-fcdd-e3ec4913b9b5"
      },
      "execution_count": null,
      "outputs": [
        {
          "output_type": "stream",
          "name": "stdout",
          "text": [
            "Model saved to /content/drive/MyDrive/Prompt-classifier/softmax_model.joblib\n"
          ]
        }
      ]
    },
    {
      "cell_type": "markdown",
      "metadata": {
        "id": "w-PfaK66aZGz"
      },
      "source": [
        "## Model Evaluation"
      ]
    },
    {
      "cell_type": "code",
      "execution_count": null,
      "metadata": {
        "colab": {
          "base_uri": "https://localhost:8080/",
          "height": 1000
        },
        "id": "mhfoYqCxWAZD",
        "outputId": "44521a5f-e98f-4c95-f51c-e14473b73a22"
      },
      "outputs": [
        {
          "output_type": "stream",
          "name": "stdout",
          "text": [
            "\n",
            "Softmax Classification Report:\n",
            "                    precision    recall  f1-score   support\n",
            "\n",
            "                KO       1.00      1.00      1.00        44\n",
            "         best_jobs       1.00      1.00      1.00        33\n",
            "       cv_improver       1.00      1.00      1.00        48\n",
            "interview-coaching       1.00      1.00      1.00        38\n",
            "       lm_improver       1.00      1.00      1.00        37\n",
            "\n",
            "          accuracy                           1.00       200\n",
            "         macro avg       1.00      1.00      1.00       200\n",
            "      weighted avg       1.00      1.00      1.00       200\n",
            "\n",
            "\n",
            "Confusion Matrix:\n",
            "[[44  0  0  0  0]\n",
            " [ 0 33  0  0  0]\n",
            " [ 0  0 48  0  0]\n",
            " [ 0  0  0 38  0]\n",
            " [ 0  0  0  0 37]]\n",
            "\n",
            "Accuracy Score:\n",
            "1.0\n"
          ]
        },
        {
          "output_type": "display_data",
          "data": {
            "text/plain": [
              "<Figure size 1000x700 with 2 Axes>"
            ],
            "image/png": "[encoded data removed]"
          },
          "metadata": {}
        }
      ],
      "source": [
        "# Model Evaluation\n",
        "y_pred_softmax = model_softmax.predict(X_test)\n",
        "\n",
        "print(\"\\nSoftmax Classification Report:\")\n",
        "print(classification_report(y_test, y_pred_softmax))\n",
        "\n",
        "print(\"\\nConfusion Matrix:\")\n",
        "conf_matrix = confusion_matrix(y_test, y_pred_softmax)\n",
        "print(conf_matrix)\n",
        "\n",
        "print(\"\\nAccuracy Score:\")\n",
        "accuracy = accuracy_score(y_test, y_pred_softmax)\n",
        "print(accuracy)\n",
        "\n",
        "# Plotting the confusion matrix\n",
        "plt.figure(figsize=(10, 7))\n",
        "sns.heatmap(conf_matrix, annot=True, fmt='d', cmap='Blues', xticklabels=class_counts.index, yticklabels=class_counts.index)\n",
        "plt.xlabel('Predicted')\n",
        "plt.ylabel('Actual')\n",
        "plt.title('Confusion Matrix')\n",
        "plt.show()\n"
      ]
    },
    {
      "cell_type": "markdown",
      "metadata": {
        "id": "mdR6qPv4aj4M"
      },
      "source": [
        "# Prediction on random sample"
      ]
    },
    {
      "cell_type": "code",
      "source": [
        "model_filename = '/content/drive/MyDrive/Prompt-classifier/softmax_model.joblib'\n",
        "model = joblib.load(model_filename)\n",
        "print(\"Model loaded successfully\")"
      ],
      "metadata": {
        "colab": {
          "base_uri": "https://localhost:8080/"
        },
        "id": "CBegzKI9kBw2",
        "outputId": "c8ae7bae-c4e8-4577-b957-42ad628dd8c4"
      },
      "execution_count": null,
      "outputs": [
        {
          "output_type": "stream",
          "name": "stdout",
          "text": [
            "Model loaded successfully\n"
          ]
        }
      ]
    },
    {
      "cell_type": "code",
      "execution_count": null,
      "metadata": {
        "id": "HV74Sm-WTt1w"
      },
      "outputs": [],
      "source": [
        "# Function to predict class for input prompt\n",
        "def predict_class(input_text):\n",
        "    # Preprocess text\n",
        "    input_text_processed = preprocess_text(input_text)\n",
        "    # Vectorize input text\n",
        "    input_text_tfidf = vectorizer.transform(input_text_processed)\n",
        "    # Predict class\n",
        "    predicted_class = model.predict(input_text_tfidf)\n",
        "    return predicted_class[0]"
      ]
    },
    {
      "cell_type": "code",
      "execution_count": null,
      "metadata": {
        "id": "iHs0KCiXTt1w",
        "outputId": "e0790b23-0a66-4f67-9a8f-bce25e5d7504",
        "colab": {
          "base_uri": "https://localhost:8080/"
        }
      },
      "outputs": [
        {
          "output_type": "stream",
          "name": "stdout",
          "text": [
            "Predicted class: lm_improver\n"
          ]
        }
      ],
      "source": [
        "input_prompt = \"élaborer une lettre de motivation pour un VIE à l'étranger\"\n",
        "predicted_class = predict_class(input_prompt)\n",
        "print(\"Predicted class:\", predicted_class)"
      ]
    },
    {
      "cell_type": "markdown",
      "source": [
        "# Multi-label classification"
      ],
      "metadata": {
        "id": "2V25Mm5GT6_g"
      }
    },
    {
      "cell_type": "markdown",
      "source": [
        "## Data preparation"
      ],
      "metadata": {
        "id": "jx8CzAHRWV2g"
      }
    },
    {
      "cell_type": "code",
      "source": [
        "# Path to your CSV file\n",
        "csv_file_path = '/content/drive/MyDrive/Prompt-classifier/augmented_data.csv'\n",
        "\n",
        "# Read the CSV file into a DataFrame\n",
        "df = pd.read_csv(csv_file_path)"
      ],
      "metadata": {
        "id": "bjfAPAPvXcXd"
      },
      "execution_count": null,
      "outputs": []
    },
    {
      "cell_type": "code",
      "source": [
        "# Step 7: Print and plot class distribution\n",
        "if 'output' in df.columns:\n",
        "    class_counts = df['output'].value_counts()\n",
        "    print(\"\\nClass Distribution:\")\n",
        "    print(class_counts)\n",
        "\n",
        "    # Plotting class distribution\n",
        "    plt.figure(figsize=(10, 6))\n",
        "    class_counts.plot(kind='bar')\n",
        "    plt.title('Class Distribution')\n",
        "    plt.xlabel('Class')\n",
        "    plt.ylabel('Frequency')\n",
        "    plt.show()\n",
        "else:\n",
        "    print(\"The dataset does not contain a 'output'.\")"
      ],
      "metadata": {
        "colab": {
          "base_uri": "https://localhost:8080/",
          "height": 838
        },
        "id": "UpNEMGNZ5y-q",
        "outputId": "180386fb-5b21-403c-e893-ac3e8da70495"
      },
      "execution_count": null,
      "outputs": [
        {
          "output_type": "stream",
          "name": "stdout",
          "text": [
            "\n",
            "Class Distribution:\n",
            "output\n",
            "best_jobs             200\n",
            "cv_improver           200\n",
            "lm_improver           200\n",
            "interview-coaching    200\n",
            "KO                    200\n",
            "Name: count, dtype: int64\n"
          ]
        },
        {
          "output_type": "display_data",
          "data": {
            "text/plain": [
              "<Figure size 1000x600 with 1 Axes>"
            ],
            "image/png": "[encoded data removed]"
          },
          "metadata": {}
        }
      ]
    },
    {
      "cell_type": "code",
      "source": [
        "# Add new columns\n",
        "df['best_jobs'] = 0\n",
        "df['cv_improver'] = 0\n",
        "df['lm_improver'] = 0\n",
        "df['interview-coaching'] = 0\n",
        "df['KO'] = 0"
      ],
      "metadata": {
        "id": "yakpwaCqWSUA"
      },
      "execution_count": null,
      "outputs": []
    },
    {
      "cell_type": "code",
      "source": [
        "df.head()"
      ],
      "metadata": {
        "colab": {
          "base_uri": "https://localhost:8080/",
          "height": 206
        },
        "id": "T0Z5vE58ZNhx",
        "outputId": "bea4904d-e73a-47d5-9caf-1bac2cd3a6d2"
      },
      "execution_count": null,
      "outputs": [
        {
          "output_type": "execute_result",
          "data": {
            "text/plain": [
              "                                               input     output  best_jobs  \\\n",
              "0  je cherche un emploi de développeur web en remote  best_jobs          0   \n",
              "1  recommandation pour trouver un poste de data s...  best_jobs          0   \n",
              "2  recherche d'opportunités en tant qu'analyste f...  best_jobs          0   \n",
              "3  conseils pour trouver un emploi en marketing d...  best_jobs          0   \n",
              "4  conseils pour postuler à un emploi de développ...  best_jobs          0   \n",
              "\n",
              "   cv_improver  lm_improver  interview-coaching  KO  \n",
              "0            0            0                   0   0  \n",
              "1            0            0                   0   0  \n",
              "2            0            0                   0   0  \n",
              "3            0            0                   0   0  \n",
              "4            0            0                   0   0  "
            ],
            "text/html": [
              "\n",
              "  <div id=\"df-b1f73269-0f5a-440d-91f3-21f7e4513df2\" class=\"colab-df-container\">\n",
              "    <div>\n",
              "<style scoped>\n",
              "    .dataframe tbody tr th:only-of-type {\n",
              "        vertical-align: middle;\n",
              "    }\n",
              "\n",
              "    .dataframe tbody tr th {\n",
              "        vertical-align: top;\n",
              "    }\n",
              "\n",
              "    .dataframe thead th {\n",
              "        text-align: right;\n",
              "    }\n",
              "</style>\n",
              "<table border=\"1\" class=\"dataframe\">\n",
              "  <thead>\n",
              "    <tr style=\"text-align: right;\">\n",
              "      <th></th>\n",
              "      <th>input</th>\n",
              "      <th>output</th>\n",
              "      <th>best_jobs</th>\n",
              "      <th>cv_improver</th>\n",
              "      <th>lm_improver</th>\n",
              "      <th>interview-coaching</th>\n",
              "      <th>KO</th>\n",
              "    </tr>\n",
              "  </thead>\n",
              "  <tbody>\n",
              "    <tr>\n",
              "      <th>0</th>\n",
              "      <td>je cherche un emploi de développeur web en remote</td>\n",
              "      <td>best_jobs</td>\n",
              "      <td>0</td>\n",
              "      <td>0</td>\n",
              "      <td>0</td>\n",
              "      <td>0</td>\n",
              "      <td>0</td>\n",
              "    </tr>\n",
              "    <tr>\n",
              "      <th>1</th>\n",
              "      <td>recommandation pour trouver un poste de data s...</td>\n",
              "      <td>best_jobs</td>\n",
              "      <td>0</td>\n",
              "      <td>0</td>\n",
              "      <td>0</td>\n",
              "      <td>0</td>\n",
              "      <td>0</td>\n",
              "    </tr>\n",
              "    <tr>\n",
              "      <th>2</th>\n",
              "      <td>recherche d'opportunités en tant qu'analyste f...</td>\n",
              "      <td>best_jobs</td>\n",
              "      <td>0</td>\n",
              "      <td>0</td>\n",
              "      <td>0</td>\n",
              "      <td>0</td>\n",
              "      <td>0</td>\n",
              "    </tr>\n",
              "    <tr>\n",
              "      <th>3</th>\n",
              "      <td>conseils pour trouver un emploi en marketing d...</td>\n",
              "      <td>best_jobs</td>\n",
              "      <td>0</td>\n",
              "      <td>0</td>\n",
              "      <td>0</td>\n",
              "      <td>0</td>\n",
              "      <td>0</td>\n",
              "    </tr>\n",
              "    <tr>\n",
              "      <th>4</th>\n",
              "      <td>conseils pour postuler à un emploi de développ...</td>\n",
              "      <td>best_jobs</td>\n",
              "      <td>0</td>\n",
              "      <td>0</td>\n",
              "      <td>0</td>\n",
              "      <td>0</td>\n",
              "      <td>0</td>\n",
              "    </tr>\n",
              "  </tbody>\n",
              "</table>\n",
              "</div>\n",
              "    <div class=\"colab-df-buttons\">\n",
              "\n",
              "  <div class=\"colab-df-container\">\n",
              "    <button class=\"colab-df-convert\" onclick=\"convertToInteractive('df-b1f73269-0f5a-440d-91f3-21f7e4513df2')\"\n",
              "            title=\"Convert this dataframe to an interactive table.\"\n",
              "            style=\"display:none;\">\n",
              "\n",
              "  <svg xmlns=\"http://www.w3.org/2000/svg\" height=\"24px\" viewBox=\"0 -960 960 960\">\n",
              "    <path d=\"M120-120v-720h720v720H120Zm60-500h600v-160H180v160Zm220 220h160v-160H400v160Zm0 220h160v-160H400v160ZM180-400h160v-160H180v160Zm440 0h160v-160H620v160ZM180-180h160v-160H180v160Zm440 0h160v-160H620v160Z\"/>\n",
              "  </svg>\n",
              "    </button>\n",
              "\n",
              "  <style>\n",
              "    .colab-df-container {\n",
              "      display:flex;\n",
              "      gap: 12px;\n",
              "    }\n",
              "\n",
              "    .colab-df-convert {\n",
              "      background-color: #E8F0FE;\n",
              "      border: none;\n",
              "      border-radius: 50%;\n",
              "      cursor: pointer;\n",
              "      display: none;\n",
              "      fill: #1967D2;\n",
              "      height: 32px;\n",
              "      padding: 0 0 0 0;\n",
              "      width: 32px;\n",
              "    }\n",
              "\n",
              "    .colab-df-convert:hover {\n",
              "      background-color: #E2EBFA;\n",
              "      box-shadow: 0px 1px 2px rgba(60, 64, 67, 0.3), 0px 1px 3px 1px rgba(60, 64, 67, 0.15);\n",
              "      fill: #174EA6;\n",
              "    }\n",
              "\n",
              "    .colab-df-buttons div {\n",
              "      margin-bottom: 4px;\n",
              "    }\n",
              "\n",
              "    [theme=dark] .colab-df-convert {\n",
              "      background-color: #3B4455;\n",
              "      fill: #D2E3FC;\n",
              "    }\n",
              "\n",
              "    [theme=dark] .colab-df-convert:hover {\n",
              "      background-color: #434B5C;\n",
              "      box-shadow: 0px 1px 3px 1px rgba(0, 0, 0, 0.15);\n",
              "      filter: drop-shadow(0px 1px 2px rgba(0, 0, 0, 0.3));\n",
              "      fill: #FFFFFF;\n",
              "    }\n",
              "  </style>\n",
              "\n",
              "    <script>\n",
              "      const buttonEl =\n",
              "        document.querySelector('#df-b1f73269-0f5a-440d-91f3-21f7e4513df2 button.colab-df-convert');\n",
              "      buttonEl.style.display =\n",
              "        google.colab.kernel.accessAllowed ? 'block' : 'none';\n",
              "\n",
              "      async function convertToInteractive(key) {\n",
              "        const element = document.querySelector('#df-b1f73269-0f5a-440d-91f3-21f7e4513df2');\n",
              "        const dataTable =\n",
              "          await google.colab.kernel.invokeFunction('convertToInteractive',\n",
              "                                                    [key], {});\n",
              "        if (!dataTable) return;\n",
              "\n",
              "        const docLinkHtml = 'Like what you see? Visit the ' +\n",
              "          '<a target=\"_blank\" href=https://colab.research.google.com/notebooks/data_table.ipynb>data table notebook</a>'\n",
              "          + ' to learn more about interactive tables.';\n",
              "        element.innerHTML = '';\n",
              "        dataTable['output_type'] = 'display_data';\n",
              "        await google.colab.output.renderOutput(dataTable, element);\n",
              "        const docLink = document.createElement('div');\n",
              "        docLink.innerHTML = docLinkHtml;\n",
              "        element.appendChild(docLink);\n",
              "      }\n",
              "    </script>\n",
              "  </div>\n",
              "\n",
              "\n",
              "<div id=\"df-7178250a-e023-4008-aedb-a2cd393bc133\">\n",
              "  <button class=\"colab-df-quickchart\" onclick=\"quickchart('df-7178250a-e023-4008-aedb-a2cd393bc133')\"\n",
              "            title=\"Suggest charts\"\n",
              "            style=\"display:none;\">\n",
              "\n",
              "<svg xmlns=\"http://www.w3.org/2000/svg\" height=\"24px\"viewBox=\"0 0 24 24\"\n",
              "     width=\"24px\">\n",
              "    <g>\n",
              "        <path d=\"M19 3H5c-1.1 0-2 .9-2 2v14c0 1.1.9 2 2 2h14c1.1 0 2-.9 2-2V5c0-1.1-.9-2-2-2zM9 17H7v-7h2v7zm4 0h-2V7h2v10zm4 0h-2v-4h2v4z\"/>\n",
              "    </g>\n",
              "</svg>\n",
              "  </button>\n",
              "\n",
              "<style>\n",
              "  .colab-df-quickchart {\n",
              "      --bg-color: #E8F0FE;\n",
              "      --fill-color: #1967D2;\n",
              "      --hover-bg-color: #E2EBFA;\n",
              "      --hover-fill-color: #174EA6;\n",
              "      --disabled-fill-color: #AAA;\n",
              "      --disabled-bg-color: #DDD;\n",
              "  }\n",
              "\n",
              "  [theme=dark] .colab-df-quickchart {\n",
              "      --bg-color: #3B4455;\n",
              "      --fill-color: #D2E3FC;\n",
              "      --hover-bg-color: #434B5C;\n",
              "      --hover-fill-color: #FFFFFF;\n",
              "      --disabled-bg-color: #3B4455;\n",
              "      --disabled-fill-color: #666;\n",
              "  }\n",
              "\n",
              "  .colab-df-quickchart {\n",
              "    background-color: var(--bg-color);\n",
              "    border: none;\n",
              "    border-radius: 50%;\n",
              "    cursor: pointer;\n",
              "    display: none;\n",
              "    fill: var(--fill-color);\n",
              "    height: 32px;\n",
              "    padding: 0;\n",
              "    width: 32px;\n",
              "  }\n",
              "\n",
              "  .colab-df-quickchart:hover {\n",
              "    background-color: var(--hover-bg-color);\n",
              "    box-shadow: 0 1px 2px rgba(60, 64, 67, 0.3), 0 1px 3px 1px rgba(60, 64, 67, 0.15);\n",
              "    fill: var(--button-hover-fill-color);\n",
              "  }\n",
              "\n",
              "  .colab-df-quickchart-complete:disabled,\n",
              "  .colab-df-quickchart-complete:disabled:hover {\n",
              "    background-color: var(--disabled-bg-color);\n",
              "    fill: var(--disabled-fill-color);\n",
              "    box-shadow: none;\n",
              "  }\n",
              "\n",
              "  .colab-df-spinner {\n",
              "    border: 2px solid var(--fill-color);\n",
              "    border-color: transparent;\n",
              "    border-bottom-color: var(--fill-color);\n",
              "    animation:\n",
              "      spin 1s steps(1) infinite;\n",
              "  }\n",
              "\n",
              "  @keyframes spin {\n",
              "    0% {\n",
              "      border-color: transparent;\n",
              "      border-bottom-color: var(--fill-color);\n",
              "      border-left-color: var(--fill-color);\n",
              "    }\n",
              "    20% {\n",
              "      border-color: transparent;\n",
              "      border-left-color: var(--fill-color);\n",
              "      border-top-color: var(--fill-color);\n",
              "    }\n",
              "    30% {\n",
              "      border-color: transparent;\n",
              "      border-left-color: var(--fill-color);\n",
              "      border-top-color: var(--fill-color);\n",
              "      border-right-color: var(--fill-color);\n",
              "    }\n",
              "    40% {\n",
              "      border-color: transparent;\n",
              "      border-right-color: var(--fill-color);\n",
              "      border-top-color: var(--fill-color);\n",
              "    }\n",
              "    60% {\n",
              "      border-color: transparent;\n",
              "      border-right-color: var(--fill-color);\n",
              "    }\n",
              "    80% {\n",
              "      border-color: transparent;\n",
              "      border-right-color: var(--fill-color);\n",
              "      border-bottom-color: var(--fill-color);\n",
              "    }\n",
              "    90% {\n",
              "      border-color: transparent;\n",
              "      border-bottom-color: var(--fill-color);\n",
              "    }\n",
              "  }\n",
              "</style>\n",
              "\n",
              "  <script>\n",
              "    async function quickchart(key) {\n",
              "      const quickchartButtonEl =\n",
              "        document.querySelector('#' + key + ' button');\n",
              "      quickchartButtonEl.disabled = true;  // To prevent multiple clicks.\n",
              "      quickchartButtonEl.classList.add('colab-df-spinner');\n",
              "      try {\n",
              "        const charts = await google.colab.kernel.invokeFunction(\n",
              "            'suggestCharts', [key], {});\n",
              "      } catch (error) {\n",
              "        console.error('Error during call to suggestCharts:', error);\n",
              "      }\n",
              "      quickchartButtonEl.classList.remove('colab-df-spinner');\n",
              "      quickchartButtonEl.classList.add('colab-df-quickchart-complete');\n",
              "    }\n",
              "    (() => {\n",
              "      let quickchartButtonEl =\n",
              "        document.querySelector('#df-7178250a-e023-4008-aedb-a2cd393bc133 button');\n",
              "      quickchartButtonEl.style.display =\n",
              "        google.colab.kernel.accessAllowed ? 'block' : 'none';\n",
              "    })();\n",
              "  </script>\n",
              "</div>\n",
              "\n",
              "    </div>\n",
              "  </div>\n"
            ],
            "application/vnd.google.colaboratory.intrinsic+json": {
              "type": "dataframe",
              "variable_name": "df",
              "summary": "{\n  \"name\": \"df\",\n  \"rows\": 1000,\n  \"fields\": [\n    {\n      \"column\": \"input\",\n      \"properties\": {\n        \"dtype\": \"category\",\n        \"num_unique_values\": 499,\n        \"samples\": [\n          \"Comment traiter rapidement un rhume?\",\n          \"peut-on am\\u00e9liorer mon CV pour un emploi de d\\u00e9veloppeur iOS ?\",\n          \"Bonjour, Moi voudrais avoir ma lettre continuer besoin ni_plus_ni_moins attrayante pour les recruteurs. Quels conseils pouvez-vous Maine donner?\"\n        ],\n        \"semantic_type\": \"\",\n        \"description\": \"\"\n      }\n    },\n    {\n      \"column\": \"output\",\n      \"properties\": {\n        \"dtype\": \"category\",\n        \"num_unique_values\": 5,\n        \"samples\": [\n          \"cv_improver\",\n          \"KO\",\n          \"lm_improver\"\n        ],\n        \"semantic_type\": \"\",\n        \"description\": \"\"\n      }\n    },\n    {\n      \"column\": \"best_jobs\",\n      \"properties\": {\n        \"dtype\": \"number\",\n        \"std\": 0,\n        \"min\": 0,\n        \"max\": 0,\n        \"num_unique_values\": 1,\n        \"samples\": [\n          0\n        ],\n        \"semantic_type\": \"\",\n        \"description\": \"\"\n      }\n    },\n    {\n      \"column\": \"cv_improver\",\n      \"properties\": {\n        \"dtype\": \"number\",\n        \"std\": 0,\n        \"min\": 0,\n        \"max\": 0,\n        \"num_unique_values\": 1,\n        \"samples\": [\n          0\n        ],\n        \"semantic_type\": \"\",\n        \"description\": \"\"\n      }\n    },\n    {\n      \"column\": \"lm_improver\",\n      \"properties\": {\n        \"dtype\": \"number\",\n        \"std\": 0,\n        \"min\": 0,\n        \"max\": 0,\n        \"num_unique_values\": 1,\n        \"samples\": [\n          0\n        ],\n        \"semantic_type\": \"\",\n        \"description\": \"\"\n      }\n    },\n    {\n      \"column\": \"interview-coaching\",\n      \"properties\": {\n        \"dtype\": \"number\",\n        \"std\": 0,\n        \"min\": 0,\n        \"max\": 0,\n        \"num_unique_values\": 1,\n        \"samples\": [\n          0\n        ],\n        \"semantic_type\": \"\",\n        \"description\": \"\"\n      }\n    },\n    {\n      \"column\": \"KO\",\n      \"properties\": {\n        \"dtype\": \"number\",\n        \"std\": 0,\n        \"min\": 0,\n        \"max\": 0,\n        \"num_unique_values\": 1,\n        \"samples\": [\n          0\n        ],\n        \"semantic_type\": \"\",\n        \"description\": \"\"\n      }\n    }\n  ]\n}"
            }
          },
          "metadata": {},
          "execution_count": 6
        }
      ]
    },
    {
      "cell_type": "code",
      "source": [
        "df.loc[df['output'] == 'best_jobs', 'best_jobs'] = 1\n",
        "df.loc[df['output'] == 'cv_improver', 'cv_improver'] = 1\n",
        "df.loc[df['output'] == 'lm_improver', 'lm_improver'] = 1\n",
        "df.loc[df['output'] == 'interview-coaching', 'interview-coaching'] = 1\n",
        "df.loc[df['output'] == 'KO', 'KO'] = 1"
      ],
      "metadata": {
        "id": "GZulfJXeZQAS"
      },
      "execution_count": null,
      "outputs": []
    },
    {
      "cell_type": "code",
      "source": [
        "df.head()"
      ],
      "metadata": {
        "colab": {
          "base_uri": "https://localhost:8080/",
          "height": 206
        },
        "id": "G9ldqYOmZUVj",
        "outputId": "c7770691-6c3d-49ff-c67b-99894c6f1b69"
      },
      "execution_count": null,
      "outputs": [
        {
          "output_type": "execute_result",
          "data": {
            "text/plain": [
              "                                               input     output  best_jobs  \\\n",
              "0  je cherche un emploi de développeur web en remote  best_jobs          1   \n",
              "1  recommandation pour trouver un poste de data s...  best_jobs          1   \n",
              "2  recherche d'opportunités en tant qu'analyste f...  best_jobs          1   \n",
              "3  conseils pour trouver un emploi en marketing d...  best_jobs          1   \n",
              "4  conseils pour postuler à un emploi de développ...  best_jobs          1   \n",
              "\n",
              "   cv_improver  lm_improver  interview-coaching  KO  \n",
              "0            0            0                   0   0  \n",
              "1            0            0                   0   0  \n",
              "2            0            0                   0   0  \n",
              "3            0            0                   0   0  \n",
              "4            0            0                   0   0  "
            ],
            "text/html": [
              "\n",
              "  <div id=\"df-a75168f1-23c6-4622-a99f-306cef536671\" class=\"colab-df-container\">\n",
              "    <div>\n",
              "<style scoped>\n",
              "    .dataframe tbody tr th:only-of-type {\n",
              "        vertical-align: middle;\n",
              "    }\n",
              "\n",
              "    .dataframe tbody tr th {\n",
              "        vertical-align: top;\n",
              "    }\n",
              "\n",
              "    .dataframe thead th {\n",
              "        text-align: right;\n",
              "    }\n",
              "</style>\n",
              "<table border=\"1\" class=\"dataframe\">\n",
              "  <thead>\n",
              "    <tr style=\"text-align: right;\">\n",
              "      <th></th>\n",
              "      <th>input</th>\n",
              "      <th>output</th>\n",
              "      <th>best_jobs</th>\n",
              "      <th>cv_improver</th>\n",
              "      <th>lm_improver</th>\n",
              "      <th>interview-coaching</th>\n",
              "      <th>KO</th>\n",
              "    </tr>\n",
              "  </thead>\n",
              "  <tbody>\n",
              "    <tr>\n",
              "      <th>0</th>\n",
              "      <td>je cherche un emploi de développeur web en remote</td>\n",
              "      <td>best_jobs</td>\n",
              "      <td>1</td>\n",
              "      <td>0</td>\n",
              "      <td>0</td>\n",
              "      <td>0</td>\n",
              "      <td>0</td>\n",
              "    </tr>\n",
              "    <tr>\n",
              "      <th>1</th>\n",
              "      <td>recommandation pour trouver un poste de data s...</td>\n",
              "      <td>best_jobs</td>\n",
              "      <td>1</td>\n",
              "      <td>0</td>\n",
              "      <td>0</td>\n",
              "      <td>0</td>\n",
              "      <td>0</td>\n",
              "    </tr>\n",
              "    <tr>\n",
              "      <th>2</th>\n",
              "      <td>recherche d'opportunités en tant qu'analyste f...</td>\n",
              "      <td>best_jobs</td>\n",
              "      <td>1</td>\n",
              "      <td>0</td>\n",
              "      <td>0</td>\n",
              "      <td>0</td>\n",
              "      <td>0</td>\n",
              "    </tr>\n",
              "    <tr>\n",
              "      <th>3</th>\n",
              "      <td>conseils pour trouver un emploi en marketing d...</td>\n",
              "      <td>best_jobs</td>\n",
              "      <td>1</td>\n",
              "      <td>0</td>\n",
              "      <td>0</td>\n",
              "      <td>0</td>\n",
              "      <td>0</td>\n",
              "    </tr>\n",
              "    <tr>\n",
              "      <th>4</th>\n",
              "      <td>conseils pour postuler à un emploi de développ...</td>\n",
              "      <td>best_jobs</td>\n",
              "      <td>1</td>\n",
              "      <td>0</td>\n",
              "      <td>0</td>\n",
              "      <td>0</td>\n",
              "      <td>0</td>\n",
              "    </tr>\n",
              "  </tbody>\n",
              "</table>\n",
              "</div>\n",
              "    <div class=\"colab-df-buttons\">\n",
              "\n",
              "  <div class=\"colab-df-container\">\n",
              "    <button class=\"colab-df-convert\" onclick=\"convertToInteractive('df-a75168f1-23c6-4622-a99f-306cef536671')\"\n",
              "            title=\"Convert this dataframe to an interactive table.\"\n",
              "            style=\"display:none;\">\n",
              "\n",
              "  <svg xmlns=\"http://www.w3.org/2000/svg\" height=\"24px\" viewBox=\"0 -960 960 960\">\n",
              "    <path d=\"M120-120v-720h720v720H120Zm60-500h600v-160H180v160Zm220 220h160v-160H400v160Zm0 220h160v-160H400v160ZM180-400h160v-160H180v160Zm440 0h160v-160H620v160ZM180-180h160v-160H180v160Zm440 0h160v-160H620v160Z\"/>\n",
              "  </svg>\n",
              "    </button>\n",
              "\n",
              "  <style>\n",
              "    .colab-df-container {\n",
              "      display:flex;\n",
              "      gap: 12px;\n",
              "    }\n",
              "\n",
              "    .colab-df-convert {\n",
              "      background-color: #E8F0FE;\n",
              "      border: none;\n",
              "      border-radius: 50%;\n",
              "      cursor: pointer;\n",
              "      display: none;\n",
              "      fill: #1967D2;\n",
              "      height: 32px;\n",
              "      padding: 0 0 0 0;\n",
              "      width: 32px;\n",
              "    }\n",
              "\n",
              "    .colab-df-convert:hover {\n",
              "      background-color: #E2EBFA;\n",
              "      box-shadow: 0px 1px 2px rgba(60, 64, 67, 0.3), 0px 1px 3px 1px rgba(60, 64, 67, 0.15);\n",
              "      fill: #174EA6;\n",
              "    }\n",
              "\n",
              "    .colab-df-buttons div {\n",
              "      margin-bottom: 4px;\n",
              "    }\n",
              "\n",
              "    [theme=dark] .colab-df-convert {\n",
              "      background-color: #3B4455;\n",
              "      fill: #D2E3FC;\n",
              "    }\n",
              "\n",
              "    [theme=dark] .colab-df-convert:hover {\n",
              "      background-color: #434B5C;\n",
              "      box-shadow: 0px 1px 3px 1px rgba(0, 0, 0, 0.15);\n",
              "      filter: drop-shadow(0px 1px 2px rgba(0, 0, 0, 0.3));\n",
              "      fill: #FFFFFF;\n",
              "    }\n",
              "  </style>\n",
              "\n",
              "    <script>\n",
              "      const buttonEl =\n",
              "        document.querySelector('#df-a75168f1-23c6-4622-a99f-306cef536671 button.colab-df-convert');\n",
              "      buttonEl.style.display =\n",
              "        google.colab.kernel.accessAllowed ? 'block' : 'none';\n",
              "\n",
              "      async function convertToInteractive(key) {\n",
              "        const element = document.querySelector('#df-a75168f1-23c6-4622-a99f-306cef536671');\n",
              "        const dataTable =\n",
              "          await google.colab.kernel.invokeFunction('convertToInteractive',\n",
              "                                                    [key], {});\n",
              "        if (!dataTable) return;\n",
              "\n",
              "        const docLinkHtml = 'Like what you see? Visit the ' +\n",
              "          '<a target=\"_blank\" href=https://colab.research.google.com/notebooks/data_table.ipynb>data table notebook</a>'\n",
              "          + ' to learn more about interactive tables.';\n",
              "        element.innerHTML = '';\n",
              "        dataTable['output_type'] = 'display_data';\n",
              "        await google.colab.output.renderOutput(dataTable, element);\n",
              "        const docLink = document.createElement('div');\n",
              "        docLink.innerHTML = docLinkHtml;\n",
              "        element.appendChild(docLink);\n",
              "      }\n",
              "    </script>\n",
              "  </div>\n",
              "\n",
              "\n",
              "<div id=\"df-5aa464bc-6bcf-4263-ae56-f99554c46826\">\n",
              "  <button class=\"colab-df-quickchart\" onclick=\"quickchart('df-5aa464bc-6bcf-4263-ae56-f99554c46826')\"\n",
              "            title=\"Suggest charts\"\n",
              "            style=\"display:none;\">\n",
              "\n",
              "<svg xmlns=\"http://www.w3.org/2000/svg\" height=\"24px\"viewBox=\"0 0 24 24\"\n",
              "     width=\"24px\">\n",
              "    <g>\n",
              "        <path d=\"M19 3H5c-1.1 0-2 .9-2 2v14c0 1.1.9 2 2 2h14c1.1 0 2-.9 2-2V5c0-1.1-.9-2-2-2zM9 17H7v-7h2v7zm4 0h-2V7h2v10zm4 0h-2v-4h2v4z\"/>\n",
              "    </g>\n",
              "</svg>\n",
              "  </button>\n",
              "\n",
              "<style>\n",
              "  .colab-df-quickchart {\n",
              "      --bg-color: #E8F0FE;\n",
              "      --fill-color: #1967D2;\n",
              "      --hover-bg-color: #E2EBFA;\n",
              "      --hover-fill-color: #174EA6;\n",
              "      --disabled-fill-color: #AAA;\n",
              "      --disabled-bg-color: #DDD;\n",
              "  }\n",
              "\n",
              "  [theme=dark] .colab-df-quickchart {\n",
              "      --bg-color: #3B4455;\n",
              "      --fill-color: #D2E3FC;\n",
              "      --hover-bg-color: #434B5C;\n",
              "      --hover-fill-color: #FFFFFF;\n",
              "      --disabled-bg-color: #3B4455;\n",
              "      --disabled-fill-color: #666;\n",
              "  }\n",
              "\n",
              "  .colab-df-quickchart {\n",
              "    background-color: var(--bg-color);\n",
              "    border: none;\n",
              "    border-radius: 50%;\n",
              "    cursor: pointer;\n",
              "    display: none;\n",
              "    fill: var(--fill-color);\n",
              "    height: 32px;\n",
              "    padding: 0;\n",
              "    width: 32px;\n",
              "  }\n",
              "\n",
              "  .colab-df-quickchart:hover {\n",
              "    background-color: var(--hover-bg-color);\n",
              "    box-shadow: 0 1px 2px rgba(60, 64, 67, 0.3), 0 1px 3px 1px rgba(60, 64, 67, 0.15);\n",
              "    fill: var(--button-hover-fill-color);\n",
              "  }\n",
              "\n",
              "  .colab-df-quickchart-complete:disabled,\n",
              "  .colab-df-quickchart-complete:disabled:hover {\n",
              "    background-color: var(--disabled-bg-color);\n",
              "    fill: var(--disabled-fill-color);\n",
              "    box-shadow: none;\n",
              "  }\n",
              "\n",
              "  .colab-df-spinner {\n",
              "    border: 2px solid var(--fill-color);\n",
              "    border-color: transparent;\n",
              "    border-bottom-color: var(--fill-color);\n",
              "    animation:\n",
              "      spin 1s steps(1) infinite;\n",
              "  }\n",
              "\n",
              "  @keyframes spin {\n",
              "    0% {\n",
              "      border-color: transparent;\n",
              "      border-bottom-color: var(--fill-color);\n",
              "      border-left-color: var(--fill-color);\n",
              "    }\n",
              "    20% {\n",
              "      border-color: transparent;\n",
              "      border-left-color: var(--fill-color);\n",
              "      border-top-color: var(--fill-color);\n",
              "    }\n",
              "    30% {\n",
              "      border-color: transparent;\n",
              "      border-left-color: var(--fill-color);\n",
              "      border-top-color: var(--fill-color);\n",
              "      border-right-color: var(--fill-color);\n",
              "    }\n",
              "    40% {\n",
              "      border-color: transparent;\n",
              "      border-right-color: var(--fill-color);\n",
              "      border-top-color: var(--fill-color);\n",
              "    }\n",
              "    60% {\n",
              "      border-color: transparent;\n",
              "      border-right-color: var(--fill-color);\n",
              "    }\n",
              "    80% {\n",
              "      border-color: transparent;\n",
              "      border-right-color: var(--fill-color);\n",
              "      border-bottom-color: var(--fill-color);\n",
              "    }\n",
              "    90% {\n",
              "      border-color: transparent;\n",
              "      border-bottom-color: var(--fill-color);\n",
              "    }\n",
              "  }\n",
              "</style>\n",
              "\n",
              "  <script>\n",
              "    async function quickchart(key) {\n",
              "      const quickchartButtonEl =\n",
              "        document.querySelector('#' + key + ' button');\n",
              "      quickchartButtonEl.disabled = true;  // To prevent multiple clicks.\n",
              "      quickchartButtonEl.classList.add('colab-df-spinner');\n",
              "      try {\n",
              "        const charts = await google.colab.kernel.invokeFunction(\n",
              "            'suggestCharts', [key], {});\n",
              "      } catch (error) {\n",
              "        console.error('Error during call to suggestCharts:', error);\n",
              "      }\n",
              "      quickchartButtonEl.classList.remove('colab-df-spinner');\n",
              "      quickchartButtonEl.classList.add('colab-df-quickchart-complete');\n",
              "    }\n",
              "    (() => {\n",
              "      let quickchartButtonEl =\n",
              "        document.querySelector('#df-5aa464bc-6bcf-4263-ae56-f99554c46826 button');\n",
              "      quickchartButtonEl.style.display =\n",
              "        google.colab.kernel.accessAllowed ? 'block' : 'none';\n",
              "    })();\n",
              "  </script>\n",
              "</div>\n",
              "\n",
              "    </div>\n",
              "  </div>\n"
            ],
            "application/vnd.google.colaboratory.intrinsic+json": {
              "type": "dataframe",
              "variable_name": "df",
              "summary": "{\n  \"name\": \"df\",\n  \"rows\": 1000,\n  \"fields\": [\n    {\n      \"column\": \"input\",\n      \"properties\": {\n        \"dtype\": \"category\",\n        \"num_unique_values\": 499,\n        \"samples\": [\n          \"Comment traiter rapidement un rhume?\",\n          \"peut-on am\\u00e9liorer mon CV pour un emploi de d\\u00e9veloppeur iOS ?\",\n          \"Bonjour, Moi voudrais avoir ma lettre continuer besoin ni_plus_ni_moins attrayante pour les recruteurs. Quels conseils pouvez-vous Maine donner?\"\n        ],\n        \"semantic_type\": \"\",\n        \"description\": \"\"\n      }\n    },\n    {\n      \"column\": \"output\",\n      \"properties\": {\n        \"dtype\": \"category\",\n        \"num_unique_values\": 5,\n        \"samples\": [\n          \"cv_improver\",\n          \"KO\",\n          \"lm_improver\"\n        ],\n        \"semantic_type\": \"\",\n        \"description\": \"\"\n      }\n    },\n    {\n      \"column\": \"best_jobs\",\n      \"properties\": {\n        \"dtype\": \"number\",\n        \"std\": 0,\n        \"min\": 0,\n        \"max\": 1,\n        \"num_unique_values\": 2,\n        \"samples\": [\n          0,\n          1\n        ],\n        \"semantic_type\": \"\",\n        \"description\": \"\"\n      }\n    },\n    {\n      \"column\": \"cv_improver\",\n      \"properties\": {\n        \"dtype\": \"number\",\n        \"std\": 0,\n        \"min\": 0,\n        \"max\": 1,\n        \"num_unique_values\": 2,\n        \"samples\": [\n          1,\n          0\n        ],\n        \"semantic_type\": \"\",\n        \"description\": \"\"\n      }\n    },\n    {\n      \"column\": \"lm_improver\",\n      \"properties\": {\n        \"dtype\": \"number\",\n        \"std\": 0,\n        \"min\": 0,\n        \"max\": 1,\n        \"num_unique_values\": 2,\n        \"samples\": [\n          1,\n          0\n        ],\n        \"semantic_type\": \"\",\n        \"description\": \"\"\n      }\n    },\n    {\n      \"column\": \"interview-coaching\",\n      \"properties\": {\n        \"dtype\": \"number\",\n        \"std\": 0,\n        \"min\": 0,\n        \"max\": 1,\n        \"num_unique_values\": 2,\n        \"samples\": [\n          1,\n          0\n        ],\n        \"semantic_type\": \"\",\n        \"description\": \"\"\n      }\n    },\n    {\n      \"column\": \"KO\",\n      \"properties\": {\n        \"dtype\": \"number\",\n        \"std\": 0,\n        \"min\": 0,\n        \"max\": 1,\n        \"num_unique_values\": 2,\n        \"samples\": [\n          1,\n          0\n        ],\n        \"semantic_type\": \"\",\n        \"description\": \"\"\n      }\n    }\n  ]\n}"
            }
          },
          "metadata": {},
          "execution_count": 8
        }
      ]
    },
    {
      "cell_type": "code",
      "source": [
        "# Save the combined dataframe to Google Drive\n",
        "df.to_csv('/content/drive/MyDrive/Prompt-classifier/edited_preprocessed_data.csv', index=False)"
      ],
      "metadata": {
        "id": "tZLfqydW-ixz"
      },
      "execution_count": null,
      "outputs": []
    },
    {
      "cell_type": "code",
      "source": [
        "# Verify assignments\n",
        "print(\"Class Distribution for 'best_jobs':\")\n",
        "print(df['best_jobs'].value_counts())\n",
        "print(\"Class Distribution for 'cv_improver':\")\n",
        "print(df['cv_improver'].value_counts())\n",
        "print(\"Class Distribution for 'lm_improver':\")\n",
        "print(df['lm_improver'].value_counts())\n",
        "print(\"Class Distribution for 'interview_coaching':\")\n",
        "print(df['interview-coaching'].value_counts())\n",
        "print(\"Class Distribution for 'ko':\")\n",
        "print(df['KO'].value_counts())\n"
      ],
      "metadata": {
        "colab": {
          "base_uri": "https://localhost:8080/"
        },
        "id": "SKBqgc-K5nZT",
        "outputId": "4afbd709-0e75-4efb-8874-3df34a564034"
      },
      "execution_count": null,
      "outputs": [
        {
          "output_type": "stream",
          "name": "stdout",
          "text": [
            "Class Distribution for 'best_jobs':\n",
            "best_jobs\n",
            "0    800\n",
            "1    200\n",
            "Name: count, dtype: int64\n",
            "Class Distribution for 'cv_improver':\n",
            "cv_improver\n",
            "0    800\n",
            "1    200\n",
            "Name: count, dtype: int64\n",
            "Class Distribution for 'lm_improver':\n",
            "lm_improver\n",
            "0    800\n",
            "1    200\n",
            "Name: count, dtype: int64\n",
            "Class Distribution for 'interview_coaching':\n",
            "interview-coaching\n",
            "0    800\n",
            "1    200\n",
            "Name: count, dtype: int64\n",
            "Class Distribution for 'ko':\n",
            "KO\n",
            "0    800\n",
            "1    200\n",
            "Name: count, dtype: int64\n"
          ]
        }
      ]
    },
    {
      "cell_type": "code",
      "source": [
        "# Data augmentation function\n",
        "def augment_data(df, target_class='best_jobs'):\n",
        "    # Identify the minority class\n",
        "    minority_class_label = 1\n",
        "\n",
        "    # Get the data for the minority class\n",
        "    minority_data = df[df[target_class] == minority_class_label]\n",
        "\n",
        "    # Define the number of samples you want to augment\n",
        "    majority_class_size = df[target_class].value_counts().max()\n",
        "    num_samples_to_augment = majority_class_size - len(minority_data)\n",
        "\n",
        "    # Augment the data to balance the class distribution\n",
        "    augmented_samples = []\n",
        "    while len(augmented_samples) < num_samples_to_augment:\n",
        "        for index, row in minority_data.iterrows():\n",
        "            if len(augmented_samples) >= num_samples_to_augment:\n",
        "                break\n",
        "            augmented_text = synonym_replacement_french(row['input'])\n",
        "            augmented_samples.append({'input': augmented_text, target_class: minority_class_label})\n",
        "            if len(augmented_samples) >= num_samples_to_augment:\n",
        "                break\n",
        "            augmented_text = back_translation_french(row['input'])\n",
        "            augmented_samples.append({'input': augmented_text, target_class: minority_class_label})\n",
        "\n",
        "    # Convert the list of augmented samples to a DataFrame\n",
        "    augmented_df = pd.DataFrame(augmented_samples)\n",
        "\n",
        "    # Concatenate the augmented data with the original dataset\n",
        "    balanced_df = pd.concat([df, augmented_df], ignore_index=True)\n",
        "\n",
        "    # Shuffle the DataFrame to ensure randomness\n",
        "    balanced_df = balanced_df.sample(frac=1, random_state=42).reset_index(drop=True)\n",
        "\n",
        "    return balanced_df"
      ],
      "metadata": {
        "id": "X7b77JkQt_C-"
      },
      "execution_count": null,
      "outputs": []
    },
    {
      "cell_type": "markdown",
      "source": [
        "## Best-Job binary logistic regression classifier"
      ],
      "metadata": {
        "id": "kvsNwUlKUEqW"
      }
    },
    {
      "cell_type": "code",
      "source": [
        "# Check the class distribution\n",
        "class_distribution = df['best_jobs'].value_counts()\n",
        "print(class_distribution)"
      ],
      "metadata": {
        "colab": {
          "base_uri": "https://localhost:8080/"
        },
        "id": "hfaVhwxvZ8rN",
        "outputId": "113b9067-9ecc-4a7a-a9d6-68dacab8721d"
      },
      "execution_count": null,
      "outputs": [
        {
          "output_type": "stream",
          "name": "stdout",
          "text": [
            "best_jobs\n",
            "0    800\n",
            "1    200\n",
            "Name: count, dtype: int64\n"
          ]
        }
      ]
    },
    {
      "cell_type": "code",
      "source": [
        "# Balance the dataset using data augmentation\n",
        "balanced_df_bj = augment_data(df, target_class='best_jobs')"
      ],
      "metadata": {
        "id": "Oa1tLpwLjMzN"
      },
      "execution_count": null,
      "outputs": []
    },
    {
      "cell_type": "code",
      "source": [
        "# Save the combined dataframe to Google Drive\n",
        "balanced_df_bj.to_csv('/content/drive/MyDrive/Prompt-classifier/balanced_df_bj.csv', index=False)"
      ],
      "metadata": {
        "id": "FAGBr45hlj3h"
      },
      "execution_count": null,
      "outputs": []
    },
    {
      "cell_type": "code",
      "source": [
        "# Check the class distribution\n",
        "class_distribution = balanced_df_bj['best_jobs'].value_counts()\n",
        "print(class_distribution)"
      ],
      "metadata": {
        "colab": {
          "base_uri": "https://localhost:8080/"
        },
        "id": "z8LvyvpPlZ28",
        "outputId": "babdf1da-4dfc-447d-8868-9b039440bfe3"
      },
      "execution_count": null,
      "outputs": [
        {
          "output_type": "stream",
          "name": "stdout",
          "text": [
            "best_jobs\n",
            "0    800\n",
            "1    800\n",
            "Name: count, dtype: int64\n"
          ]
        }
      ]
    },
    {
      "cell_type": "code",
      "source": [
        "# Apply text preprocessing\n",
        "balanced_df_bj['input'] = balanced_df_bj['input'].apply(preprocess_text)"
      ],
      "metadata": {
        "id": "R9rf7snmslvM"
      },
      "execution_count": null,
      "outputs": []
    },
    {
      "cell_type": "code",
      "source": [
        "# Save the combined dataframe to Google Drive\n",
        "balanced_df_bj.to_csv('/content/drive/MyDrive/Prompt-classifier/df_bj.csv', index=False)"
      ],
      "metadata": {
        "id": "CoqP_1AWsuAu"
      },
      "execution_count": null,
      "outputs": []
    },
    {
      "cell_type": "code",
      "source": [
        "# Display the head of the DataFrame after preprocessing\n",
        "print(\"Head of the DataFrame after preprocessing:\")\n",
        "balanced_df_bj.head()"
      ],
      "metadata": {
        "id": "W5I50QwfsyHZ",
        "colab": {
          "base_uri": "https://localhost:8080/",
          "height": 223
        },
        "outputId": "298dc731-2375-4477-d0ed-0971f9adf20b"
      },
      "execution_count": null,
      "outputs": [
        {
          "output_type": "stream",
          "name": "stdout",
          "text": [
            "Head of the DataFrame after preprocessing:\n"
          ]
        },
        {
          "output_type": "execute_result",
          "data": {
            "text/plain": [
              "                                               input       output  best_jobs  \\\n",
              "0  bonjour vouloir avoir lettre continuer besoin ...  lm_improver          0   \n",
              "1  bonjour peu jet inégalable oeil maturité cv ma...  cv_improver          0   \n",
              "2  bonjour recherche offre emploi chef produit ma...    best_jobs          1   \n",
              "3  enquête opportunité après cruellemer cependant...    best_jobs          1   \n",
              "4  quel dernier film maturité voir absolument ce ...           KO          0   \n",
              "\n",
              "   cv_improver  lm_improver  interview-coaching   KO  \n",
              "0          0.0          1.0                 0.0  0.0  \n",
              "1          1.0          0.0                 0.0  0.0  \n",
              "2          0.0          0.0                 0.0  0.0  \n",
              "3          0.0          0.0                 0.0  0.0  \n",
              "4          0.0          0.0                 0.0  1.0  "
            ],
            "text/html": [
              "\n",
              "  <div id=\"df-757a9d4c-c602-4976-babf-d4bf07c808b2\" class=\"colab-df-container\">\n",
              "    <div>\n",
              "<style scoped>\n",
              "    .dataframe tbody tr th:only-of-type {\n",
              "        vertical-align: middle;\n",
              "    }\n",
              "\n",
              "    .dataframe tbody tr th {\n",
              "        vertical-align: top;\n",
              "    }\n",
              "\n",
              "    .dataframe thead th {\n",
              "        text-align: right;\n",
              "    }\n",
              "</style>\n",
              "<table border=\"1\" class=\"dataframe\">\n",
              "  <thead>\n",
              "    <tr style=\"text-align: right;\">\n",
              "      <th></th>\n",
              "      <th>input</th>\n",
              "      <th>output</th>\n",
              "      <th>best_jobs</th>\n",
              "      <th>cv_improver</th>\n",
              "      <th>lm_improver</th>\n",
              "      <th>interview-coaching</th>\n",
              "      <th>KO</th>\n",
              "    </tr>\n",
              "  </thead>\n",
              "  <tbody>\n",
              "    <tr>\n",
              "      <th>0</th>\n",
              "      <td>bonjour vouloir avoir lettre continuer besoin ...</td>\n",
              "      <td>lm_improver</td>\n",
              "      <td>0</td>\n",
              "      <td>0.0</td>\n",
              "      <td>1.0</td>\n",
              "      <td>0.0</td>\n",
              "      <td>0.0</td>\n",
              "    </tr>\n",
              "    <tr>\n",
              "      <th>1</th>\n",
              "      <td>bonjour peu jet inégalable oeil maturité cv ma...</td>\n",
              "      <td>cv_improver</td>\n",
              "      <td>0</td>\n",
              "      <td>1.0</td>\n",
              "      <td>0.0</td>\n",
              "      <td>0.0</td>\n",
              "      <td>0.0</td>\n",
              "    </tr>\n",
              "    <tr>\n",
              "      <th>2</th>\n",
              "      <td>bonjour recherche offre emploi chef produit ma...</td>\n",
              "      <td>best_jobs</td>\n",
              "      <td>1</td>\n",
              "      <td>0.0</td>\n",
              "      <td>0.0</td>\n",
              "      <td>0.0</td>\n",
              "      <td>0.0</td>\n",
              "    </tr>\n",
              "    <tr>\n",
              "      <th>3</th>\n",
              "      <td>enquête opportunité après cruellemer cependant...</td>\n",
              "      <td>best_jobs</td>\n",
              "      <td>1</td>\n",
              "      <td>0.0</td>\n",
              "      <td>0.0</td>\n",
              "      <td>0.0</td>\n",
              "      <td>0.0</td>\n",
              "    </tr>\n",
              "    <tr>\n",
              "      <th>4</th>\n",
              "      <td>quel dernier film maturité voir absolument ce ...</td>\n",
              "      <td>KO</td>\n",
              "      <td>0</td>\n",
              "      <td>0.0</td>\n",
              "      <td>0.0</td>\n",
              "      <td>0.0</td>\n",
              "      <td>1.0</td>\n",
              "    </tr>\n",
              "  </tbody>\n",
              "</table>\n",
              "</div>\n",
              "    <div class=\"colab-df-buttons\">\n",
              "\n",
              "  <div class=\"colab-df-container\">\n",
              "    <button class=\"colab-df-convert\" onclick=\"convertToInteractive('df-757a9d4c-c602-4976-babf-d4bf07c808b2')\"\n",
              "            title=\"Convert this dataframe to an interactive table.\"\n",
              "            style=\"display:none;\">\n",
              "\n",
              "  <svg xmlns=\"http://www.w3.org/2000/svg\" height=\"24px\" viewBox=\"0 -960 960 960\">\n",
              "    <path d=\"M120-120v-720h720v720H120Zm60-500h600v-160H180v160Zm220 220h160v-160H400v160Zm0 220h160v-160H400v160ZM180-400h160v-160H180v160Zm440 0h160v-160H620v160ZM180-180h160v-160H180v160Zm440 0h160v-160H620v160Z\"/>\n",
              "  </svg>\n",
              "    </button>\n",
              "\n",
              "  <style>\n",
              "    .colab-df-container {\n",
              "      display:flex;\n",
              "      gap: 12px;\n",
              "    }\n",
              "\n",
              "    .colab-df-convert {\n",
              "      background-color: #E8F0FE;\n",
              "      border: none;\n",
              "      border-radius: 50%;\n",
              "      cursor: pointer;\n",
              "      display: none;\n",
              "      fill: #1967D2;\n",
              "      height: 32px;\n",
              "      padding: 0 0 0 0;\n",
              "      width: 32px;\n",
              "    }\n",
              "\n",
              "    .colab-df-convert:hover {\n",
              "      background-color: #E2EBFA;\n",
              "      box-shadow: 0px 1px 2px rgba(60, 64, 67, 0.3), 0px 1px 3px 1px rgba(60, 64, 67, 0.15);\n",
              "      fill: #174EA6;\n",
              "    }\n",
              "\n",
              "    .colab-df-buttons div {\n",
              "      margin-bottom: 4px;\n",
              "    }\n",
              "\n",
              "    [theme=dark] .colab-df-convert {\n",
              "      background-color: #3B4455;\n",
              "      fill: #D2E3FC;\n",
              "    }\n",
              "\n",
              "    [theme=dark] .colab-df-convert:hover {\n",
              "      background-color: #434B5C;\n",
              "      box-shadow: 0px 1px 3px 1px rgba(0, 0, 0, 0.15);\n",
              "      filter: drop-shadow(0px 1px 2px rgba(0, 0, 0, 0.3));\n",
              "      fill: #FFFFFF;\n",
              "    }\n",
              "  </style>\n",
              "\n",
              "    <script>\n",
              "      const buttonEl =\n",
              "        document.querySelector('#df-757a9d4c-c602-4976-babf-d4bf07c808b2 button.colab-df-convert');\n",
              "      buttonEl.style.display =\n",
              "        google.colab.kernel.accessAllowed ? 'block' : 'none';\n",
              "\n",
              "      async function convertToInteractive(key) {\n",
              "        const element = document.querySelector('#df-757a9d4c-c602-4976-babf-d4bf07c808b2');\n",
              "        const dataTable =\n",
              "          await google.colab.kernel.invokeFunction('convertToInteractive',\n",
              "                                                    [key], {});\n",
              "        if (!dataTable) return;\n",
              "\n",
              "        const docLinkHtml = 'Like what you see? Visit the ' +\n",
              "          '<a target=\"_blank\" href=https://colab.research.google.com/notebooks/data_table.ipynb>data table notebook</a>'\n",
              "          + ' to learn more about interactive tables.';\n",
              "        element.innerHTML = '';\n",
              "        dataTable['output_type'] = 'display_data';\n",
              "        await google.colab.output.renderOutput(dataTable, element);\n",
              "        const docLink = document.createElement('div');\n",
              "        docLink.innerHTML = docLinkHtml;\n",
              "        element.appendChild(docLink);\n",
              "      }\n",
              "    </script>\n",
              "  </div>\n",
              "\n",
              "\n",
              "<div id=\"df-c8448107-a534-4080-94c8-7ace1f5d94a8\">\n",
              "  <button class=\"colab-df-quickchart\" onclick=\"quickchart('df-c8448107-a534-4080-94c8-7ace1f5d94a8')\"\n",
              "            title=\"Suggest charts\"\n",
              "            style=\"display:none;\">\n",
              "\n",
              "<svg xmlns=\"http://www.w3.org/2000/svg\" height=\"24px\"viewBox=\"0 0 24 24\"\n",
              "     width=\"24px\">\n",
              "    <g>\n",
              "        <path d=\"M19 3H5c-1.1 0-2 .9-2 2v14c0 1.1.9 2 2 2h14c1.1 0 2-.9 2-2V5c0-1.1-.9-2-2-2zM9 17H7v-7h2v7zm4 0h-2V7h2v10zm4 0h-2v-4h2v4z\"/>\n",
              "    </g>\n",
              "</svg>\n",
              "  </button>\n",
              "\n",
              "<style>\n",
              "  .colab-df-quickchart {\n",
              "      --bg-color: #E8F0FE;\n",
              "      --fill-color: #1967D2;\n",
              "      --hover-bg-color: #E2EBFA;\n",
              "      --hover-fill-color: #174EA6;\n",
              "      --disabled-fill-color: #AAA;\n",
              "      --disabled-bg-color: #DDD;\n",
              "  }\n",
              "\n",
              "  [theme=dark] .colab-df-quickchart {\n",
              "      --bg-color: #3B4455;\n",
              "      --fill-color: #D2E3FC;\n",
              "      --hover-bg-color: #434B5C;\n",
              "      --hover-fill-color: #FFFFFF;\n",
              "      --disabled-bg-color: #3B4455;\n",
              "      --disabled-fill-color: #666;\n",
              "  }\n",
              "\n",
              "  .colab-df-quickchart {\n",
              "    background-color: var(--bg-color);\n",
              "    border: none;\n",
              "    border-radius: 50%;\n",
              "    cursor: pointer;\n",
              "    display: none;\n",
              "    fill: var(--fill-color);\n",
              "    height: 32px;\n",
              "    padding: 0;\n",
              "    width: 32px;\n",
              "  }\n",
              "\n",
              "  .colab-df-quickchart:hover {\n",
              "    background-color: var(--hover-bg-color);\n",
              "    box-shadow: 0 1px 2px rgba(60, 64, 67, 0.3), 0 1px 3px 1px rgba(60, 64, 67, 0.15);\n",
              "    fill: var(--button-hover-fill-color);\n",
              "  }\n",
              "\n",
              "  .colab-df-quickchart-complete:disabled,\n",
              "  .colab-df-quickchart-complete:disabled:hover {\n",
              "    background-color: var(--disabled-bg-color);\n",
              "    fill: var(--disabled-fill-color);\n",
              "    box-shadow: none;\n",
              "  }\n",
              "\n",
              "  .colab-df-spinner {\n",
              "    border: 2px solid var(--fill-color);\n",
              "    border-color: transparent;\n",
              "    border-bottom-color: var(--fill-color);\n",
              "    animation:\n",
              "      spin 1s steps(1) infinite;\n",
              "  }\n",
              "\n",
              "  @keyframes spin {\n",
              "    0% {\n",
              "      border-color: transparent;\n",
              "      border-bottom-color: var(--fill-color);\n",
              "      border-left-color: var(--fill-color);\n",
              "    }\n",
              "    20% {\n",
              "      border-color: transparent;\n",
              "      border-left-color: var(--fill-color);\n",
              "      border-top-color: var(--fill-color);\n",
              "    }\n",
              "    30% {\n",
              "      border-color: transparent;\n",
              "      border-left-color: var(--fill-color);\n",
              "      border-top-color: var(--fill-color);\n",
              "      border-right-color: var(--fill-color);\n",
              "    }\n",
              "    40% {\n",
              "      border-color: transparent;\n",
              "      border-right-color: var(--fill-color);\n",
              "      border-top-color: var(--fill-color);\n",
              "    }\n",
              "    60% {\n",
              "      border-color: transparent;\n",
              "      border-right-color: var(--fill-color);\n",
              "    }\n",
              "    80% {\n",
              "      border-color: transparent;\n",
              "      border-right-color: var(--fill-color);\n",
              "      border-bottom-color: var(--fill-color);\n",
              "    }\n",
              "    90% {\n",
              "      border-color: transparent;\n",
              "      border-bottom-color: var(--fill-color);\n",
              "    }\n",
              "  }\n",
              "</style>\n",
              "\n",
              "  <script>\n",
              "    async function quickchart(key) {\n",
              "      const quickchartButtonEl =\n",
              "        document.querySelector('#' + key + ' button');\n",
              "      quickchartButtonEl.disabled = true;  // To prevent multiple clicks.\n",
              "      quickchartButtonEl.classList.add('colab-df-spinner');\n",
              "      try {\n",
              "        const charts = await google.colab.kernel.invokeFunction(\n",
              "            'suggestCharts', [key], {});\n",
              "      } catch (error) {\n",
              "        console.error('Error during call to suggestCharts:', error);\n",
              "      }\n",
              "      quickchartButtonEl.classList.remove('colab-df-spinner');\n",
              "      quickchartButtonEl.classList.add('colab-df-quickchart-complete');\n",
              "    }\n",
              "    (() => {\n",
              "      let quickchartButtonEl =\n",
              "        document.querySelector('#df-c8448107-a534-4080-94c8-7ace1f5d94a8 button');\n",
              "      quickchartButtonEl.style.display =\n",
              "        google.colab.kernel.accessAllowed ? 'block' : 'none';\n",
              "    })();\n",
              "  </script>\n",
              "</div>\n",
              "\n",
              "    </div>\n",
              "  </div>\n"
            ],
            "application/vnd.google.colaboratory.intrinsic+json": {
              "type": "dataframe",
              "variable_name": "balanced_df_bj",
              "summary": "{\n  \"name\": \"balanced_df_bj\",\n  \"rows\": 1600,\n  \"fields\": [\n    {\n      \"column\": \"input\",\n      \"properties\": {\n        \"dtype\": \"category\",\n        \"num_unique_values\": 510,\n        \"samples\": [\n          \"quelle \\u00e9tape important suivre pr\\u00e9parer entretien finance\",\n          \"strat\\u00e9gie manquer in\\u00e9galable entretien in\\u00e9galable poste continuer capital continuer entreprise computationnel\",\n          \"conseil lettre motivation candidature spontaner marketing\"\n        ],\n        \"semantic_type\": \"\",\n        \"description\": \"\"\n      }\n    },\n    {\n      \"column\": \"output\",\n      \"properties\": {\n        \"dtype\": \"category\",\n        \"num_unique_values\": 5,\n        \"samples\": [\n          \"cv_improver\",\n          \"interview-coaching\",\n          \"best_jobs\"\n        ],\n        \"semantic_type\": \"\",\n        \"description\": \"\"\n      }\n    },\n    {\n      \"column\": \"best_jobs\",\n      \"properties\": {\n        \"dtype\": \"number\",\n        \"std\": 0,\n        \"min\": 0,\n        \"max\": 1,\n        \"num_unique_values\": 2,\n        \"samples\": [\n          1,\n          0\n        ],\n        \"semantic_type\": \"\",\n        \"description\": \"\"\n      }\n    },\n    {\n      \"column\": \"cv_improver\",\n      \"properties\": {\n        \"dtype\": \"number\",\n        \"std\": 0.40020015012510957,\n        \"min\": 0.0,\n        \"max\": 1.0,\n        \"num_unique_values\": 2,\n        \"samples\": [\n          1.0,\n          0.0\n        ],\n        \"semantic_type\": \"\",\n        \"description\": \"\"\n      }\n    },\n    {\n      \"column\": \"lm_improver\",\n      \"properties\": {\n        \"dtype\": \"number\",\n        \"std\": 0.40020015012510957,\n        \"min\": 0.0,\n        \"max\": 1.0,\n        \"num_unique_values\": 2,\n        \"samples\": [\n          0.0,\n          1.0\n        ],\n        \"semantic_type\": \"\",\n        \"description\": \"\"\n      }\n    },\n    {\n      \"column\": \"interview-coaching\",\n      \"properties\": {\n        \"dtype\": \"number\",\n        \"std\": 0.40020015012510957,\n        \"min\": 0.0,\n        \"max\": 1.0,\n        \"num_unique_values\": 2,\n        \"samples\": [\n          1.0,\n          0.0\n        ],\n        \"semantic_type\": \"\",\n        \"description\": \"\"\n      }\n    },\n    {\n      \"column\": \"KO\",\n      \"properties\": {\n        \"dtype\": \"number\",\n        \"std\": 0.4002001501251095,\n        \"min\": 0.0,\n        \"max\": 1.0,\n        \"num_unique_values\": 2,\n        \"samples\": [\n          1.0,\n          0.0\n        ],\n        \"semantic_type\": \"\",\n        \"description\": \"\"\n      }\n    }\n  ]\n}"
            }
          },
          "metadata": {},
          "execution_count": 25
        }
      ]
    },
    {
      "cell_type": "code",
      "source": [
        "# Path to your CSV file\n",
        "csv_file_path = '/content/drive/MyDrive/Prompt-classifier/df_bj.csv'\n",
        "\n",
        "# Read the CSV file into a DataFrame\n",
        "balanced_df_bj = pd.read_csv(csv_file_path)"
      ],
      "metadata": {
        "id": "3qXFM5BKaXBa"
      },
      "execution_count": null,
      "outputs": []
    },
    {
      "cell_type": "code",
      "source": [
        "# Features and target variable for the 'best_jobs' class\n",
        "X_bj = balanced_df_bj['input']\n",
        "y_bj= balanced_df_bj['best_jobs']\n",
        "\n",
        "# Split the data into training and testing sets\n",
        "X_train_bj, X_test_bj, y_train_bj, y_test_bj = train_test_split(X_bj, y_bj, test_size=0.2, random_state=42)\n",
        "\n",
        "# Convert text data into numerical features using TfidfVectorizer\n",
        "tfidf_bj = TfidfVectorizer()\n",
        "X_train_bj_tfidf = tfidf_bj.fit_transform(X_train_bj)\n",
        "X_test_bj_tfidf = tfidf_bj.transform(X_test_bj)\n",
        "\n",
        "# Train the logistic regression model\n",
        "log_reg_best_jobs = LogisticRegression()\n",
        "log_reg_best_jobs.fit(X_train_bj_tfidf, y_train_bj)\n",
        "\n",
        "# Predict on the test set\n",
        "y_pred_bj= log_reg_best_jobs.predict(X_test_bj_tfidf)\n",
        "\n",
        "# Evaluate the model\n",
        "print(classification_report(y_test_bj, y_pred_bj))\n",
        "\n",
        "# Print the class distribution after augmentation\n",
        "print(\"Class distribution after augmentation:\", Counter(y_train_bj))"
      ],
      "metadata": {
        "colab": {
          "base_uri": "https://localhost:8080/"
        },
        "id": "PJdap-I5jf4j",
        "outputId": "813098af-df00-4de5-b6a5-f5219c465779"
      },
      "execution_count": null,
      "outputs": [
        {
          "output_type": "stream",
          "name": "stdout",
          "text": [
            "              precision    recall  f1-score   support\n",
            "\n",
            "           0       1.00      1.00      1.00       154\n",
            "           1       1.00      1.00      1.00       166\n",
            "\n",
            "    accuracy                           1.00       320\n",
            "   macro avg       1.00      1.00      1.00       320\n",
            "weighted avg       1.00      1.00      1.00       320\n",
            "\n",
            "Class distribution after augmentation: Counter({0: 646, 1: 634})\n"
          ]
        }
      ]
    },
    {
      "cell_type": "code",
      "source": [
        "# Confusion matrix and accuracy score\n",
        "conf_matrix = confusion_matrix(y_test_bj, y_pred_bj)\n",
        "accuracy = accuracy_score(y_test_bj, y_pred_bj)\n",
        "\n",
        "print(\"\\nConfusion Matrix:\")\n",
        "print(conf_matrix)\n",
        "\n",
        "print(\"\\nAccuracy Score:\")\n",
        "print(accuracy)\n",
        "\n",
        "# Plotting the confusion matrix\n",
        "plt.figure(figsize=(10, 7))\n",
        "sns.heatmap(conf_matrix, annot=True, fmt='d', cmap='Blues', xticklabels=['Not Best Jobs', 'Best Jobs'], yticklabels=['Not Best Jobs', 'Best Jobs'])\n",
        "plt.xlabel('Predicted')\n",
        "plt.ylabel('Actual')\n",
        "plt.title('Confusion Matrix')\n",
        "plt.show()"
      ],
      "metadata": {
        "colab": {
          "base_uri": "https://localhost:8080/",
          "height": 762
        },
        "id": "X4xd37yynEHg",
        "outputId": "b49279a5-3f60-4bf1-c647-8c57b75b464b"
      },
      "execution_count": null,
      "outputs": [
        {
          "output_type": "stream",
          "name": "stdout",
          "text": [
            "\n",
            "Confusion Matrix:\n",
            "[[154   0]\n",
            " [  0 166]]\n",
            "\n",
            "Accuracy Score:\n",
            "1.0\n"
          ]
        },
        {
          "output_type": "display_data",
          "data": {
            "text/plain": [
              "<Figure size 1000x700 with 2 Axes>"
            ],
            "image/png": "[encoded data removed]"
          },
          "metadata": {}
        }
      ]
    },
    {
      "cell_type": "code",
      "source": [
        "# Define the paths\n",
        "model_path = '/content/drive/MyDrive/Prompt-classifier/log_reg_best_jobs_model.joblib'\n",
        "vectorizer_path = '/content/drive/MyDrive/Prompt-classifier/tfidf_vectorizer_bj.joblib'\n",
        "\n",
        "# Save the model and vectorizer\n",
        "joblib.dump(log_reg_best_jobs, model_path)\n",
        "joblib.dump(tfidf_bj, vectorizer_path)\n",
        "\n",
        "print(\"Model and vectorizer saved successfully in joblib format.\")"
      ],
      "metadata": {
        "colab": {
          "base_uri": "https://localhost:8080/"
        },
        "id": "J2Uumir3o8mn",
        "outputId": "061394f3-8a93-494a-cf27-5691253b837e"
      },
      "execution_count": null,
      "outputs": [
        {
          "output_type": "stream",
          "name": "stdout",
          "text": [
            "Model and vectorizer saved successfully in joblib format.\n"
          ]
        }
      ]
    },
    {
      "cell_type": "markdown",
      "source": [
        "## cv-improver binary logistic regression classifier"
      ],
      "metadata": {
        "id": "i30_HkYjUmtz"
      }
    },
    {
      "cell_type": "code",
      "source": [
        "# Check the class distribution\n",
        "class_distribution = df['cv_improver'].value_counts()\n",
        "print(class_distribution)"
      ],
      "metadata": {
        "colab": {
          "base_uri": "https://localhost:8080/"
        },
        "id": "O8cBLvLOUxY4",
        "outputId": "59819791-9d46-4f4f-8e6a-2c974b26300e"
      },
      "execution_count": null,
      "outputs": [
        {
          "output_type": "stream",
          "name": "stdout",
          "text": [
            "cv_improver\n",
            "0    800\n",
            "1    200\n",
            "Name: count, dtype: int64\n"
          ]
        }
      ]
    },
    {
      "cell_type": "code",
      "source": [
        "# Balance the dataset using data augmentation\n",
        "balanced_df_cv = augment_data(df, target_class='cv_improver')"
      ],
      "metadata": {
        "id": "2ARo7fnxbukJ"
      },
      "execution_count": null,
      "outputs": []
    },
    {
      "cell_type": "code",
      "source": [
        "# Check the class distribution\n",
        "class_distribution = balanced_df_cv['cv_improver'].value_counts()\n",
        "print(class_distribution)"
      ],
      "metadata": {
        "id": "zMq797a2sdg9",
        "colab": {
          "base_uri": "https://localhost:8080/"
        },
        "outputId": "57d0761a-12a5-4480-b945-7a97bbfddea8"
      },
      "execution_count": null,
      "outputs": [
        {
          "output_type": "stream",
          "name": "stdout",
          "text": [
            "cv_improver\n",
            "0    800\n",
            "1    800\n",
            "Name: count, dtype: int64\n"
          ]
        }
      ]
    },
    {
      "cell_type": "code",
      "source": [
        "# Apply text preprocessing\n",
        "balanced_df_cv['input'] = balanced_df_cv['input'].apply(preprocess_text)"
      ],
      "metadata": {
        "id": "1YeXWp_KuJ17"
      },
      "execution_count": null,
      "outputs": []
    },
    {
      "cell_type": "code",
      "source": [
        "# Save the preprocessed dataframe to Google Drive\n",
        "balanced_df_cv.to_csv('/content/drive/MyDrive/Prompt-classifier/df_cv.csv', index=False)"
      ],
      "metadata": {
        "id": "Qu5TsXLOwJVQ"
      },
      "execution_count": null,
      "outputs": []
    },
    {
      "cell_type": "code",
      "source": [
        "# Path to your CSV file\n",
        "csv_file_path = '/content/drive/MyDrive/Prompt-classifier/df_cv.csv'\n",
        "\n",
        "# Read the CSV file into a DataFrame\n",
        "balanced_df_cv = pd.read_csv(csv_file_path)"
      ],
      "metadata": {
        "id": "dPZfbazaaexP"
      },
      "execution_count": null,
      "outputs": []
    },
    {
      "cell_type": "code",
      "source": [
        "# Features and target variable for the 'best_jobs' class\n",
        "X_cv = balanced_df_cv['input']\n",
        "y_cv= balanced_df_cv['cv_improver']\n",
        "\n",
        "# Split the data into training and testing sets\n",
        "X_train_cv, X_test_cv, y_train_cv, y_test_cv = train_test_split(X_cv, y_cv, test_size=0.2, random_state=42)\n",
        "\n",
        "# Convert text data into numerical features using TfidfVectorizer\n",
        "tfidf_cv = TfidfVectorizer()\n",
        "X_train_cv_tfidf = tfidf_cv.fit_transform(X_train_cv)\n",
        "X_test_cv_tfidf = tfidf_cv.transform(X_test_cv)\n",
        "\n",
        "# Train the logistic regression model\n",
        "log_reg_cv = LogisticRegression()\n",
        "log_reg_cv.fit(X_train_cv_tfidf, y_train_cv)\n",
        "\n",
        "# Predict on the test set\n",
        "y_pred_cv= log_reg_cv.predict(X_test_cv_tfidf)\n",
        "\n",
        "# Evaluate the model\n",
        "print(classification_report(y_test_cv, y_pred_cv))\n",
        "\n",
        "# Print the class distribution after augmentation\n",
        "print(\"Class distribution after augmentation:\", Counter(y_train_cv))"
      ],
      "metadata": {
        "colab": {
          "base_uri": "https://localhost:8080/"
        },
        "id": "HmcXLwSqwO9w",
        "outputId": "3a79d7b8-66b2-4f4c-cfb3-314bc0231a48"
      },
      "execution_count": null,
      "outputs": [
        {
          "output_type": "stream",
          "name": "stdout",
          "text": [
            "              precision    recall  f1-score   support\n",
            "\n",
            "           0       1.00      1.00      1.00       153\n",
            "           1       1.00      1.00      1.00       167\n",
            "\n",
            "    accuracy                           1.00       320\n",
            "   macro avg       1.00      1.00      1.00       320\n",
            "weighted avg       1.00      1.00      1.00       320\n",
            "\n",
            "Class distribution after augmentation: Counter({0: 647, 1: 633})\n"
          ]
        }
      ]
    },
    {
      "cell_type": "code",
      "source": [
        "# Confusion matrix and accuracy score\n",
        "conf_matrix = confusion_matrix(y_test_cv, y_pred_cv)\n",
        "accuracy = accuracy_score(y_test_cv, y_pred_cv)\n",
        "\n",
        "print(\"\\nConfusion Matrix:\")\n",
        "print(conf_matrix)\n",
        "\n",
        "print(\"\\nAccuracy Score:\")\n",
        "print(accuracy)\n",
        "\n",
        "# Plotting the confusion matrix\n",
        "plt.figure(figsize=(10, 7))\n",
        "sns.heatmap(conf_matrix, annot=True, fmt='d', cmap='Blues', xticklabels=['Not cv improver', 'cv improver'], yticklabels=['Not cv improver', 'cv improver'])\n",
        "plt.xlabel('Predicted')\n",
        "plt.ylabel('Actual')\n",
        "plt.title('Confusion Matrix')\n",
        "plt.show()"
      ],
      "metadata": {
        "colab": {
          "base_uri": "https://localhost:8080/",
          "height": 762
        },
        "id": "HdEV_qblxJu1",
        "outputId": "1b4f3945-24fb-48b9-e9f3-fe02f0be28ef"
      },
      "execution_count": null,
      "outputs": [
        {
          "output_type": "stream",
          "name": "stdout",
          "text": [
            "\n",
            "Confusion Matrix:\n",
            "[[153   0]\n",
            " [  0 167]]\n",
            "\n",
            "Accuracy Score:\n",
            "1.0\n"
          ]
        },
        {
          "output_type": "display_data",
          "data": {
            "text/plain": [
              "<Figure size 1000x700 with 2 Axes>"
            ],
            "image/png": "[encoded data removed]"
          },
          "metadata": {}
        }
      ]
    },
    {
      "cell_type": "code",
      "source": [
        "# Define the paths\n",
        "model_path = '/content/drive/MyDrive/Prompt-classifier/log_reg_cv_model.joblib'\n",
        "vectorizer_path = '/content/drive/MyDrive/Prompt-classifier/tfidf_vectorizer_cv.joblib'\n",
        "\n",
        "# Save the model and vectorizer\n",
        "joblib.dump(log_reg_cv, model_path)\n",
        "joblib.dump(tfidf_cv, vectorizer_path)\n",
        "\n",
        "print(\"Model and vectorizer saved successfully in joblib format.\")"
      ],
      "metadata": {
        "colab": {
          "base_uri": "https://localhost:8080/"
        },
        "id": "5XnHxbY5xMec",
        "outputId": "3d0efedc-4f49-4da8-c82b-9e61325a48b1"
      },
      "execution_count": null,
      "outputs": [
        {
          "output_type": "stream",
          "name": "stdout",
          "text": [
            "Model and vectorizer saved successfully in joblib format.\n"
          ]
        }
      ]
    },
    {
      "cell_type": "markdown",
      "source": [
        "## lm_improver binary logistic regression classifier"
      ],
      "metadata": {
        "id": "fRfBBKPXUxom"
      }
    },
    {
      "cell_type": "code",
      "source": [
        "# Check the class distribution\n",
        "class_distribution = df['lm_improver'].value_counts()\n",
        "print(class_distribution)"
      ],
      "metadata": {
        "colab": {
          "base_uri": "https://localhost:8080/"
        },
        "id": "y5xGkaKkV_5j",
        "outputId": "3ff4820e-ac6f-46e4-aa22-afb8597a568a"
      },
      "execution_count": null,
      "outputs": [
        {
          "output_type": "stream",
          "name": "stdout",
          "text": [
            "lm_improver\n",
            "0    800\n",
            "1    200\n",
            "Name: count, dtype: int64\n"
          ]
        }
      ]
    },
    {
      "cell_type": "code",
      "source": [
        "# Balance the dataset using data augmentation\n",
        "balanced_df_lm = augment_data(df, target_class='lm_improver')"
      ],
      "metadata": {
        "id": "rt481Iqaxl3F"
      },
      "execution_count": null,
      "outputs": []
    },
    {
      "cell_type": "code",
      "source": [
        "# Check the class distribution\n",
        "class_distribution = balanced_df_lm['lm_improver'].value_counts()\n",
        "print(class_distribution)"
      ],
      "metadata": {
        "colab": {
          "base_uri": "https://localhost:8080/"
        },
        "id": "1g_W4CQYxqeE",
        "outputId": "f409f5d2-b99f-47f8-a13f-4af858715bbd"
      },
      "execution_count": null,
      "outputs": [
        {
          "output_type": "stream",
          "name": "stdout",
          "text": [
            "lm_improver\n",
            "1    800\n",
            "0    800\n",
            "Name: count, dtype: int64\n"
          ]
        }
      ]
    },
    {
      "cell_type": "code",
      "source": [
        "# Apply text preprocessing\n",
        "balanced_df_lm['input'] = balanced_df_lm['input'].apply(preprocess_text)"
      ],
      "metadata": {
        "id": "V31dSKAFxzNb"
      },
      "execution_count": null,
      "outputs": []
    },
    {
      "cell_type": "code",
      "source": [
        "# Save the preprocessed dataframe to Google Drive\n",
        "balanced_df_lm.to_csv('/content/drive/MyDrive/Prompt-classifier/df_lm.csv', index=False)"
      ],
      "metadata": {
        "id": "tV8MF_XFyI98"
      },
      "execution_count": null,
      "outputs": []
    },
    {
      "cell_type": "code",
      "source": [
        "# Path to your CSV file\n",
        "csv_file_path = '/content/drive/MyDrive/Prompt-classifier/df_lm.csv'\n",
        "\n",
        "# Read the CSV file into a DataFrame\n",
        "balanced_df_lm = pd.read_csv(csv_file_path)"
      ],
      "metadata": {
        "id": "WTThbFK6ajFn"
      },
      "execution_count": null,
      "outputs": []
    },
    {
      "cell_type": "code",
      "source": [
        "# Features and target variable for the 'best_jobs' class\n",
        "X_lm = balanced_df_lm['input']\n",
        "y_lm= balanced_df_lm['lm_improver']\n",
        "\n",
        "# Split the data into training and testing sets\n",
        "X_train_lm, X_test_lm, y_train_lm, y_test_lm = train_test_split(X_lm, y_lm, test_size=0.2, random_state=42)\n",
        "\n",
        "# Convert text data into numerical features using TfidfVectorizer\n",
        "tfidf_lm = TfidfVectorizer()\n",
        "X_train_lm_tfidf = tfidf_cv.fit_transform(X_train_lm)\n",
        "X_test_lm_tfidf = tfidf_cv.transform(X_test_lm)\n",
        "\n",
        "# Train the logistic regression model\n",
        "log_reg_lm = LogisticRegression()\n",
        "log_reg_lm.fit(X_train_lm_tfidf, y_train_lm)\n",
        "\n",
        "# Predict on the test set\n",
        "y_pred_lm= log_reg_lm.predict(X_test_lm_tfidf)\n",
        "\n",
        "# Evaluate the model\n",
        "print(classification_report(y_test_lm, y_pred_lm))\n",
        "\n",
        "# Print the class distribution after augmentation\n",
        "print(\"Class distribution after augmentation:\", Counter(y_train_lm))"
      ],
      "metadata": {
        "colab": {
          "base_uri": "https://localhost:8080/"
        },
        "id": "Xee_f-T2y_SA",
        "outputId": "464ed4ff-1a33-4c97-fb39-7c1012acaa86"
      },
      "execution_count": null,
      "outputs": [
        {
          "output_type": "stream",
          "name": "stdout",
          "text": [
            "              precision    recall  f1-score   support\n",
            "\n",
            "           0       1.00      1.00      1.00       164\n",
            "           1       1.00      1.00      1.00       156\n",
            "\n",
            "    accuracy                           1.00       320\n",
            "   macro avg       1.00      1.00      1.00       320\n",
            "weighted avg       1.00      1.00      1.00       320\n",
            "\n",
            "Class distribution after augmentation: Counter({1: 644, 0: 636})\n"
          ]
        }
      ]
    },
    {
      "cell_type": "code",
      "source": [
        "# Confusion matrix and accuracy score\n",
        "conf_matrix = confusion_matrix(y_test_lm, y_pred_lm)\n",
        "accuracy = accuracy_score(y_test_lm, y_pred_lm)\n",
        "\n",
        "print(\"\\nConfusion Matrix:\")\n",
        "print(conf_matrix)\n",
        "\n",
        "print(\"\\nAccuracy Score:\")\n",
        "print(accuracy)\n",
        "\n",
        "# Plotting the confusion matrix\n",
        "plt.figure(figsize=(10, 7))\n",
        "sns.heatmap(conf_matrix, annot=True, fmt='d', cmap='Blues', xticklabels=['Not lm improver', 'lm improver'], yticklabels=['Not lm improver', 'lm improver'])\n",
        "plt.xlabel('Predicted')\n",
        "plt.ylabel('Actual')\n",
        "plt.title('Confusion Matrix')\n",
        "plt.show()"
      ],
      "metadata": {
        "colab": {
          "base_uri": "https://localhost:8080/",
          "height": 762
        },
        "id": "Y7g4HyakzazC",
        "outputId": "187bf854-dd5c-4cb0-f4a1-5e4e001471d5"
      },
      "execution_count": null,
      "outputs": [
        {
          "output_type": "stream",
          "name": "stdout",
          "text": [
            "\n",
            "Confusion Matrix:\n",
            "[[164   0]\n",
            " [  0 156]]\n",
            "\n",
            "Accuracy Score:\n",
            "1.0\n"
          ]
        },
        {
          "output_type": "display_data",
          "data": {
            "text/plain": [
              "<Figure size 1000x700 with 2 Axes>"
            ],
            "image/png": "[encoded data removed]"
          },
          "metadata": {}
        }
      ]
    },
    {
      "cell_type": "code",
      "source": [
        "# Define the paths\n",
        "model_path = '/content/drive/MyDrive/Prompt-classifier/log_reg_lm_model.joblib'\n",
        "vectorizer_path = '/content/drive/MyDrive/Prompt-classifier/tfidf_vectorizer_lm.joblib'\n",
        "\n",
        "# Save the model and vectorizer\n",
        "joblib.dump(log_reg_lm, model_path)\n",
        "joblib.dump(tfidf_lm, vectorizer_path)\n",
        "\n",
        "print(\"Model and vectorizer saved successfully in joblib format.\")"
      ],
      "metadata": {
        "colab": {
          "base_uri": "https://localhost:8080/"
        },
        "id": "b5v4g1xxzhYJ",
        "outputId": "eb8fe79a-e5e4-42a1-8270-1b51a725d495"
      },
      "execution_count": null,
      "outputs": [
        {
          "output_type": "stream",
          "name": "stdout",
          "text": [
            "Model and vectorizer saved successfully in joblib format.\n"
          ]
        }
      ]
    },
    {
      "cell_type": "markdown",
      "source": [
        "## Interview-coaching binary logistic regression classifier"
      ],
      "metadata": {
        "id": "1-JYndN0WAG-"
      }
    },
    {
      "cell_type": "code",
      "source": [
        "# Check the class distribution\n",
        "class_distribution = df['interview-coaching'].value_counts()\n",
        "print(class_distribution)"
      ],
      "metadata": {
        "colab": {
          "base_uri": "https://localhost:8080/"
        },
        "id": "P6vJSxOeWLv6",
        "outputId": "20cb4e3d-d885-4565-e004-6364e2526480"
      },
      "execution_count": null,
      "outputs": [
        {
          "output_type": "stream",
          "name": "stdout",
          "text": [
            "interview-coaching\n",
            "0    800\n",
            "1    200\n",
            "Name: count, dtype: int64\n"
          ]
        }
      ]
    },
    {
      "cell_type": "code",
      "source": [
        "# Balance the dataset using data augmentation\n",
        "balanced_df_ic = augment_data(df, target_class='interview-coaching')"
      ],
      "metadata": {
        "id": "5K0rQH6Qz-E9"
      },
      "execution_count": null,
      "outputs": []
    },
    {
      "cell_type": "code",
      "source": [
        "# Check the class distribution\n",
        "class_distribution = balanced_df_ic['interview-coaching'].value_counts()\n",
        "print(class_distribution)"
      ],
      "metadata": {
        "colab": {
          "base_uri": "https://localhost:8080/"
        },
        "id": "xqTJdACW0NlB",
        "outputId": "8dbc2722-9d95-47e0-e6f6-880bf1c96315"
      },
      "execution_count": null,
      "outputs": [
        {
          "output_type": "stream",
          "name": "stdout",
          "text": [
            "interview-coaching\n",
            "0    800\n",
            "1    800\n",
            "Name: count, dtype: int64\n"
          ]
        }
      ]
    },
    {
      "cell_type": "code",
      "source": [
        "# Apply text preprocessing\n",
        "balanced_df_ic['input'] = balanced_df_ic['input'].apply(preprocess_text)"
      ],
      "metadata": {
        "id": "f2r4i7dI0UwE"
      },
      "execution_count": null,
      "outputs": []
    },
    {
      "cell_type": "code",
      "source": [
        "# Save the preprocessed dataframe to Google Drive\n",
        "balanced_df_ic.to_csv('/content/drive/MyDrive/Prompt-classifier/df_ic.csv', index=False)"
      ],
      "metadata": {
        "id": "Np43P7vn0iHn"
      },
      "execution_count": null,
      "outputs": []
    },
    {
      "cell_type": "code",
      "source": [
        "# Path to your CSV file\n",
        "csv_file_path = '/content/drive/MyDrive/Prompt-classifier/df_ic.csv'\n",
        "\n",
        "# Read the CSV file into a DataFrame\n",
        "balanced_df_ic = pd.read_csv(csv_file_path)"
      ],
      "metadata": {
        "id": "ekh05rGqammg"
      },
      "execution_count": null,
      "outputs": []
    },
    {
      "cell_type": "code",
      "source": [
        "# Features and target variable for the 'best_jobs' class\n",
        "X_ic = balanced_df_ic['input']\n",
        "y_ic= balanced_df_ic['interview-coaching']\n",
        "\n",
        "# Split the data into training and testing sets\n",
        "X_train_ic, X_test_ic, y_train_ic, y_test_ic = train_test_split(X_ic, y_ic, test_size=0.2, random_state=42)\n",
        "\n",
        "# Convert text data into numerical features using TfidfVectorizer\n",
        "tfidf_ic = TfidfVectorizer()\n",
        "X_train_ic_tfidf = tfidf_ic.fit_transform(X_train_ic)\n",
        "X_test_ic_tfidf = tfidf_ic.transform(X_test_ic)\n",
        "\n",
        "# Train the logistic regression model\n",
        "log_reg_ic = LogisticRegression()\n",
        "log_reg_ic.fit(X_train_ic_tfidf, y_train_ic)\n",
        "\n",
        "# Predict on the test set\n",
        "y_pred_ic= log_reg_ic.predict(X_test_ic_tfidf)\n",
        "\n",
        "# Evaluate the model\n",
        "print(classification_report(y_test_ic, y_pred_ic))\n",
        "\n",
        "# Print the class distribution after augmentation\n",
        "print(\"Class distribution after augmentation:\", Counter(y_train_ic))"
      ],
      "metadata": {
        "colab": {
          "base_uri": "https://localhost:8080/"
        },
        "id": "xGgwvLdc0nEX",
        "outputId": "99c2c579-0864-46f7-c1f2-4072edb0fd0f"
      },
      "execution_count": null,
      "outputs": [
        {
          "output_type": "stream",
          "name": "stdout",
          "text": [
            "              precision    recall  f1-score   support\n",
            "\n",
            "           0       1.00      1.00      1.00       169\n",
            "           1       1.00      1.00      1.00       151\n",
            "\n",
            "    accuracy                           1.00       320\n",
            "   macro avg       1.00      1.00      1.00       320\n",
            "weighted avg       1.00      1.00      1.00       320\n",
            "\n",
            "Class distribution after augmentation: Counter({1: 649, 0: 631})\n"
          ]
        }
      ]
    },
    {
      "cell_type": "code",
      "source": [
        "# Confusion matrix and accuracy score\n",
        "conf_matrix = confusion_matrix(y_test_ic, y_pred_ic)\n",
        "accuracy = accuracy_score(y_test_ic, y_pred_ic)\n",
        "\n",
        "print(\"\\nConfusion Matrix:\")\n",
        "print(conf_matrix)\n",
        "\n",
        "print(\"\\nAccuracy Score:\")\n",
        "print(accuracy)\n",
        "\n",
        "# Plotting the confusion matrix\n",
        "plt.figure(figsize=(10, 7))\n",
        "sns.heatmap(conf_matrix, annot=True, fmt='d', cmap='Blues', xticklabels=['Not interview coaching', 'interview coaching'], yticklabels=['Not interview coaching', 'interview coaching'])\n",
        "plt.xlabel('Predicted')\n",
        "plt.ylabel('Actual')\n",
        "plt.title('Confusion Matrix')\n",
        "plt.show()"
      ],
      "metadata": {
        "colab": {
          "base_uri": "https://localhost:8080/",
          "height": 762
        },
        "id": "zFhAOZbg0_R4",
        "outputId": "88bc0284-3efe-47be-a3d7-63c56ac60976"
      },
      "execution_count": null,
      "outputs": [
        {
          "output_type": "stream",
          "name": "stdout",
          "text": [
            "\n",
            "Confusion Matrix:\n",
            "[[169   0]\n",
            " [  0 151]]\n",
            "\n",
            "Accuracy Score:\n",
            "1.0\n"
          ]
        },
        {
          "output_type": "display_data",
          "data": {
            "text/plain": [
              "<Figure size 1000x700 with 2 Axes>"
            ],
            "image/png": "[encoded data removed]"
          },
          "metadata": {}
        }
      ]
    },
    {
      "cell_type": "code",
      "source": [
        "# Define the paths\n",
        "model_path = '/content/drive/MyDrive/Prompt-classifier/log_reg_ic_model.joblib'\n",
        "vectorizer_path = '/content/drive/MyDrive/Prompt-classifier/tfidf_vectorizer_ic.joblib'\n",
        "\n",
        "# Save the model and vectorizer\n",
        "joblib.dump(log_reg_ic, model_path)\n",
        "joblib.dump(tfidf_ic, vectorizer_path)\n",
        "\n",
        "print(\"Model and vectorizer saved successfully in joblib format.\")"
      ],
      "metadata": {
        "colab": {
          "base_uri": "https://localhost:8080/"
        },
        "id": "Y-ng1iB61oQ_",
        "outputId": "c100571b-fa00-4c4b-c45c-b141d8eafe1f"
      },
      "execution_count": null,
      "outputs": [
        {
          "output_type": "stream",
          "name": "stdout",
          "text": [
            "Model and vectorizer saved successfully in joblib format.\n"
          ]
        }
      ]
    },
    {
      "cell_type": "markdown",
      "source": [
        "## KO binary logistic regression classifier"
      ],
      "metadata": {
        "id": "ld_3Uk00WL-S"
      }
    },
    {
      "cell_type": "code",
      "source": [
        "# Check the class distribution\n",
        "class_distribution = df['KO'].value_counts()\n",
        "print(class_distribution)"
      ],
      "metadata": {
        "colab": {
          "base_uri": "https://localhost:8080/"
        },
        "id": "O1cHBDSdb3S8",
        "outputId": "7f89f5c5-667f-4159-9174-0366a6393b62"
      },
      "execution_count": null,
      "outputs": [
        {
          "output_type": "stream",
          "name": "stdout",
          "text": [
            "KO\n",
            "0    800\n",
            "1    200\n",
            "Name: count, dtype: int64\n"
          ]
        }
      ]
    },
    {
      "cell_type": "code",
      "source": [
        "# Balance the dataset using data augmentation\n",
        "balanced_df_ko = augment_data(df, target_class='KO')"
      ],
      "metadata": {
        "id": "5zRJ631u2MGc"
      },
      "execution_count": null,
      "outputs": []
    },
    {
      "cell_type": "code",
      "source": [
        "# Check the class distribution\n",
        "class_distribution = balanced_df_ko['KO'].value_counts()\n",
        "print(class_distribution)"
      ],
      "metadata": {
        "colab": {
          "base_uri": "https://localhost:8080/"
        },
        "id": "Bd6HCYW52QFY",
        "outputId": "843ed4f3-73cf-4c1a-e820-24632abc74c5"
      },
      "execution_count": null,
      "outputs": [
        {
          "output_type": "stream",
          "name": "stdout",
          "text": [
            "KO\n",
            "0    800\n",
            "1    800\n",
            "Name: count, dtype: int64\n"
          ]
        }
      ]
    },
    {
      "cell_type": "code",
      "source": [
        "# Apply text preprocessing\n",
        "balanced_df_ko['input'] = balanced_df_ko['input'].apply(preprocess_text)"
      ],
      "metadata": {
        "id": "zbp185Vv2VnY"
      },
      "execution_count": null,
      "outputs": []
    },
    {
      "cell_type": "code",
      "source": [
        "# Save the preprocessed dataframe to Google Drive\n",
        "balanced_df_ko.to_csv('/content/drive/MyDrive/Prompt-classifier/df_ko.csv', index=False)"
      ],
      "metadata": {
        "id": "dzr8AFqu3nnQ"
      },
      "execution_count": null,
      "outputs": []
    },
    {
      "cell_type": "code",
      "source": [
        "# Path to your CSV file\n",
        "csv_file_path = '/content/drive/MyDrive/Prompt-classifier/df_ko.csv'\n",
        "\n",
        "# Read the CSV file into a DataFrame\n",
        "balanced_df_ko = pd.read_csv(csv_file_path)"
      ],
      "metadata": {
        "id": "9UAk1AkGaq1g"
      },
      "execution_count": null,
      "outputs": []
    },
    {
      "cell_type": "code",
      "source": [
        "# Features and target variable for the 'best_jobs' class\n",
        "X_ko= balanced_df_ko['input']\n",
        "y_ko= balanced_df_ko['KO']\n",
        "\n",
        "# Split the data into training and testing sets\n",
        "X_train_ko, X_test_ko, y_train_ko, y_test_ko = train_test_split(X_ko, y_ko, test_size=0.2, random_state=42)\n",
        "\n",
        "# Convert text data into numerical features using TfidfVectorizer\n",
        "tfidf_ko = TfidfVectorizer()\n",
        "X_train_ko_tfidf = tfidf_ko.fit_transform(X_train_ko)\n",
        "X_test_ko_tfidf = tfidf_ko.transform(X_test_ko)\n",
        "\n",
        "# Train the logistic regression model\n",
        "log_reg_ko = LogisticRegression()\n",
        "log_reg_ko.fit(X_train_ko_tfidf, y_train_ko)\n",
        "\n",
        "# Predict on the test set\n",
        "y_pred_ko= log_reg_ko.predict(X_test_ko_tfidf)\n",
        "\n",
        "# Evaluate the model\n",
        "print(classification_report(y_test_ko, y_pred_ko))\n",
        "\n",
        "# Print the class distribution after augmentation\n",
        "print(\"Class distribution after augmentation:\", Counter(y_train_ko))"
      ],
      "metadata": {
        "colab": {
          "base_uri": "https://localhost:8080/"
        },
        "id": "hNU6pYS23v9I",
        "outputId": "056e3075-ba7a-4e08-8f09-e1c1368e93d8"
      },
      "execution_count": null,
      "outputs": [
        {
          "output_type": "stream",
          "name": "stdout",
          "text": [
            "              precision    recall  f1-score   support\n",
            "\n",
            "           0       1.00      1.00      1.00       156\n",
            "           1       1.00      1.00      1.00       164\n",
            "\n",
            "    accuracy                           1.00       320\n",
            "   macro avg       1.00      1.00      1.00       320\n",
            "weighted avg       1.00      1.00      1.00       320\n",
            "\n",
            "Class distribution after augmentation: Counter({0: 644, 1: 636})\n"
          ]
        }
      ]
    },
    {
      "cell_type": "code",
      "source": [
        "# Confusion matrix and accuracy score\n",
        "conf_matrix = confusion_matrix(y_test_ko, y_pred_ko)\n",
        "accuracy = accuracy_score(y_test_ko, y_pred_ko)\n",
        "\n",
        "print(\"\\nConfusion Matrix:\")\n",
        "print(conf_matrix)\n",
        "\n",
        "print(\"\\nAccuracy Score:\")\n",
        "print(accuracy)\n",
        "\n",
        "# Plotting the confusion matrix\n",
        "plt.figure(figsize=(10, 7))\n",
        "sns.heatmap(conf_matrix, annot=True, fmt='d', cmap='Blues', xticklabels=['Not lm improver', 'lm improver'], yticklabels=['Not lm improver', 'lm improver'])\n",
        "plt.xlabel('Predicted')\n",
        "plt.ylabel('Actual')\n",
        "plt.title('Confusion Matrix')\n",
        "plt.show()"
      ],
      "metadata": {
        "colab": {
          "base_uri": "https://localhost:8080/",
          "height": 762
        },
        "id": "9zMHYzJT4h4G",
        "outputId": "37b1ce9a-1506-4072-d5fc-36007a8797a3"
      },
      "execution_count": null,
      "outputs": [
        {
          "output_type": "stream",
          "name": "stdout",
          "text": [
            "\n",
            "Confusion Matrix:\n",
            "[[156   0]\n",
            " [  0 164]]\n",
            "\n",
            "Accuracy Score:\n",
            "1.0\n"
          ]
        },
        {
          "output_type": "display_data",
          "data": {
            "text/plain": [
              "<Figure size 1000x700 with 2 Axes>"
            ],
            "image/png": "[encoded data removed]"
          },
          "metadata": {}
        }
      ]
    },
    {
      "cell_type": "code",
      "source": [
        "# Define the paths\n",
        "model_path = '/content/drive/MyDrive/Prompt-classifier/log_reg_ko_model.joblib'\n",
        "vectorizer_path = '/content/drive/MyDrive/Prompt-classifier/tfidf_vectorizer_ko.joblib'\n",
        "\n",
        "# Save the model and vectorizer\n",
        "joblib.dump(log_reg_ko, model_path)\n",
        "joblib.dump(tfidf_ko, vectorizer_path)\n",
        "\n",
        "print(\"Model and vectorizer saved successfully in joblib format.\")"
      ],
      "metadata": {
        "colab": {
          "base_uri": "https://localhost:8080/"
        },
        "id": "SnSg9-Et7Dj4",
        "outputId": "205dc2d0-05ce-47bc-addc-b205804f6565"
      },
      "execution_count": null,
      "outputs": [
        {
          "output_type": "stream",
          "name": "stdout",
          "text": [
            "Model and vectorizer saved successfully in joblib format.\n"
          ]
        }
      ]
    },
    {
      "cell_type": "markdown",
      "source": [
        "# Prediction"
      ],
      "metadata": {
        "id": "2xOaNNganU3y"
      }
    },
    {
      "cell_type": "code",
      "source": [
        "import pickle\n",
        "\n",
        "# Common base path\n",
        "base_path = '/content/drive/MyDrive/Prompt-classifier/'\n",
        "\n",
        "# Directory paths\n",
        "model_dir = base_path + 'log_models/'\n",
        "vectorizer_dir = base_path + 'vectorizers/'\n",
        "\n",
        "# Save models and vectorizers\n",
        "model_vectorizer_pairs = [\n",
        "    (log_reg_best_jobs, tfidf_bj, model_dir + 'log_reg_best_jobs_model.pkl', vectorizer_dir + 'tfidf_vectorizer_bj.pkl'),\n",
        "    (log_reg_cv, tfidf_cv, model_dir + 'log_reg_cv_model.pkl', vectorizer_dir + 'tfidf_vectorizer_cv.pkl'),\n",
        "    (log_reg_lm, tfidf_lm, model_dir + 'log_reg_lm_model.pkl', vectorizer_dir + 'tfidf_vectorizer_lm.pkl'),\n",
        "    (log_reg_ic, tfidf_ic, model_dir + 'log_reg_ic_model.pkl', vectorizer_dir + 'tfidf_vectorizer_ic.pkl'),\n",
        "    (log_reg_ko, tfidf_ko, model_dir + 'log_reg_ko_model.pkl', vectorizer_dir + 'tfidf_vectorizer_ko.pkl')\n",
        "]\n",
        "\n",
        "for model, vectorizer, model_path, vectorizer_path in model_vectorizer_pairs:\n",
        "    with open(model_path, 'wb') as model_file:\n",
        "        pickle.dump(model, model_file)\n",
        "    with open(vectorizer_path, 'wb') as vectorizer_file:\n",
        "        pickle.dump(vectorizer, vectorizer_file)"
      ],
      "metadata": {
        "id": "wK2-X3ygnXIj"
      },
      "execution_count": null,
      "outputs": []
    },
    {
      "cell_type": "code",
      "source": [
        "import pickle\n",
        "\n",
        "# Common base path\n",
        "base_path = '/content/drive/MyDrive/Prompt-classifier/'\n",
        "\n",
        "# Directory paths\n",
        "model_dir = base_path + 'log_models/'\n",
        "vectorizer_dir = base_path + 'vectorizers/'\n",
        "\n",
        "# Load models and vectorizers\n",
        "models = {}\n",
        "vectorizers = {}\n",
        "\n",
        "model_vectorizer_paths = [\n",
        "    ('log_reg_best_jobs_model.pkl', 'tfidf_vectorizer_bj.pkl', 'best_jobs'),\n",
        "    ('log_reg_cv_model.pkl', 'tfidf_vectorizer_cv.pkl', 'cv_improver'),\n",
        "    ('log_reg_lm_model.pkl', 'tfidf_vectorizer_lm.pkl', 'lm_improver'),\n",
        "    ('log_reg_ic_model.pkl', 'tfidf_vectorizer_ic.pkl', 'interview_coaching'),\n",
        "    ('log_reg_ko_model.pkl', 'tfidf_vectorizer_ko.pkl', 'ko')\n",
        "]\n",
        "\n",
        "for model_file_name, vectorizer_file_name, label in model_vectorizer_paths:\n",
        "    model_path = model_dir + model_file_name\n",
        "    vectorizer_path = vectorizer_dir + vectorizer_file_name\n",
        "\n",
        "    with open(model_path, 'rb') as model_file:\n",
        "        models[label] = pickle.load(model_file)\n",
        "    with open(vectorizer_path, 'rb') as vectorizer_file:\n",
        "        vectorizers[label] = pickle.load(vectorizer_file)"
      ],
      "metadata": {
        "id": "OCP4l-kUp_I4"
      },
      "execution_count": null,
      "outputs": []
    },
    {
      "cell_type": "code",
      "source": [
        "def train_model(data, target):\n",
        "    X = data['input']\n",
        "    y = data[target]\n",
        "\n",
        "    # Split the data into training and testing sets\n",
        "    X_train, X_test, y_train, y_test = train_test_split(X, y, test_size=0.2, random_state=42)\n",
        "\n",
        "    # Convert text data into numerical features using TfidfVectorizer\n",
        "    vectorizer = TfidfVectorizer()\n",
        "    X_train_tfidf = vectorizer.fit_transform(X_train)\n",
        "    X_test_tfidf = vectorizer.transform(X_test)\n",
        "\n",
        "    # Train the logistic regression model\n",
        "    model = LogisticRegression()\n",
        "    model.fit(X_train_tfidf, y_train)\n",
        "\n",
        "    # Predict on the test set\n",
        "    y_pred = model.predict(X_test_tfidf)\n",
        "\n",
        "    # Evaluate the model\n",
        "    print(f\"Classification report for {target}:\")\n",
        "    print(classification_report(y_test, y_pred))\n",
        "\n",
        "    # Print the class distribution after augmentation\n",
        "    print(f\"Class distribution after augmentation for {target}:\", Counter(y_train))\n",
        "\n",
        "    return model, vectorizer"
      ],
      "metadata": {
        "id": "NiOrSP9_szJ5"
      },
      "execution_count": null,
      "outputs": []
    },
    {
      "cell_type": "code",
      "source": [
        "import pickle\n",
        "\n",
        "# Define the base path for saving models and vectorizers\n",
        "base_path = '/content/drive/MyDrive/Prompt-classifier/'\n",
        "\n",
        "# Directory paths\n",
        "model_dir = base_path + 'log_models/'\n",
        "vectorizer_dir = base_path + 'vectorizers/'\n",
        "\n",
        "# Train models and vectorizers for each class\n",
        "model_vectorizer_pairs = {\n",
        "    'best_jobs': train_model(balanced_df_bj, 'best_jobs'),\n",
        "    'cv_improver': train_model(balanced_df_cv, 'cv_improver'),\n",
        "    'lm_improver': train_model(balanced_df_lm, 'lm_improver'),\n",
        "    'interview_coaching': train_model(balanced_df_ic, 'interview-coaching'),\n",
        "    'ko': train_model(balanced_df_ko, 'KO')\n",
        "}\n",
        "\n",
        "# Save each model and vectorizer\n",
        "for label, (model, vectorizer) in model_vectorizer_pairs.items():\n",
        "    model_path = model_dir + f'log_reg_{label}_model.pkl'\n",
        "    vectorizer_path = vectorizer_dir + f'tfidf_vectorizer_{label}.pkl'\n",
        "\n",
        "    with open(model_path, 'wb') as model_file:\n",
        "        pickle.dump(model, model_file)\n",
        "\n",
        "    with open(vectorizer_path, 'wb') as vectorizer_file:\n",
        "        pickle.dump(vectorizer, vectorizer_file)\n",
        "\n",
        "print(\"Models and vectorizers saved successfully.\")\n"
      ],
      "metadata": {
        "colab": {
          "base_uri": "https://localhost:8080/"
        },
        "id": "ntLzZmFbste-",
        "outputId": "3d605d22-0914-468f-ebfa-b5bc7af986bc"
      },
      "execution_count": null,
      "outputs": [
        {
          "output_type": "stream",
          "name": "stdout",
          "text": [
            "Classification report for best_jobs:\n",
            "              precision    recall  f1-score   support\n",
            "\n",
            "           0       1.00      1.00      1.00       154\n",
            "           1       1.00      1.00      1.00       166\n",
            "\n",
            "    accuracy                           1.00       320\n",
            "   macro avg       1.00      1.00      1.00       320\n",
            "weighted avg       1.00      1.00      1.00       320\n",
            "\n",
            "Class distribution after augmentation for best_jobs: Counter({0: 646, 1: 634})\n",
            "Classification report for cv_improver:\n",
            "              precision    recall  f1-score   support\n",
            "\n",
            "           0       1.00      1.00      1.00       153\n",
            "           1       1.00      1.00      1.00       167\n",
            "\n",
            "    accuracy                           1.00       320\n",
            "   macro avg       1.00      1.00      1.00       320\n",
            "weighted avg       1.00      1.00      1.00       320\n",
            "\n",
            "Class distribution after augmentation for cv_improver: Counter({0: 647, 1: 633})\n",
            "Classification report for lm_improver:\n",
            "              precision    recall  f1-score   support\n",
            "\n",
            "           0       1.00      1.00      1.00       164\n",
            "           1       1.00      1.00      1.00       156\n",
            "\n",
            "    accuracy                           1.00       320\n",
            "   macro avg       1.00      1.00      1.00       320\n",
            "weighted avg       1.00      1.00      1.00       320\n",
            "\n",
            "Class distribution after augmentation for lm_improver: Counter({1: 644, 0: 636})\n",
            "Classification report for interview-coaching:\n",
            "              precision    recall  f1-score   support\n",
            "\n",
            "           0       1.00      1.00      1.00       169\n",
            "           1       1.00      1.00      1.00       151\n",
            "\n",
            "    accuracy                           1.00       320\n",
            "   macro avg       1.00      1.00      1.00       320\n",
            "weighted avg       1.00      1.00      1.00       320\n",
            "\n",
            "Class distribution after augmentation for interview-coaching: Counter({1: 649, 0: 631})\n",
            "Classification report for KO:\n",
            "              precision    recall  f1-score   support\n",
            "\n",
            "           0       1.00      1.00      1.00       156\n",
            "           1       1.00      1.00      1.00       164\n",
            "\n",
            "    accuracy                           1.00       320\n",
            "   macro avg       1.00      1.00      1.00       320\n",
            "weighted avg       1.00      1.00      1.00       320\n",
            "\n",
            "Class distribution after augmentation for KO: Counter({0: 644, 1: 636})\n",
            "Models and vectorizers saved successfully.\n"
          ]
        }
      ]
    },
    {
      "cell_type": "code",
      "source": [
        "def predict_class(input_text, model, vectorizer):\n",
        "    # Preprocess text\n",
        "    input_text_processed = preprocess_text(input_text)\n",
        "    # Vectorize input text\n",
        "    input_text_tfidf = vectorizer.transform([input_text_processed])\n",
        "    # Predict probabilities\n",
        "    probabilities = model.predict_proba(input_text_tfidf)\n",
        "    # Predict class\n",
        "    predicted_class = model.predict(input_text_tfidf)\n",
        "    return predicted_class[0], probabilities[0]\n",
        "\n",
        "def predict_all_classes(input_text):\n",
        "    results = {}\n",
        "    for label, (model, vectorizer) in model_vectorizer_pairs.items():\n",
        "        predicted_class, probabilities = predict_class(input_text, model, vectorizer)\n",
        "        print(f\"Label: {label}, Prediction: {predicted_class}, Probabilities: {probabilities}\")  # Debug print\n",
        "        if predicted_class == 1:\n",
        "            results[label] = \"detected\"\n",
        "    return results\n",
        "\n",
        "def generate_output(input_text):\n",
        "    predictions = predict_all_classes(input_text)\n",
        "    output_parts = []\n",
        "\n",
        "    if 'cv_improver' in predictions:\n",
        "        output_parts.append(\"améliorer ton CV\")\n",
        "    if 'lm_improver' in predictions:\n",
        "        output_parts.append(\"ta lettre de motivation\")\n",
        "    if 'interview_coaching' in predictions:\n",
        "        output_parts.append(\"un coaching d'entretien\")\n",
        "    if 'best_jobs' in predictions:\n",
        "        output_parts.append(\"les meilleures offres d'emploi\")\n",
        "\n",
        "    print(f\"Output Parts: {output_parts}\")  # Debug print\n",
        "\n",
        "    if output_parts:\n",
        "        if len(output_parts) > 1:\n",
        "            final_output = f\"D'accord, j'ai compris que tu as besoin d'aide pour {', '.join(output_parts[:-1])} et {output_parts[-1]}.\"\n",
        "        else:\n",
        "            final_output = f\"D'accord, j'ai compris que tu as besoin d'aide pour {output_parts[0]}.\"\n",
        "    else:\n",
        "        final_output = \"D'accord, je n'ai pas détecté de besoin spécifique.\"\n",
        "\n",
        "    return final_output\n",
        "\n",
        "# Example usage\n",
        "input_prompt_1 = \"Je cherche des conseils pour améliorer mon CV.\"\n",
        "final_output_1 = generate_output(input_prompt_1)\n",
        "print(final_output_1)  # Expected: \"D'accord, j'ai compris que tu as besoin d'aide pour améliorer ton CV.\"\n",
        "\n",
        "input_prompt_2 = \"Je cherche des conseils pour améliorer mon CV et ma lettre de motivation.\"\n",
        "final_output_2 = generate_output(input_prompt_2)\n",
        "print(final_output_2)  # Expected: \"D'accord, j'ai compris que tu as besoin d'aide pour améliorer ton CV et ta lettre de motivation.\"\n"
      ],
      "metadata": {
        "colab": {
          "base_uri": "https://localhost:8080/"
        },
        "id": "K7Tj4IJDrlOT",
        "outputId": "23d91682-a92c-49f4-9e78-e35fa1a56a36"
      },
      "execution_count": null,
      "outputs": [
        {
          "output_type": "stream",
          "name": "stdout",
          "text": [
            "Label: best_jobs, Prediction: 0, Probabilities: [0.90476152 0.09523848]\n",
            "Label: cv_improver, Prediction: 1, Probabilities: [0.30243245 0.69756755]\n",
            "Label: lm_improver, Prediction: 0, Probabilities: [0.95492126 0.04507874]\n",
            "Label: interview_coaching, Prediction: 0, Probabilities: [0.98481613 0.01518387]\n",
            "Label: ko, Prediction: 0, Probabilities: [0.7862417 0.2137583]\n",
            "Output Parts: ['améliorer ton CV']\n",
            "D'accord, j'ai compris que tu as besoin d'aide pour améliorer ton CV.\n",
            "Label: best_jobs, Prediction: 0, Probabilities: [0.98081455 0.01918545]\n",
            "Label: cv_improver, Prediction: 0, Probabilities: [0.78714082 0.21285918]\n",
            "Label: lm_improver, Prediction: 1, Probabilities: [0.41258721 0.58741279]\n",
            "Label: interview_coaching, Prediction: 0, Probabilities: [0.9954215 0.0045785]\n",
            "Label: ko, Prediction: 0, Probabilities: [0.96365599 0.03634401]\n",
            "Output Parts: ['ta lettre de motivation']\n",
            "D'accord, j'ai compris que tu as besoin d'aide pour ta lettre de motivation.\n"
          ]
        }
      ]
    },
    {
      "cell_type": "code",
      "source": [
        "# Example usage\n",
        "input_prompt_1 = \"Je cherche des conseils pour améliorer mon CV.\"\n",
        "final_output_1 = generate_output(input_prompt_1)\n",
        "print(final_output_1)  # Expected: \"D'accord, j'ai compris que tu as besoin d'aide pour améliorer ton CV.\"\n",
        "\n",
        "input_prompt_2 = \"Je cherche des conseils pour améliorer mon CV et ma lettre de motivation.\"\n",
        "final_output_2 = generate_output(input_prompt_2)\n",
        "print(final_output_2)  # Expected: \"D'accord, j'ai compris que tu as besoin d'aide pour améliorer ton CV et ta lettre de motivation.\"\n"
      ],
      "metadata": {
        "colab": {
          "base_uri": "https://localhost:8080/"
        },
        "id": "cMQmJy0rrs1I",
        "outputId": "e4a50565-b951-4f9b-b866-ade22bea3a4c"
      },
      "execution_count": null,
      "outputs": [
        {
          "output_type": "stream",
          "name": "stdout",
          "text": [
            "Label: best_jobs, Prediction: 0, Probabilities: [0.90476152 0.09523848]\n",
            "Label: cv_improver, Prediction: 1, Probabilities: [0.30243245 0.69756755]\n",
            "Label: lm_improver, Prediction: 0, Probabilities: [0.95492126 0.04507874]\n",
            "Label: interview_coaching, Prediction: 0, Probabilities: [0.98481613 0.01518387]\n",
            "Label: ko, Prediction: 0, Probabilities: [0.7862417 0.2137583]\n",
            "Output Parts: ['améliorer ton CV']\n",
            "D'accord, j'ai compris que tu as besoin d'aide pour améliorer ton CV.\n",
            "Label: best_jobs, Prediction: 0, Probabilities: [0.98081455 0.01918545]\n",
            "Label: cv_improver, Prediction: 0, Probabilities: [0.78714082 0.21285918]\n",
            "Label: lm_improver, Prediction: 1, Probabilities: [0.41258721 0.58741279]\n",
            "Label: interview_coaching, Prediction: 0, Probabilities: [0.9954215 0.0045785]\n",
            "Label: ko, Prediction: 0, Probabilities: [0.96365599 0.03634401]\n",
            "Output Parts: ['ta lettre de motivation']\n",
            "D'accord, j'ai compris que tu as besoin d'aide pour ta lettre de motivation.\n"
          ]
        }
      ]
    },
    {
      "cell_type": "code",
      "source": [
        "def predict_class(input_text, model, vectorizer):\n",
        "    # Preprocess text\n",
        "    input_text_processed = preprocess_text(input_text)\n",
        "    # Vectorize input text\n",
        "    input_text_tfidf = vectorizer.transform([input_text_processed])\n",
        "    # Predict probabilities\n",
        "    probabilities = model.predict_proba(input_text_tfidf)\n",
        "    # Predict class\n",
        "    predicted_class = model.predict(input_text_tfidf)\n",
        "    return predicted_class[0], probabilities[0]\n",
        "\n",
        "def predict_all_classes(input_text):\n",
        "    results = {}\n",
        "    for label in models:\n",
        "        model = models[label]\n",
        "        vectorizer = vectorizers[label]\n",
        "        predicted_class, probabilities = predict_class(input_text, model, vectorizer)\n",
        "        print(f\"Label: {label}, Prediction: {predicted_class}, Probabilities: {probabilities}\")  # Debug print\n",
        "        if predicted_class == 1:\n",
        "            results[label] = \"detected\"\n",
        "    return results\n",
        "\n",
        "def generate_output(input_text):\n",
        "    predictions = predict_all_classes(input_text)\n",
        "    output_parts = []\n",
        "\n",
        "    if 'cv_improver' in predictions:\n",
        "        output_parts.append(\"améliorer ton CV\")\n",
        "    if 'lm_improver' in predictions:\n",
        "        output_parts.append(\"ta lettre de motivation\")\n",
        "    if 'interview_coaching' in predictions:\n",
        "        output_parts.append(\"un coaching d'entretien\")\n",
        "    if 'best_jobs' in predictions:\n",
        "        output_parts.append(\"les meilleures offres d'emploi\")\n",
        "\n",
        "    print(f\"Output Parts: {output_parts}\")  # Debug print\n",
        "\n",
        "    if output_parts:\n",
        "        if len(output_parts) > 1:\n",
        "            final_output = f\"D'accord, j'ai compris que tu as besoin d'aide pour {', '.join(output_parts[:-1])} et {output_parts[-1]}.\"\n",
        "        else:\n",
        "            final_output = f\"D'accord, j'ai compris que tu as besoin d'aide pour {output_parts[0]}.\"\n",
        "    else:\n",
        "        final_output = \"D'accord, je n'ai pas détecté de besoin spécifique.\"\n",
        "\n",
        "    return final_output\n",
        "\n",
        "# Example usage\n",
        "input_prompt_1 = \"Je cherche des conseils pour améliorer mon CV.\"\n",
        "final_output_1 = generate_output(input_prompt_1)\n",
        "print(final_output_1)  # Expected: \"D'accord, j'ai compris que tu as besoin d'aide pour améliorer ton CV.\"\n",
        "\n",
        "input_prompt_2 = \"Je cherche des conseils pour améliorer mon CV et ma lettre de motivation.\"\n",
        "final_output_2 = generate_output(input_prompt_2)\n",
        "print(final_output_2)  # Expected: \"D'accord, j'ai compris que tu as besoin d'aide pour améliorer ton CV et ta lettre de motivation.\""
      ],
      "metadata": {
        "colab": {
          "base_uri": "https://localhost:8080/",
          "height": 373
        },
        "id": "R8qIsA7bLaRF",
        "outputId": "d6322a9d-9d27-4ae3-a995-e5f67de41132"
      },
      "execution_count": null,
      "outputs": [
        {
          "output_type": "stream",
          "name": "stdout",
          "text": [
            "Label: best_jobs, Prediction: 0, Probabilities: [0.90476152 0.09523848]\n"
          ]
        },
        {
          "output_type": "error",
          "ename": "ValueError",
          "evalue": "X has 562 features, but LogisticRegression is expecting 569 features as input.",
          "traceback": [
            "\u001b[0;31m---------------------------------------------------------------------------\u001b[0m",
            "\u001b[0;31mValueError\u001b[0m                                Traceback (most recent call last)",
            "\u001b[0;32m<ipython-input-18-a8ad25a5560e>\u001b[0m in \u001b[0;36m<cell line: 50>\u001b[0;34m()\u001b[0m\n\u001b[1;32m     48\u001b[0m \u001b[0;31m# Example usage\u001b[0m\u001b[0;34m\u001b[0m\u001b[0;34m\u001b[0m\u001b[0m\n\u001b[1;32m     49\u001b[0m \u001b[0minput_prompt_1\u001b[0m \u001b[0;34m=\u001b[0m \u001b[0;34m\"Je cherche des conseils pour améliorer mon CV.\"\u001b[0m\u001b[0;34m\u001b[0m\u001b[0;34m\u001b[0m\u001b[0m\n\u001b[0;32m---> 50\u001b[0;31m \u001b[0mfinal_output_1\u001b[0m \u001b[0;34m=\u001b[0m \u001b[0mgenerate_output\u001b[0m\u001b[0;34m(\u001b[0m\u001b[0minput_prompt_1\u001b[0m\u001b[0;34m)\u001b[0m\u001b[0;34m\u001b[0m\u001b[0;34m\u001b[0m\u001b[0m\n\u001b[0m\u001b[1;32m     51\u001b[0m \u001b[0mprint\u001b[0m\u001b[0;34m(\u001b[0m\u001b[0mfinal_output_1\u001b[0m\u001b[0;34m)\u001b[0m  \u001b[0;31m# Expected: \"D'accord, j'ai compris que tu as besoin d'aide pour améliorer ton CV.\"\u001b[0m\u001b[0;34m\u001b[0m\u001b[0;34m\u001b[0m\u001b[0m\n\u001b[1;32m     52\u001b[0m \u001b[0;34m\u001b[0m\u001b[0m\n",
            "\u001b[0;32m<ipython-input-18-a8ad25a5560e>\u001b[0m in \u001b[0;36mgenerate_output\u001b[0;34m(input_text)\u001b[0m\n\u001b[1;32m     22\u001b[0m \u001b[0;34m\u001b[0m\u001b[0m\n\u001b[1;32m     23\u001b[0m \u001b[0;32mdef\u001b[0m \u001b[0mgenerate_output\u001b[0m\u001b[0;34m(\u001b[0m\u001b[0minput_text\u001b[0m\u001b[0;34m)\u001b[0m\u001b[0;34m:\u001b[0m\u001b[0;34m\u001b[0m\u001b[0;34m\u001b[0m\u001b[0m\n\u001b[0;32m---> 24\u001b[0;31m     \u001b[0mpredictions\u001b[0m \u001b[0;34m=\u001b[0m \u001b[0mpredict_all_classes\u001b[0m\u001b[0;34m(\u001b[0m\u001b[0minput_text\u001b[0m\u001b[0;34m)\u001b[0m\u001b[0;34m\u001b[0m\u001b[0;34m\u001b[0m\u001b[0m\n\u001b[0m\u001b[1;32m     25\u001b[0m     \u001b[0moutput_parts\u001b[0m \u001b[0;34m=\u001b[0m \u001b[0;34m[\u001b[0m\u001b[0;34m]\u001b[0m\u001b[0;34m\u001b[0m\u001b[0;34m\u001b[0m\u001b[0m\n\u001b[1;32m     26\u001b[0m \u001b[0;34m\u001b[0m\u001b[0m\n",
            "\u001b[0;32m<ipython-input-18-a8ad25a5560e>\u001b[0m in \u001b[0;36mpredict_all_classes\u001b[0;34m(input_text)\u001b[0m\n\u001b[1;32m     15\u001b[0m         \u001b[0mmodel\u001b[0m \u001b[0;34m=\u001b[0m \u001b[0mmodels\u001b[0m\u001b[0;34m[\u001b[0m\u001b[0mlabel\u001b[0m\u001b[0;34m]\u001b[0m\u001b[0;34m\u001b[0m\u001b[0;34m\u001b[0m\u001b[0m\n\u001b[1;32m     16\u001b[0m         \u001b[0mvectorizer\u001b[0m \u001b[0;34m=\u001b[0m \u001b[0mvectorizers\u001b[0m\u001b[0;34m[\u001b[0m\u001b[0mlabel\u001b[0m\u001b[0;34m]\u001b[0m\u001b[0;34m\u001b[0m\u001b[0;34m\u001b[0m\u001b[0m\n\u001b[0;32m---> 17\u001b[0;31m         \u001b[0mpredicted_class\u001b[0m\u001b[0;34m,\u001b[0m \u001b[0mprobabilities\u001b[0m \u001b[0;34m=\u001b[0m \u001b[0mpredict_class\u001b[0m\u001b[0;34m(\u001b[0m\u001b[0minput_text\u001b[0m\u001b[0;34m,\u001b[0m \u001b[0mmodel\u001b[0m\u001b[0;34m,\u001b[0m \u001b[0mvectorizer\u001b[0m\u001b[0;34m)\u001b[0m\u001b[0;34m\u001b[0m\u001b[0;34m\u001b[0m\u001b[0m\n\u001b[0m\u001b[1;32m     18\u001b[0m         \u001b[0mprint\u001b[0m\u001b[0;34m(\u001b[0m\u001b[0;34mf\"Label: {label}, Prediction: {predicted_class}, Probabilities: {probabilities}\"\u001b[0m\u001b[0;34m)\u001b[0m  \u001b[0;31m# Debug print\u001b[0m\u001b[0;34m\u001b[0m\u001b[0;34m\u001b[0m\u001b[0m\n\u001b[1;32m     19\u001b[0m         \u001b[0;32mif\u001b[0m \u001b[0mpredicted_class\u001b[0m \u001b[0;34m==\u001b[0m \u001b[0;36m1\u001b[0m\u001b[0;34m:\u001b[0m\u001b[0;34m\u001b[0m\u001b[0;34m\u001b[0m\u001b[0m\n",
            "\u001b[0;32m<ipython-input-18-a8ad25a5560e>\u001b[0m in \u001b[0;36mpredict_class\u001b[0;34m(input_text, model, vectorizer)\u001b[0m\n\u001b[1;32m      5\u001b[0m     \u001b[0minput_text_tfidf\u001b[0m \u001b[0;34m=\u001b[0m \u001b[0mvectorizer\u001b[0m\u001b[0;34m.\u001b[0m\u001b[0mtransform\u001b[0m\u001b[0;34m(\u001b[0m\u001b[0;34m[\u001b[0m\u001b[0minput_text_processed\u001b[0m\u001b[0;34m]\u001b[0m\u001b[0;34m)\u001b[0m\u001b[0;34m\u001b[0m\u001b[0;34m\u001b[0m\u001b[0m\n\u001b[1;32m      6\u001b[0m     \u001b[0;31m# Predict probabilities\u001b[0m\u001b[0;34m\u001b[0m\u001b[0;34m\u001b[0m\u001b[0m\n\u001b[0;32m----> 7\u001b[0;31m     \u001b[0mprobabilities\u001b[0m \u001b[0;34m=\u001b[0m \u001b[0mmodel\u001b[0m\u001b[0;34m.\u001b[0m\u001b[0mpredict_proba\u001b[0m\u001b[0;34m(\u001b[0m\u001b[0minput_text_tfidf\u001b[0m\u001b[0;34m)\u001b[0m\u001b[0;34m\u001b[0m\u001b[0;34m\u001b[0m\u001b[0m\n\u001b[0m\u001b[1;32m      8\u001b[0m     \u001b[0;31m# Predict class\u001b[0m\u001b[0;34m\u001b[0m\u001b[0;34m\u001b[0m\u001b[0m\n\u001b[1;32m      9\u001b[0m     \u001b[0mpredicted_class\u001b[0m \u001b[0;34m=\u001b[0m \u001b[0mmodel\u001b[0m\u001b[0;34m.\u001b[0m\u001b[0mpredict\u001b[0m\u001b[0;34m(\u001b[0m\u001b[0minput_text_tfidf\u001b[0m\u001b[0;34m)\u001b[0m\u001b[0;34m\u001b[0m\u001b[0;34m\u001b[0m\u001b[0m\n",
            "\u001b[0;32m/usr/local/lib/python3.10/dist-packages/sklearn/linear_model/_logistic.py\u001b[0m in \u001b[0;36mpredict_proba\u001b[0;34m(self, X)\u001b[0m\n\u001b[1;32m   1370\u001b[0m         )\n\u001b[1;32m   1371\u001b[0m         \u001b[0;32mif\u001b[0m \u001b[0movr\u001b[0m\u001b[0;34m:\u001b[0m\u001b[0;34m\u001b[0m\u001b[0;34m\u001b[0m\u001b[0m\n\u001b[0;32m-> 1372\u001b[0;31m             \u001b[0;32mreturn\u001b[0m \u001b[0msuper\u001b[0m\u001b[0;34m(\u001b[0m\u001b[0;34m)\u001b[0m\u001b[0;34m.\u001b[0m\u001b[0m_predict_proba_lr\u001b[0m\u001b[0;34m(\u001b[0m\u001b[0mX\u001b[0m\u001b[0;34m)\u001b[0m\u001b[0;34m\u001b[0m\u001b[0;34m\u001b[0m\u001b[0m\n\u001b[0m\u001b[1;32m   1373\u001b[0m         \u001b[0;32melse\u001b[0m\u001b[0;34m:\u001b[0m\u001b[0;34m\u001b[0m\u001b[0;34m\u001b[0m\u001b[0m\n\u001b[1;32m   1374\u001b[0m             \u001b[0mdecision\u001b[0m \u001b[0;34m=\u001b[0m \u001b[0mself\u001b[0m\u001b[0;34m.\u001b[0m\u001b[0mdecision_function\u001b[0m\u001b[0;34m(\u001b[0m\u001b[0mX\u001b[0m\u001b[0;34m)\u001b[0m\u001b[0;34m\u001b[0m\u001b[0;34m\u001b[0m\u001b[0m\n",
            "\u001b[0;32m/usr/local/lib/python3.10/dist-packages/sklearn/linear_model/_base.py\u001b[0m in \u001b[0;36m_predict_proba_lr\u001b[0;34m(self, X)\u001b[0m\n\u001b[1;32m    432\u001b[0m         \u001b[0mmulticlass\u001b[0m \u001b[0;32mis\u001b[0m \u001b[0mhandled\u001b[0m \u001b[0mby\u001b[0m \u001b[0mnormalizing\u001b[0m \u001b[0mthat\u001b[0m \u001b[0mover\u001b[0m \u001b[0mall\u001b[0m \u001b[0mclasses\u001b[0m\u001b[0;34m.\u001b[0m\u001b[0;34m\u001b[0m\u001b[0;34m\u001b[0m\u001b[0m\n\u001b[1;32m    433\u001b[0m         \"\"\"\n\u001b[0;32m--> 434\u001b[0;31m         \u001b[0mprob\u001b[0m \u001b[0;34m=\u001b[0m \u001b[0mself\u001b[0m\u001b[0;34m.\u001b[0m\u001b[0mdecision_function\u001b[0m\u001b[0;34m(\u001b[0m\u001b[0mX\u001b[0m\u001b[0;34m)\u001b[0m\u001b[0;34m\u001b[0m\u001b[0;34m\u001b[0m\u001b[0m\n\u001b[0m\u001b[1;32m    435\u001b[0m         \u001b[0mexpit\u001b[0m\u001b[0;34m(\u001b[0m\u001b[0mprob\u001b[0m\u001b[0;34m,\u001b[0m \u001b[0mout\u001b[0m\u001b[0;34m=\u001b[0m\u001b[0mprob\u001b[0m\u001b[0;34m)\u001b[0m\u001b[0;34m\u001b[0m\u001b[0;34m\u001b[0m\u001b[0m\n\u001b[1;32m    436\u001b[0m         \u001b[0;32mif\u001b[0m \u001b[0mprob\u001b[0m\u001b[0;34m.\u001b[0m\u001b[0mndim\u001b[0m \u001b[0;34m==\u001b[0m \u001b[0;36m1\u001b[0m\u001b[0;34m:\u001b[0m\u001b[0;34m\u001b[0m\u001b[0;34m\u001b[0m\u001b[0m\n",
            "\u001b[0;32m/usr/local/lib/python3.10/dist-packages/sklearn/linear_model/_base.py\u001b[0m in \u001b[0;36mdecision_function\u001b[0;34m(self, X)\u001b[0m\n\u001b[1;32m    398\u001b[0m         \u001b[0mxp\u001b[0m\u001b[0;34m,\u001b[0m \u001b[0m_\u001b[0m \u001b[0;34m=\u001b[0m \u001b[0mget_namespace\u001b[0m\u001b[0;34m(\u001b[0m\u001b[0mX\u001b[0m\u001b[0;34m)\u001b[0m\u001b[0;34m\u001b[0m\u001b[0;34m\u001b[0m\u001b[0m\n\u001b[1;32m    399\u001b[0m \u001b[0;34m\u001b[0m\u001b[0m\n\u001b[0;32m--> 400\u001b[0;31m         \u001b[0mX\u001b[0m \u001b[0;34m=\u001b[0m \u001b[0mself\u001b[0m\u001b[0;34m.\u001b[0m\u001b[0m_validate_data\u001b[0m\u001b[0;34m(\u001b[0m\u001b[0mX\u001b[0m\u001b[0;34m,\u001b[0m \u001b[0maccept_sparse\u001b[0m\u001b[0;34m=\u001b[0m\u001b[0;34m\"csr\"\u001b[0m\u001b[0;34m,\u001b[0m \u001b[0mreset\u001b[0m\u001b[0;34m=\u001b[0m\u001b[0;32mFalse\u001b[0m\u001b[0;34m)\u001b[0m\u001b[0;34m\u001b[0m\u001b[0;34m\u001b[0m\u001b[0m\n\u001b[0m\u001b[1;32m    401\u001b[0m         \u001b[0mscores\u001b[0m \u001b[0;34m=\u001b[0m \u001b[0msafe_sparse_dot\u001b[0m\u001b[0;34m(\u001b[0m\u001b[0mX\u001b[0m\u001b[0;34m,\u001b[0m \u001b[0mself\u001b[0m\u001b[0;34m.\u001b[0m\u001b[0mcoef_\u001b[0m\u001b[0;34m.\u001b[0m\u001b[0mT\u001b[0m\u001b[0;34m,\u001b[0m \u001b[0mdense_output\u001b[0m\u001b[0;34m=\u001b[0m\u001b[0;32mTrue\u001b[0m\u001b[0;34m)\u001b[0m \u001b[0;34m+\u001b[0m \u001b[0mself\u001b[0m\u001b[0;34m.\u001b[0m\u001b[0mintercept_\u001b[0m\u001b[0;34m\u001b[0m\u001b[0;34m\u001b[0m\u001b[0m\n\u001b[1;32m    402\u001b[0m         \u001b[0;32mreturn\u001b[0m \u001b[0mxp\u001b[0m\u001b[0;34m.\u001b[0m\u001b[0mreshape\u001b[0m\u001b[0;34m(\u001b[0m\u001b[0mscores\u001b[0m\u001b[0;34m,\u001b[0m \u001b[0;34m-\u001b[0m\u001b[0;36m1\u001b[0m\u001b[0;34m)\u001b[0m \u001b[0;32mif\u001b[0m \u001b[0mscores\u001b[0m\u001b[0;34m.\u001b[0m\u001b[0mshape\u001b[0m\u001b[0;34m[\u001b[0m\u001b[0;36m1\u001b[0m\u001b[0;34m]\u001b[0m \u001b[0;34m==\u001b[0m \u001b[0;36m1\u001b[0m \u001b[0;32melse\u001b[0m \u001b[0mscores\u001b[0m\u001b[0;34m\u001b[0m\u001b[0;34m\u001b[0m\u001b[0m\n",
            "\u001b[0;32m/usr/local/lib/python3.10/dist-packages/sklearn/base.py\u001b[0m in \u001b[0;36m_validate_data\u001b[0;34m(self, X, y, reset, validate_separately, **check_params)\u001b[0m\n\u001b[1;32m    586\u001b[0m \u001b[0;34m\u001b[0m\u001b[0m\n\u001b[1;32m    587\u001b[0m         \u001b[0;32mif\u001b[0m \u001b[0;32mnot\u001b[0m \u001b[0mno_val_X\u001b[0m \u001b[0;32mand\u001b[0m \u001b[0mcheck_params\u001b[0m\u001b[0;34m.\u001b[0m\u001b[0mget\u001b[0m\u001b[0;34m(\u001b[0m\u001b[0;34m\"ensure_2d\"\u001b[0m\u001b[0;34m,\u001b[0m \u001b[0;32mTrue\u001b[0m\u001b[0;34m)\u001b[0m\u001b[0;34m:\u001b[0m\u001b[0;34m\u001b[0m\u001b[0;34m\u001b[0m\u001b[0m\n\u001b[0;32m--> 588\u001b[0;31m             \u001b[0mself\u001b[0m\u001b[0;34m.\u001b[0m\u001b[0m_check_n_features\u001b[0m\u001b[0;34m(\u001b[0m\u001b[0mX\u001b[0m\u001b[0;34m,\u001b[0m \u001b[0mreset\u001b[0m\u001b[0;34m=\u001b[0m\u001b[0mreset\u001b[0m\u001b[0;34m)\u001b[0m\u001b[0;34m\u001b[0m\u001b[0;34m\u001b[0m\u001b[0m\n\u001b[0m\u001b[1;32m    589\u001b[0m \u001b[0;34m\u001b[0m\u001b[0m\n\u001b[1;32m    590\u001b[0m         \u001b[0;32mreturn\u001b[0m \u001b[0mout\u001b[0m\u001b[0;34m\u001b[0m\u001b[0;34m\u001b[0m\u001b[0m\n",
            "\u001b[0;32m/usr/local/lib/python3.10/dist-packages/sklearn/base.py\u001b[0m in \u001b[0;36m_check_n_features\u001b[0;34m(self, X, reset)\u001b[0m\n\u001b[1;32m    387\u001b[0m \u001b[0;34m\u001b[0m\u001b[0m\n\u001b[1;32m    388\u001b[0m         \u001b[0;32mif\u001b[0m \u001b[0mn_features\u001b[0m \u001b[0;34m!=\u001b[0m \u001b[0mself\u001b[0m\u001b[0;34m.\u001b[0m\u001b[0mn_features_in_\u001b[0m\u001b[0;34m:\u001b[0m\u001b[0;34m\u001b[0m\u001b[0;34m\u001b[0m\u001b[0m\n\u001b[0;32m--> 389\u001b[0;31m             raise ValueError(\n\u001b[0m\u001b[1;32m    390\u001b[0m                 \u001b[0;34mf\"X has {n_features} features, but {self.__class__.__name__} \"\u001b[0m\u001b[0;34m\u001b[0m\u001b[0;34m\u001b[0m\u001b[0m\n\u001b[1;32m    391\u001b[0m                 \u001b[0;34mf\"is expecting {self.n_features_in_} features as input.\"\u001b[0m\u001b[0;34m\u001b[0m\u001b[0;34m\u001b[0m\u001b[0m\n",
            "\u001b[0;31mValueError\u001b[0m: X has 562 features, but LogisticRegression is expecting 569 features as input."
          ]
        }
      ]
    },
    {
      "cell_type": "markdown",
      "source": [
        "# Using deep learning models : Bilstm with ovr approach"
      ],
      "metadata": {
        "id": "V1kwPeTttU9w"
      }
    },
    {
      "cell_type": "code",
      "source": [
        "import pandas as pd\n",
        "\n",
        "# Paths to your CSV files\n",
        "csv_paths = {\n",
        "    'best_jobs': '/content/drive/MyDrive/Prompt-classifier/df_bj.csv',\n",
        "    'cv_improver': '/content/drive/MyDrive/Prompt-classifier/df_cv.csv',\n",
        "    'lm_improver': '/content/drive/MyDrive/Prompt-classifier/df_lm.csv',\n",
        "    'interview-coaching': '/content/drive/MyDrive/Prompt-classifier/df_ic.csv',\n",
        "    'KO': '/content/drive/MyDrive/Prompt-classifier/df_ko.csv'\n",
        "}\n",
        "\n",
        "# Load the datasets into dataframes\n",
        "datasets = {label: pd.read_csv(path) for label, path in csv_paths.items()}\n"
      ],
      "metadata": {
        "id": "AnKRJwAlxNOE"
      },
      "execution_count": null,
      "outputs": []
    },
    {
      "cell_type": "code",
      "source": [
        "from keras.preprocessing.text import Tokenizer\n",
        "from keras.preprocessing.sequence import pad_sequences\n",
        "import numpy as np\n",
        "\n",
        "# Tokenize and pad sequences for each class\n",
        "maxlen = 150\n",
        "tokenizers = {}\n",
        "padded_sequences = {}\n",
        "average_lengths = {}\n",
        "max_lengths = {}\n",
        "min_lengths = {}\n",
        "percentage_coverages = {}\n",
        "\n",
        "for label, df in datasets.items():\n",
        "    prompts = list(df['input'])\n",
        "    tokenizer = Tokenizer()\n",
        "    tokenizer.fit_on_texts(prompts)\n",
        "    tokenizers[label] = tokenizer\n",
        "\n",
        "    sequences = tokenizer.texts_to_sequences(prompts)\n",
        "    padded_sequences[label] = pad_sequences(sequences, maxlen=maxlen)\n",
        "\n",
        "    # Calculate sequence lengths\n",
        "    sequence_lengths = [len(seq) for seq in sequences]\n",
        "    average_lengths[label] = np.mean(sequence_lengths)\n",
        "    max_lengths[label] = np.max(sequence_lengths)\n",
        "    min_lengths[label] = np.min(sequence_lengths)\n",
        "\n",
        "    num_sequences_covered = sum(1 for length in sequence_lengths if length <= maxlen)\n",
        "    percentage_coverages[label] = (num_sequences_covered / len(sequence_lengths)) * 100\n",
        "\n",
        "# Print statistics\n",
        "for label in datasets.keys():\n",
        "    print(f'{label} - UNIQUE TOKENS: {len(tokenizers[label].word_index)}')\n",
        "    print(f'AVERAGE SEQUENCE LENGTH: {average_lengths[label]:.2f}')\n",
        "    print(f'MAXIMUM SEQUENCE LENGTH: {max_lengths[label]}')\n",
        "    print(f'MINIMUM SEQUENCE LENGTH: {min_lengths[label]}')\n",
        "    print(f'PERCENTAGE OF SEQUENCES COVERED BY MAX LENGTH {maxlen}: {percentage_coverages[label]:.2f}%\\n')\n"
      ],
      "metadata": {
        "colab": {
          "base_uri": "https://localhost:8080/"
        },
        "id": "QD_l5A450PhZ",
        "outputId": "da824c88-78ec-42ae-e5c2-2e0221ad72b2"
      },
      "execution_count": null,
      "outputs": [
        {
          "output_type": "stream",
          "name": "stdout",
          "text": [
            "best_jobs - UNIQUE TOKENS: 576\n",
            "AVERAGE SEQUENCE LENGTH: 9.28\n",
            "MAXIMUM SEQUENCE LENGTH: 29\n",
            "MINIMUM SEQUENCE LENGTH: 3\n",
            "PERCENTAGE OF SEQUENCES COVERED BY MAX LENGTH 150: 100.00%\n",
            "\n",
            "cv_improver - UNIQUE TOKENS: 592\n",
            "AVERAGE SEQUENCE LENGTH: 9.52\n",
            "MAXIMUM SEQUENCE LENGTH: 29\n",
            "MINIMUM SEQUENCE LENGTH: 3\n",
            "PERCENTAGE OF SEQUENCES COVERED BY MAX LENGTH 150: 100.00%\n",
            "\n",
            "lm_improver - UNIQUE TOKENS: 579\n",
            "AVERAGE SEQUENCE LENGTH: 9.85\n",
            "MAXIMUM SEQUENCE LENGTH: 29\n",
            "MINIMUM SEQUENCE LENGTH: 3\n",
            "PERCENTAGE OF SEQUENCES COVERED BY MAX LENGTH 150: 100.00%\n",
            "\n",
            "interview-coaching - UNIQUE TOKENS: 612\n",
            "AVERAGE SEQUENCE LENGTH: 10.72\n",
            "MAXIMUM SEQUENCE LENGTH: 30\n",
            "MINIMUM SEQUENCE LENGTH: 3\n",
            "PERCENTAGE OF SEQUENCES COVERED BY MAX LENGTH 150: 100.00%\n",
            "\n",
            "KO - UNIQUE TOKENS: 597\n",
            "AVERAGE SEQUENCE LENGTH: 7.61\n",
            "MAXIMUM SEQUENCE LENGTH: 29\n",
            "MINIMUM SEQUENCE LENGTH: 3\n",
            "PERCENTAGE OF SEQUENCES COVERED BY MAX LENGTH 150: 100.00%\n",
            "\n"
          ]
        }
      ]
    },
    {
      "cell_type": "code",
      "source": [
        "import gensim.downloader as api\n",
        "import numpy as np\n",
        "\n",
        "# Load pre-trained FastText model\n",
        "fasttext_model = api.load('fasttext-wiki-news-subwords-300')"
      ],
      "metadata": {
        "colab": {
          "base_uri": "https://localhost:8080/",
          "height": 339
        },
        "id": "XQfsQTXjtZDZ",
        "outputId": "638d6d3a-0b97-4bd8-f38e-405693723cce"
      },
      "execution_count": null,
      "outputs": [
        {
          "output_type": "stream",
          "name": "stdout",
          "text": [
            "[=-------------------------------------------------] 2.7% 26.1/958.4MB downloaded"
          ]
        },
        {
          "output_type": "error",
          "ename": "KeyboardInterrupt",
          "evalue": "",
          "traceback": [
            "\u001b[0;31m---------------------------------------------------------------------------\u001b[0m",
            "\u001b[0;31mKeyboardInterrupt\u001b[0m                         Traceback (most recent call last)",
            "\u001b[0;32m<ipython-input-28-ba177fdcba55>\u001b[0m in \u001b[0;36m<cell line: 5>\u001b[0;34m()\u001b[0m\n\u001b[1;32m      3\u001b[0m \u001b[0;34m\u001b[0m\u001b[0m\n\u001b[1;32m      4\u001b[0m \u001b[0;31m# Load pre-trained FastText model\u001b[0m\u001b[0;34m\u001b[0m\u001b[0;34m\u001b[0m\u001b[0m\n\u001b[0;32m----> 5\u001b[0;31m \u001b[0mfasttext_model\u001b[0m \u001b[0;34m=\u001b[0m \u001b[0mapi\u001b[0m\u001b[0;34m.\u001b[0m\u001b[0mload\u001b[0m\u001b[0;34m(\u001b[0m\u001b[0;34m'fasttext-wiki-news-subwords-300'\u001b[0m\u001b[0;34m)\u001b[0m\u001b[0;34m\u001b[0m\u001b[0;34m\u001b[0m\u001b[0m\n\u001b[0m",
            "\u001b[0;32m/usr/local/lib/python3.10/dist-packages/gensim/downloader.py\u001b[0m in \u001b[0;36mload\u001b[0;34m(name, return_path)\u001b[0m\n\u001b[1;32m    494\u001b[0m     \u001b[0mpath\u001b[0m \u001b[0;34m=\u001b[0m \u001b[0mos\u001b[0m\u001b[0;34m.\u001b[0m\u001b[0mpath\u001b[0m\u001b[0;34m.\u001b[0m\u001b[0mjoin\u001b[0m\u001b[0;34m(\u001b[0m\u001b[0mfolder_dir\u001b[0m\u001b[0;34m,\u001b[0m \u001b[0mfile_name\u001b[0m\u001b[0;34m)\u001b[0m\u001b[0;34m\u001b[0m\u001b[0;34m\u001b[0m\u001b[0m\n\u001b[1;32m    495\u001b[0m     \u001b[0;32mif\u001b[0m \u001b[0;32mnot\u001b[0m \u001b[0mos\u001b[0m\u001b[0;34m.\u001b[0m\u001b[0mpath\u001b[0m\u001b[0;34m.\u001b[0m\u001b[0mexists\u001b[0m\u001b[0;34m(\u001b[0m\u001b[0mfolder_dir\u001b[0m\u001b[0;34m)\u001b[0m\u001b[0;34m:\u001b[0m\u001b[0;34m\u001b[0m\u001b[0;34m\u001b[0m\u001b[0m\n\u001b[0;32m--> 496\u001b[0;31m         \u001b[0m_download\u001b[0m\u001b[0;34m(\u001b[0m\u001b[0mname\u001b[0m\u001b[0;34m)\u001b[0m\u001b[0;34m\u001b[0m\u001b[0;34m\u001b[0m\u001b[0m\n\u001b[0m\u001b[1;32m    497\u001b[0m \u001b[0;34m\u001b[0m\u001b[0m\n\u001b[1;32m    498\u001b[0m     \u001b[0;32mif\u001b[0m \u001b[0mreturn_path\u001b[0m\u001b[0;34m:\u001b[0m\u001b[0;34m\u001b[0m\u001b[0;34m\u001b[0m\u001b[0m\n",
            "\u001b[0;32m/usr/local/lib/python3.10/dist-packages/gensim/downloader.py\u001b[0m in \u001b[0;36m_download\u001b[0;34m(name)\u001b[0m\n\u001b[1;32m    394\u001b[0m         \u001b[0mfname\u001b[0m \u001b[0;34m=\u001b[0m \u001b[0;34m\"{fname}.gz\"\u001b[0m\u001b[0;34m.\u001b[0m\u001b[0mformat\u001b[0m\u001b[0;34m(\u001b[0m\u001b[0mfname\u001b[0m\u001b[0;34m=\u001b[0m\u001b[0mname\u001b[0m\u001b[0;34m)\u001b[0m\u001b[0;34m\u001b[0m\u001b[0;34m\u001b[0m\u001b[0m\n\u001b[1;32m    395\u001b[0m         \u001b[0mdst_path\u001b[0m \u001b[0;34m=\u001b[0m \u001b[0mos\u001b[0m\u001b[0;34m.\u001b[0m\u001b[0mpath\u001b[0m\u001b[0;34m.\u001b[0m\u001b[0mjoin\u001b[0m\u001b[0;34m(\u001b[0m\u001b[0mtmp_dir\u001b[0m\u001b[0;34m,\u001b[0m \u001b[0mfname\u001b[0m\u001b[0;34m)\u001b[0m\u001b[0;34m\u001b[0m\u001b[0;34m\u001b[0m\u001b[0m\n\u001b[0;32m--> 396\u001b[0;31m         \u001b[0murllib\u001b[0m\u001b[0;34m.\u001b[0m\u001b[0murlretrieve\u001b[0m\u001b[0;34m(\u001b[0m\u001b[0murl_data\u001b[0m\u001b[0;34m,\u001b[0m \u001b[0mdst_path\u001b[0m\u001b[0;34m,\u001b[0m \u001b[0mreporthook\u001b[0m\u001b[0;34m=\u001b[0m\u001b[0m_progress\u001b[0m\u001b[0;34m)\u001b[0m\u001b[0;34m\u001b[0m\u001b[0;34m\u001b[0m\u001b[0m\n\u001b[0m\u001b[1;32m    397\u001b[0m         \u001b[0;32mif\u001b[0m \u001b[0m_calculate_md5_checksum\u001b[0m\u001b[0;34m(\u001b[0m\u001b[0mdst_path\u001b[0m\u001b[0;34m)\u001b[0m \u001b[0;34m==\u001b[0m \u001b[0m_get_checksum\u001b[0m\u001b[0;34m(\u001b[0m\u001b[0mname\u001b[0m\u001b[0;34m)\u001b[0m\u001b[0;34m:\u001b[0m\u001b[0;34m\u001b[0m\u001b[0;34m\u001b[0m\u001b[0m\n\u001b[1;32m    398\u001b[0m             \u001b[0msys\u001b[0m\u001b[0;34m.\u001b[0m\u001b[0mstdout\u001b[0m\u001b[0;34m.\u001b[0m\u001b[0mwrite\u001b[0m\u001b[0;34m(\u001b[0m\u001b[0;34m\"\\n\"\u001b[0m\u001b[0;34m)\u001b[0m\u001b[0;34m\u001b[0m\u001b[0;34m\u001b[0m\u001b[0m\n",
            "\u001b[0;32m/usr/lib/python3.10/urllib/request.py\u001b[0m in \u001b[0;36murlretrieve\u001b[0;34m(url, filename, reporthook, data)\u001b[0m\n\u001b[1;32m    268\u001b[0m \u001b[0;34m\u001b[0m\u001b[0m\n\u001b[1;32m    269\u001b[0m             \u001b[0;32mwhile\u001b[0m \u001b[0;32mTrue\u001b[0m\u001b[0;34m:\u001b[0m\u001b[0;34m\u001b[0m\u001b[0;34m\u001b[0m\u001b[0m\n\u001b[0;32m--> 270\u001b[0;31m                 \u001b[0mblock\u001b[0m \u001b[0;34m=\u001b[0m \u001b[0mfp\u001b[0m\u001b[0;34m.\u001b[0m\u001b[0mread\u001b[0m\u001b[0;34m(\u001b[0m\u001b[0mbs\u001b[0m\u001b[0;34m)\u001b[0m\u001b[0;34m\u001b[0m\u001b[0;34m\u001b[0m\u001b[0m\n\u001b[0m\u001b[1;32m    271\u001b[0m                 \u001b[0;32mif\u001b[0m \u001b[0;32mnot\u001b[0m \u001b[0mblock\u001b[0m\u001b[0;34m:\u001b[0m\u001b[0;34m\u001b[0m\u001b[0;34m\u001b[0m\u001b[0m\n\u001b[1;32m    272\u001b[0m                     \u001b[0;32mbreak\u001b[0m\u001b[0;34m\u001b[0m\u001b[0;34m\u001b[0m\u001b[0m\n",
            "\u001b[0;32m/usr/lib/python3.10/http/client.py\u001b[0m in \u001b[0;36mread\u001b[0;34m(self, amt)\u001b[0m\n\u001b[1;32m    464\u001b[0m                 \u001b[0;31m# clip the read to the \"end of response\"\u001b[0m\u001b[0;34m\u001b[0m\u001b[0;34m\u001b[0m\u001b[0m\n\u001b[1;32m    465\u001b[0m                 \u001b[0mamt\u001b[0m \u001b[0;34m=\u001b[0m \u001b[0mself\u001b[0m\u001b[0;34m.\u001b[0m\u001b[0mlength\u001b[0m\u001b[0;34m\u001b[0m\u001b[0;34m\u001b[0m\u001b[0m\n\u001b[0;32m--> 466\u001b[0;31m             \u001b[0ms\u001b[0m \u001b[0;34m=\u001b[0m \u001b[0mself\u001b[0m\u001b[0;34m.\u001b[0m\u001b[0mfp\u001b[0m\u001b[0;34m.\u001b[0m\u001b[0mread\u001b[0m\u001b[0;34m(\u001b[0m\u001b[0mamt\u001b[0m\u001b[0;34m)\u001b[0m\u001b[0;34m\u001b[0m\u001b[0;34m\u001b[0m\u001b[0m\n\u001b[0m\u001b[1;32m    467\u001b[0m             \u001b[0;32mif\u001b[0m \u001b[0;32mnot\u001b[0m \u001b[0ms\u001b[0m \u001b[0;32mand\u001b[0m \u001b[0mamt\u001b[0m\u001b[0;34m:\u001b[0m\u001b[0;34m\u001b[0m\u001b[0;34m\u001b[0m\u001b[0m\n\u001b[1;32m    468\u001b[0m                 \u001b[0;31m# Ideally, we would raise IncompleteRead if the content-length\u001b[0m\u001b[0;34m\u001b[0m\u001b[0;34m\u001b[0m\u001b[0m\n",
            "\u001b[0;32m/usr/lib/python3.10/socket.py\u001b[0m in \u001b[0;36mreadinto\u001b[0;34m(self, b)\u001b[0m\n\u001b[1;32m    703\u001b[0m         \u001b[0;32mwhile\u001b[0m \u001b[0;32mTrue\u001b[0m\u001b[0;34m:\u001b[0m\u001b[0;34m\u001b[0m\u001b[0;34m\u001b[0m\u001b[0m\n\u001b[1;32m    704\u001b[0m             \u001b[0;32mtry\u001b[0m\u001b[0;34m:\u001b[0m\u001b[0;34m\u001b[0m\u001b[0;34m\u001b[0m\u001b[0m\n\u001b[0;32m--> 705\u001b[0;31m                 \u001b[0;32mreturn\u001b[0m \u001b[0mself\u001b[0m\u001b[0;34m.\u001b[0m\u001b[0m_sock\u001b[0m\u001b[0;34m.\u001b[0m\u001b[0mrecv_into\u001b[0m\u001b[0;34m(\u001b[0m\u001b[0mb\u001b[0m\u001b[0;34m)\u001b[0m\u001b[0;34m\u001b[0m\u001b[0;34m\u001b[0m\u001b[0m\n\u001b[0m\u001b[1;32m    706\u001b[0m             \u001b[0;32mexcept\u001b[0m \u001b[0mtimeout\u001b[0m\u001b[0;34m:\u001b[0m\u001b[0;34m\u001b[0m\u001b[0;34m\u001b[0m\u001b[0m\n\u001b[1;32m    707\u001b[0m                 \u001b[0mself\u001b[0m\u001b[0;34m.\u001b[0m\u001b[0m_timeout_occurred\u001b[0m \u001b[0;34m=\u001b[0m \u001b[0;32mTrue\u001b[0m\u001b[0;34m\u001b[0m\u001b[0;34m\u001b[0m\u001b[0m\n",
            "\u001b[0;32m/usr/lib/python3.10/ssl.py\u001b[0m in \u001b[0;36mrecv_into\u001b[0;34m(self, buffer, nbytes, flags)\u001b[0m\n\u001b[1;32m   1301\u001b[0m                   \u001b[0;34m\"non-zero flags not allowed in calls to recv_into() on %s\"\u001b[0m \u001b[0;34m%\u001b[0m\u001b[0;34m\u001b[0m\u001b[0;34m\u001b[0m\u001b[0m\n\u001b[1;32m   1302\u001b[0m                   self.__class__)\n\u001b[0;32m-> 1303\u001b[0;31m             \u001b[0;32mreturn\u001b[0m \u001b[0mself\u001b[0m\u001b[0;34m.\u001b[0m\u001b[0mread\u001b[0m\u001b[0;34m(\u001b[0m\u001b[0mnbytes\u001b[0m\u001b[0;34m,\u001b[0m \u001b[0mbuffer\u001b[0m\u001b[0;34m)\u001b[0m\u001b[0;34m\u001b[0m\u001b[0;34m\u001b[0m\u001b[0m\n\u001b[0m\u001b[1;32m   1304\u001b[0m         \u001b[0;32melse\u001b[0m\u001b[0;34m:\u001b[0m\u001b[0;34m\u001b[0m\u001b[0;34m\u001b[0m\u001b[0m\n\u001b[1;32m   1305\u001b[0m             \u001b[0;32mreturn\u001b[0m \u001b[0msuper\u001b[0m\u001b[0;34m(\u001b[0m\u001b[0;34m)\u001b[0m\u001b[0;34m.\u001b[0m\u001b[0mrecv_into\u001b[0m\u001b[0;34m(\u001b[0m\u001b[0mbuffer\u001b[0m\u001b[0;34m,\u001b[0m \u001b[0mnbytes\u001b[0m\u001b[0;34m,\u001b[0m \u001b[0mflags\u001b[0m\u001b[0;34m)\u001b[0m\u001b[0;34m\u001b[0m\u001b[0;34m\u001b[0m\u001b[0m\n",
            "\u001b[0;32m/usr/lib/python3.10/ssl.py\u001b[0m in \u001b[0;36mread\u001b[0;34m(self, len, buffer)\u001b[0m\n\u001b[1;32m   1157\u001b[0m         \u001b[0;32mtry\u001b[0m\u001b[0;34m:\u001b[0m\u001b[0;34m\u001b[0m\u001b[0;34m\u001b[0m\u001b[0m\n\u001b[1;32m   1158\u001b[0m             \u001b[0;32mif\u001b[0m \u001b[0mbuffer\u001b[0m \u001b[0;32mis\u001b[0m \u001b[0;32mnot\u001b[0m \u001b[0;32mNone\u001b[0m\u001b[0;34m:\u001b[0m\u001b[0;34m\u001b[0m\u001b[0;34m\u001b[0m\u001b[0m\n\u001b[0;32m-> 1159\u001b[0;31m                 \u001b[0;32mreturn\u001b[0m \u001b[0mself\u001b[0m\u001b[0;34m.\u001b[0m\u001b[0m_sslobj\u001b[0m\u001b[0;34m.\u001b[0m\u001b[0mread\u001b[0m\u001b[0;34m(\u001b[0m\u001b[0mlen\u001b[0m\u001b[0;34m,\u001b[0m \u001b[0mbuffer\u001b[0m\u001b[0;34m)\u001b[0m\u001b[0;34m\u001b[0m\u001b[0;34m\u001b[0m\u001b[0m\n\u001b[0m\u001b[1;32m   1160\u001b[0m             \u001b[0;32melse\u001b[0m\u001b[0;34m:\u001b[0m\u001b[0;34m\u001b[0m\u001b[0;34m\u001b[0m\u001b[0m\n\u001b[1;32m   1161\u001b[0m                 \u001b[0;32mreturn\u001b[0m \u001b[0mself\u001b[0m\u001b[0;34m.\u001b[0m\u001b[0m_sslobj\u001b[0m\u001b[0;34m.\u001b[0m\u001b[0mread\u001b[0m\u001b[0;34m(\u001b[0m\u001b[0mlen\u001b[0m\u001b[0;34m)\u001b[0m\u001b[0;34m\u001b[0m\u001b[0;34m\u001b[0m\u001b[0m\n",
            "\u001b[0;31mKeyboardInterrupt\u001b[0m: "
          ]
        }
      ]
    },
    {
      "cell_type": "code",
      "source": [
        "def create_embedding_matrix(tokenizer, embedding_model):\n",
        "    \"\"\"Create embedding matrix from pre-trained word embedding model.\"\"\"\n",
        "    vocab_size = len(tokenizer.word_index)\n",
        "    embedding_dim = len(embedding_model['king'])  # Assuming 'king' is in the model vocabulary\n",
        "\n",
        "    # Initialize embedding matrix\n",
        "    embedding_matrix = np.zeros((vocab_size + 1, embedding_dim))\n",
        "\n",
        "    # Fill embedding matrix\n",
        "    for word, i in tokenizer.word_index.items():\n",
        "        if word in embedding_model:\n",
        "            embedding_matrix[i] = embedding_model[word]\n",
        "        else:\n",
        "            # Initialize random vector for out-of-vocabulary words\n",
        "            embedding_matrix[i] = np.random.normal(scale=0.6, size=(embedding_dim,))\n",
        "\n",
        "    return embedding_matrix"
      ],
      "metadata": {
        "id": "UFQuxCIJwd6Z"
      },
      "execution_count": null,
      "outputs": []
    },
    {
      "cell_type": "code",
      "source": [
        "embedding_matrices = {label: create_embedding_matrix(tokenizer, fasttext_model) for label, tokenizer in tokenizers.items()}\n",
        "\n",
        "# Save embedding matrices\n",
        "embedding_directory = '/content/drive/MyDrive/Prompt-classifier/embedding_matrices'\n",
        "for label, embedding_matrix in embedding_matrices.items():\n",
        "    fasttext_embedding_path = f'{embedding_directory}/{label}_fasttext_embedding_matrix.npy'\n",
        "    np.save(fasttext_embedding_path, embedding_matrix)"
      ],
      "metadata": {
        "id": "4MOs3M_i0xol"
      },
      "execution_count": null,
      "outputs": []
    },
    {
      "cell_type": "code",
      "source": [
        "from keras.models import Sequential\n",
        "from keras.layers import Embedding, Bidirectional, LSTM, Dense\n",
        "from sklearn.model_selection import train_test_split\n",
        "\n",
        "# Define and train BiLSTM model\n",
        "def train_bilstm_model(X, y, embedding_matrix, maxlen, model_path):\n",
        "    vocab_size = embedding_matrix.shape[0]\n",
        "\n",
        "    embedding_dim = embedding_matrix.shape[1]\n",
        "\n",
        "    X_train, X_test, y_train, y_test = train_test_split(X, y, test_size=0.2, random_state=43)\n",
        "\n",
        "    # Define the model\n",
        "    Bilstm_model = Sequential()\n",
        "    Bilstm_model.add(Embedding(input_dim=vocab_size,\n",
        "                               output_dim=embedding_dim,\n",
        "                               weights=[embedding_matrix],\n",
        "                               input_length=maxlen,\n",
        "                               trainable=False))\n",
        "    Bilstm_model.add(Bidirectional(LSTM(units=128, return_sequences=True)))\n",
        "    Bilstm_model.add(Bidirectional(LSTM(units=64)))\n",
        "    Bilstm_model.add(Dense(units=1, activation='sigmoid'))\n",
        "\n",
        "    # Compile the model\n",
        "    Bilstm_model.compile(optimizer='adam', loss='binary_crossentropy', metrics=['accuracy'])\n",
        "\n",
        "    # Print model summary\n",
        "    Bilstm_model.summary()\n",
        "\n",
        "    # Train the model\n",
        "    history = Bilstm_model.fit(X_train, y_train, epochs=10, batch_size=32, validation_split=0.2, verbose=1)\n",
        "\n",
        "    # Save the model\n",
        "    Bilstm_model.save(model_path)\n",
        "\n",
        "    return Bilstm_model\n",
        "\n",
        "# Train models for each class\n",
        "for label, df in datasets.items():\n",
        "    y = df[label]\n",
        "    X = padded_sequences[label]\n",
        "    embedding_matrix = embedding_matrices[label]\n",
        "    model_path = f'/content/drive/MyDrive/Prompt-classifier/Bilstm_models/{label}_bi_lstm_fasttext_model.h5'\n",
        "    train_bilstm_model(X, y, embedding_matrix, maxlen, model_path)\n"
      ],
      "metadata": {
        "colab": {
          "base_uri": "https://localhost:8080/"
        },
        "id": "uFiooSRU08Vp",
        "outputId": "f8ff0ea2-c7f2-47eb-b5aa-d73677058f64"
      },
      "execution_count": null,
      "outputs": [
        {
          "output_type": "stream",
          "name": "stdout",
          "text": [
            "Model: \"sequential_5\"\n",
            "_________________________________________________________________\n",
            " Layer (type)                Output Shape              Param #   \n",
            "=================================================================\n",
            " embedding_5 (Embedding)     (None, 150, 300)          173100    \n",
            "                                                                 \n",
            " bidirectional_10 (Bidirect  (None, 150, 256)          439296    \n",
            " ional)                                                          \n",
            "                                                                 \n",
            " bidirectional_11 (Bidirect  (None, 128)               164352    \n",
            " ional)                                                          \n",
            "                                                                 \n",
            " dense_5 (Dense)             (None, 1)                 129       \n",
            "                                                                 \n",
            "=================================================================\n",
            "Total params: 776877 (2.96 MB)\n",
            "Trainable params: 603777 (2.30 MB)\n",
            "Non-trainable params: 173100 (676.17 KB)\n",
            "_________________________________________________________________\n",
            "Epoch 1/10\n",
            "32/32 [==============================] - 10s 70ms/step - loss: 0.4482 - accuracy: 0.8047 - val_loss: 0.3706 - val_accuracy: 0.8867\n",
            "Epoch 2/10\n",
            "32/32 [==============================] - 1s 24ms/step - loss: 0.2026 - accuracy: 0.9277 - val_loss: 0.1948 - val_accuracy: 0.9180\n",
            "Epoch 3/10\n",
            "32/32 [==============================] - 1s 26ms/step - loss: 0.1073 - accuracy: 0.9658 - val_loss: 0.1368 - val_accuracy: 0.9375\n",
            "Epoch 4/10\n",
            "32/32 [==============================] - 1s 25ms/step - loss: 0.0894 - accuracy: 0.9648 - val_loss: 0.1239 - val_accuracy: 0.9453\n",
            "Epoch 5/10\n",
            "32/32 [==============================] - 1s 25ms/step - loss: 0.0627 - accuracy: 0.9727 - val_loss: 0.0849 - val_accuracy: 0.9727\n",
            "Epoch 6/10\n",
            "32/32 [==============================] - 1s 26ms/step - loss: 0.0374 - accuracy: 0.9873 - val_loss: 0.0645 - val_accuracy: 0.9844\n",
            "Epoch 7/10\n",
            "32/32 [==============================] - 1s 28ms/step - loss: 0.0134 - accuracy: 0.9951 - val_loss: 0.1087 - val_accuracy: 0.9727\n",
            "Epoch 8/10\n",
            "32/32 [==============================] - 1s 33ms/step - loss: 0.0331 - accuracy: 0.9902 - val_loss: 0.0733 - val_accuracy: 0.9844\n",
            "Epoch 9/10\n",
            "32/32 [==============================] - 1s 25ms/step - loss: 0.0906 - accuracy: 0.9795 - val_loss: 0.0746 - val_accuracy: 0.9844\n",
            "Epoch 10/10\n",
            "32/32 [==============================] - 1s 46ms/step - loss: 0.0157 - accuracy: 0.9990 - val_loss: 0.0615 - val_accuracy: 0.9805\n"
          ]
        },
        {
          "output_type": "stream",
          "name": "stderr",
          "text": [
            "/usr/local/lib/python3.10/dist-packages/keras/src/engine/training.py:3103: UserWarning: You are saving your model as an HDF5 file via `model.save()`. This file format is considered legacy. We recommend using instead the native Keras format, e.g. `model.save('my_model.keras')`.\n",
            "  saving_api.save_model(\n"
          ]
        },
        {
          "output_type": "stream",
          "name": "stdout",
          "text": [
            "Model: \"sequential_6\"\n",
            "_________________________________________________________________\n",
            " Layer (type)                Output Shape              Param #   \n",
            "=================================================================\n",
            " embedding_6 (Embedding)     (None, 150, 300)          177900    \n",
            "                                                                 \n",
            " bidirectional_12 (Bidirect  (None, 150, 256)          439296    \n",
            " ional)                                                          \n",
            "                                                                 \n",
            " bidirectional_13 (Bidirect  (None, 128)               164352    \n",
            " ional)                                                          \n",
            "                                                                 \n",
            " dense_6 (Dense)             (None, 1)                 129       \n",
            "                                                                 \n",
            "=================================================================\n",
            "Total params: 781677 (2.98 MB)\n",
            "Trainable params: 603777 (2.30 MB)\n",
            "Non-trainable params: 177900 (694.92 KB)\n",
            "_________________________________________________________________\n",
            "Epoch 1/10\n",
            "32/32 [==============================] - 13s 129ms/step - loss: 0.4130 - accuracy: 0.8311 - val_loss: 0.2716 - val_accuracy: 0.9180\n",
            "Epoch 2/10\n",
            "32/32 [==============================] - 2s 59ms/step - loss: 0.0864 - accuracy: 0.9717 - val_loss: 0.0482 - val_accuracy: 0.9805\n",
            "Epoch 3/10\n",
            "32/32 [==============================] - 1s 42ms/step - loss: 0.0159 - accuracy: 0.9951 - val_loss: 0.0233 - val_accuracy: 0.9883\n",
            "Epoch 4/10\n",
            "32/32 [==============================] - 1s 38ms/step - loss: 0.0061 - accuracy: 0.9990 - val_loss: 0.0196 - val_accuracy: 0.9961\n",
            "Epoch 5/10\n",
            "32/32 [==============================] - 1s 32ms/step - loss: 0.2204 - accuracy: 0.9473 - val_loss: 1.4525 - val_accuracy: 0.5078\n",
            "Epoch 6/10\n",
            "32/32 [==============================] - 1s 24ms/step - loss: 0.3557 - accuracy: 0.8672 - val_loss: 0.3534 - val_accuracy: 0.8477\n",
            "Epoch 7/10\n",
            "32/32 [==============================] - 1s 25ms/step - loss: 0.2062 - accuracy: 0.9258 - val_loss: 0.2161 - val_accuracy: 0.9219\n",
            "Epoch 8/10\n",
            "32/32 [==============================] - 1s 24ms/step - loss: 0.1221 - accuracy: 0.9678 - val_loss: 0.1085 - val_accuracy: 0.9648\n",
            "Epoch 9/10\n",
            "32/32 [==============================] - 1s 32ms/step - loss: 0.0618 - accuracy: 0.9854 - val_loss: 0.0647 - val_accuracy: 0.9727\n",
            "Epoch 10/10\n",
            "32/32 [==============================] - 1s 38ms/step - loss: 0.0765 - accuracy: 0.9736 - val_loss: 0.1738 - val_accuracy: 0.9805\n",
            "Model: \"sequential_7\"\n",
            "_________________________________________________________________\n",
            " Layer (type)                Output Shape              Param #   \n",
            "=================================================================\n",
            " embedding_7 (Embedding)     (None, 150, 300)          174000    \n",
            "                                                                 \n",
            " bidirectional_14 (Bidirect  (None, 150, 256)          439296    \n",
            " ional)                                                          \n",
            "                                                                 \n",
            " bidirectional_15 (Bidirect  (None, 128)               164352    \n",
            " ional)                                                          \n",
            "                                                                 \n",
            " dense_7 (Dense)             (None, 1)                 129       \n",
            "                                                                 \n",
            "=================================================================\n",
            "Total params: 777777 (2.97 MB)\n",
            "Trainable params: 603777 (2.30 MB)\n",
            "Non-trainable params: 174000 (679.69 KB)\n",
            "_________________________________________________________________\n",
            "Epoch 1/10\n",
            "32/32 [==============================] - 10s 97ms/step - loss: 0.4365 - accuracy: 0.8154 - val_loss: 0.2652 - val_accuracy: 0.8984\n",
            "Epoch 2/10\n",
            "32/32 [==============================] - 1s 27ms/step - loss: 0.1272 - accuracy: 0.9600 - val_loss: 0.0523 - val_accuracy: 0.9805\n",
            "Epoch 3/10\n",
            "32/32 [==============================] - 1s 26ms/step - loss: 0.0348 - accuracy: 0.9883 - val_loss: 0.0539 - val_accuracy: 0.9805\n",
            "Epoch 4/10\n",
            "32/32 [==============================] - 1s 24ms/step - loss: 0.0295 - accuracy: 0.9912 - val_loss: 0.0424 - val_accuracy: 0.9883\n",
            "Epoch 5/10\n",
            "32/32 [==============================] - 1s 25ms/step - loss: 0.0240 - accuracy: 0.9961 - val_loss: 0.0179 - val_accuracy: 0.9961\n",
            "Epoch 6/10\n",
            "32/32 [==============================] - 1s 26ms/step - loss: 0.0061 - accuracy: 0.9990 - val_loss: 0.0024 - val_accuracy: 1.0000\n",
            "Epoch 7/10\n",
            "32/32 [==============================] - 1s 29ms/step - loss: 0.0017 - accuracy: 1.0000 - val_loss: 0.0012 - val_accuracy: 1.0000\n",
            "Epoch 8/10\n",
            "32/32 [==============================] - 1s 37ms/step - loss: 9.9548e-04 - accuracy: 1.0000 - val_loss: 8.9780e-04 - val_accuracy: 1.0000\n",
            "Epoch 9/10\n",
            "32/32 [==============================] - 1s 37ms/step - loss: 7.5792e-04 - accuracy: 1.0000 - val_loss: 7.3740e-04 - val_accuracy: 1.0000\n",
            "Epoch 10/10\n",
            "32/32 [==============================] - 1s 37ms/step - loss: 6.2639e-04 - accuracy: 1.0000 - val_loss: 6.2175e-04 - val_accuracy: 1.0000\n",
            "Model: \"sequential_8\"\n",
            "_________________________________________________________________\n",
            " Layer (type)                Output Shape              Param #   \n",
            "=================================================================\n",
            " embedding_8 (Embedding)     (None, 150, 300)          183900    \n",
            "                                                                 \n",
            " bidirectional_16 (Bidirect  (None, 150, 256)          439296    \n",
            " ional)                                                          \n",
            "                                                                 \n",
            " bidirectional_17 (Bidirect  (None, 128)               164352    \n",
            " ional)                                                          \n",
            "                                                                 \n",
            " dense_8 (Dense)             (None, 1)                 129       \n",
            "                                                                 \n",
            "=================================================================\n",
            "Total params: 787677 (3.00 MB)\n",
            "Trainable params: 603777 (2.30 MB)\n",
            "Non-trainable params: 183900 (718.36 KB)\n",
            "_________________________________________________________________\n",
            "Epoch 1/10\n",
            "32/32 [==============================] - 8s 78ms/step - loss: 0.5457 - accuracy: 0.7285 - val_loss: 0.2884 - val_accuracy: 0.9023\n",
            "Epoch 2/10\n",
            "32/32 [==============================] - 1s 32ms/step - loss: 0.2639 - accuracy: 0.9004 - val_loss: 0.1666 - val_accuracy: 0.9453\n",
            "Epoch 3/10\n",
            "32/32 [==============================] - 1s 36ms/step - loss: 0.1460 - accuracy: 0.9414 - val_loss: 0.1507 - val_accuracy: 0.9453\n",
            "Epoch 4/10\n",
            "32/32 [==============================] - 1s 36ms/step - loss: 0.0878 - accuracy: 0.9678 - val_loss: 0.0702 - val_accuracy: 0.9727\n",
            "Epoch 5/10\n",
            "32/32 [==============================] - 1s 31ms/step - loss: 0.0634 - accuracy: 0.9795 - val_loss: 0.1682 - val_accuracy: 0.9141\n",
            "Epoch 6/10\n",
            "32/32 [==============================] - 1s 26ms/step - loss: 0.0530 - accuracy: 0.9854 - val_loss: 0.0492 - val_accuracy: 0.9883\n",
            "Epoch 7/10\n",
            "32/32 [==============================] - 1s 47ms/step - loss: 0.1337 - accuracy: 0.9590 - val_loss: 0.1252 - val_accuracy: 0.9609\n",
            "Epoch 8/10\n",
            "32/32 [==============================] - 1s 43ms/step - loss: 0.0509 - accuracy: 0.9863 - val_loss: 0.0434 - val_accuracy: 0.9961\n",
            "Epoch 9/10\n",
            "32/32 [==============================] - 1s 25ms/step - loss: 0.0143 - accuracy: 0.9980 - val_loss: 0.0350 - val_accuracy: 0.9961\n",
            "Epoch 10/10\n",
            "32/32 [==============================] - 1s 26ms/step - loss: 0.0063 - accuracy: 1.0000 - val_loss: 0.0307 - val_accuracy: 0.9961\n",
            "Model: \"sequential_9\"\n",
            "_________________________________________________________________\n",
            " Layer (type)                Output Shape              Param #   \n",
            "=================================================================\n",
            " embedding_9 (Embedding)     (None, 150, 300)          179400    \n",
            "                                                                 \n",
            " bidirectional_18 (Bidirect  (None, 150, 256)          439296    \n",
            " ional)                                                          \n",
            "                                                                 \n",
            " bidirectional_19 (Bidirect  (None, 128)               164352    \n",
            " ional)                                                          \n",
            "                                                                 \n",
            " dense_9 (Dense)             (None, 1)                 129       \n",
            "                                                                 \n",
            "=================================================================\n",
            "Total params: 783177 (2.99 MB)\n",
            "Trainable params: 603777 (2.30 MB)\n",
            "Non-trainable params: 179400 (700.78 KB)\n",
            "_________________________________________________________________\n",
            "Epoch 1/10\n",
            "32/32 [==============================] - 8s 74ms/step - loss: 0.4058 - accuracy: 0.8105 - val_loss: 0.1214 - val_accuracy: 0.9531\n",
            "Epoch 2/10\n",
            "32/32 [==============================] - 1s 34ms/step - loss: 0.1006 - accuracy: 0.9648 - val_loss: 0.0906 - val_accuracy: 0.9727\n",
            "Epoch 3/10\n",
            "32/32 [==============================] - 1s 37ms/step - loss: 0.0570 - accuracy: 0.9814 - val_loss: 0.0231 - val_accuracy: 1.0000\n",
            "Epoch 4/10\n",
            "32/32 [==============================] - 1s 38ms/step - loss: 0.0246 - accuracy: 0.9893 - val_loss: 0.0096 - val_accuracy: 1.0000\n",
            "Epoch 5/10\n",
            "32/32 [==============================] - 1s 33ms/step - loss: 0.0149 - accuracy: 0.9922 - val_loss: 0.0120 - val_accuracy: 1.0000\n",
            "Epoch 6/10\n",
            "32/32 [==============================] - 1s 25ms/step - loss: 0.0059 - accuracy: 0.9971 - val_loss: 0.0029 - val_accuracy: 1.0000\n",
            "Epoch 7/10\n",
            "32/32 [==============================] - 1s 26ms/step - loss: 0.0040 - accuracy: 1.0000 - val_loss: 0.0020 - val_accuracy: 1.0000\n",
            "Epoch 8/10\n",
            "32/32 [==============================] - 1s 27ms/step - loss: 0.0023 - accuracy: 1.0000 - val_loss: 0.0012 - val_accuracy: 1.0000\n",
            "Epoch 9/10\n",
            "32/32 [==============================] - 1s 26ms/step - loss: 8.6040e-04 - accuracy: 1.0000 - val_loss: 8.1927e-04 - val_accuracy: 1.0000\n",
            "Epoch 10/10\n",
            "32/32 [==============================] - 1s 27ms/step - loss: 5.8589e-04 - accuracy: 1.0000 - val_loss: 5.3099e-04 - val_accuracy: 1.0000\n"
          ]
        }
      ]
    },
    {
      "cell_type": "code",
      "source": [
        "from keras.models import load_model\n",
        "\n",
        "# Function to load models and embedding matrices\n",
        "def load_models_and_embeddings(labels, model_dir, embedding_dir):\n",
        "    models = {}\n",
        "    embeddings = {}\n",
        "    for label in labels:\n",
        "        model_path = f'{model_dir}/{label}_bi_lstm_fasttext_model.h5'\n",
        "        embedding_path = f'{embedding_dir}/{label}_fasttext_embedding_matrix.npy'\n",
        "\n",
        "        models[label] = load_model(model_path)\n",
        "        embeddings[label] = np.load(embedding_path)\n",
        "\n",
        "    return models, embeddings\n",
        "\n",
        "labels = ['best_jobs', 'cv_improver', 'lm_improver', 'interview-coaching', 'KO']\n",
        "model_dir = '/content/drive/MyDrive/Prompt-classifier/Bilstm_models'\n",
        "embedding_dir = '/content/drive/MyDrive/Prompt-classifier/embedding_matrices'\n",
        "models, embeddings = load_models_and_embeddings(labels, model_dir, embedding_dir)\n",
        "\n",
        "# Function to preprocess text and make predictions\n",
        "def preprocess_text_for_prediction(text, tokenizer, maxlen):\n",
        "    preprocessed_text = preprocess_text(text)\n",
        "    sequences = tokenizer.texts_to_sequences([preprocessed_text])\n",
        "    padded_sequence = pad_sequences(sequences, maxlen=maxlen)\n",
        "    return padded_sequence\n",
        "\n",
        "def predict_classes(input_text, models, tokenizers, maxlen):\n",
        "    results = {}\n",
        "    for label in models.keys():\n",
        "        padded_sequence = preprocess_text_for_prediction(input_text, tokenizers[label], maxlen)\n",
        "        predicted_class = models[label].predict(padded_sequence)\n",
        "        results[label] = predicted_class[0][0]\n",
        "    return results\n",
        "\n"
      ],
      "metadata": {
        "id": "7n3FamQJ1VbS"
      },
      "execution_count": null,
      "outputs": []
    },
    {
      "cell_type": "code",
      "source": [
        "input_prompt = \"Je cherche des conseils pour améliorer ma lettre de motivation.\"\n",
        "predictions = predict_classes(input_prompt, models, tokenizers, maxlen)\n",
        "print(predictions)"
      ],
      "metadata": {
        "colab": {
          "base_uri": "https://localhost:8080/"
        },
        "id": "PGZzWFWy4E-H",
        "outputId": "88f95317-b953-4eaf-f475-d18a06f5c3a1"
      },
      "execution_count": null,
      "outputs": [
        {
          "output_type": "stream",
          "name": "stdout",
          "text": [
            "1/1 [==============================] - 2s 2s/step\n",
            "1/1 [==============================] - 1s 1s/step\n",
            "1/1 [==============================] - 1s 1s/step\n",
            "1/1 [==============================] - 1s 1s/step\n"
          ]
        },
        {
          "output_type": "stream",
          "name": "stderr",
          "text": [
            "WARNING:tensorflow:5 out of the last 5 calls to <function Model.make_predict_function.<locals>.predict_function at 0x7f8279b13d90> triggered tf.function retracing. Tracing is expensive and the excessive number of tracings could be due to (1) creating @tf.function repeatedly in a loop, (2) passing tensors with different shapes, (3) passing Python objects instead of tensors. For (1), please define your @tf.function outside of the loop. For (2), @tf.function has reduce_retracing=True option that can avoid unnecessary retracing. For (3), please refer to https://www.tensorflow.org/guide/function#controlling_retracing and https://www.tensorflow.org/api_docs/python/tf/function for  more details.\n"
          ]
        },
        {
          "output_type": "stream",
          "name": "stdout",
          "text": [
            "1/1 [==============================] - 1s 1s/step\n",
            "{'best_jobs': 0.019456644, 'cv_improver': 1.834728e-06, 'lm_improver': 0.9967493, 'interview-coaching': 0.0017940582, 'KO': 0.0022075968}\n"
          ]
        }
      ]
    },
    {
      "cell_type": "code",
      "source": [
        "input_prompt = \"Je cherche des conseils pour améliorer ma lettre de motivation et mon cv.\"\n",
        "predictions = predict_classes(input_prompt, models, tokenizers, maxlen)\n",
        "print(predictions)"
      ],
      "metadata": {
        "colab": {
          "base_uri": "https://localhost:8080/"
        },
        "id": "e_PgXJ9z4VyC",
        "outputId": "c3306e0d-2458-461e-de3e-159a77d82a18"
      },
      "execution_count": null,
      "outputs": [
        {
          "output_type": "stream",
          "name": "stdout",
          "text": [
            "1/1 [==============================] - 0s 82ms/step\n",
            "1/1 [==============================] - 0s 83ms/step\n",
            "1/1 [==============================] - 0s 84ms/step\n",
            "1/1 [==============================] - 0s 69ms/step\n",
            "1/1 [==============================] - 0s 81ms/step\n",
            "{'best_jobs': 0.007270094, 'cv_improver': 0.91570336, 'lm_improver': 0.0004672436, 'interview-coaching': 0.0010769268, 'KO': 0.0006284437}\n"
          ]
        }
      ]
    },
    {
      "cell_type": "markdown",
      "source": [
        "# Multi-label classifier"
      ],
      "metadata": {
        "id": "WAwuRdKC78MM"
      }
    },
    {
      "cell_type": "code",
      "source": [
        "import pandas as pd\n",
        "import numpy as np\n",
        "from sklearn.model_selection import train_test_split\n",
        "from sklearn.preprocessing import MultiLabelBinarizer\n",
        "from keras.preprocessing.sequence import pad_sequences\n",
        "from keras.models import Sequential\n",
        "from keras.layers import Embedding, Bidirectional, LSTM, Dense\n",
        "from keras.preprocessing.text import Tokenizer\n",
        "import gensim.downloader as api\n",
        "\n",
        "# Load data\n",
        "csv_file_path = '/content/drive/MyDrive/Prompt-classifier/edited_preprocessed_data.csv'\n",
        "df = pd.read_csv(csv_file_path)\n",
        "\n",
        "# Split data into features and labels\n",
        "X = df['input'].values\n",
        "y = df[['best_jobs', 'cv_improver', 'lm_improver', 'interview-coaching', 'KO']].values\n",
        "\n",
        "# Ensure labels are lists of strings\n",
        "label_columns = df.columns[2:]\n",
        "y = [list(label_columns[row.astype(bool)]) for row in y]\n",
        "\n",
        "# Tokenize the input data\n",
        "tokenizer = Tokenizer()\n",
        "tokenizer.fit_on_texts(X)\n",
        "sequences = tokenizer.texts_to_sequences(X)\n",
        "word_index = tokenizer.word_index\n",
        "\n",
        "maxlen = 150  # Assuming max length based on previous context\n",
        "X_padded = pad_sequences(sequences, maxlen=maxlen)\n",
        "\n",
        "# Initialize MultiLabelBinarizer and transform labels\n",
        "mlb = MultiLabelBinarizer()\n",
        "y_encoded = mlb.fit_transform(y)\n",
        "\n",
        "embedding_matrix = create_embedding_matrix(tokenizer, fasttext_model)\n",
        "\n",
        "# Define the BiLSTM model\n",
        "model = Sequential()\n",
        "model.add(Embedding(input_dim=len(word_index) + 1, output_dim=embedding_matrix.shape[1],\n",
        "                    weights=[embedding_matrix], input_length=maxlen, trainable=False))\n",
        "model.add(Bidirectional(LSTM(units=128, return_sequences=True)))\n",
        "model.add(Bidirectional(LSTM(units=64)))\n",
        "model.add(Dense(units=len(mlb.classes_), activation='sigmoid'))\n",
        "\n",
        "model.compile(optimizer='adam', loss='binary_crossentropy', metrics=['accuracy'])\n",
        "\n",
        "# Split the data\n",
        "X_train, X_test, y_train, y_test = train_test_split(X_padded, y_encoded, test_size=0.2, random_state=42)\n",
        "\n",
        "# Train the model\n",
        "history = model.fit(X_train, y_train, epochs=10, batch_size=32, validation_split=0.2, verbose=1)\n"
      ],
      "metadata": {
        "colab": {
          "base_uri": "https://localhost:8080/"
        },
        "id": "8dswFc1o9tCQ",
        "outputId": "8c2cc23d-bde8-4779-8a0d-4a9abfce0c7b"
      },
      "execution_count": null,
      "outputs": [
        {
          "output_type": "stream",
          "name": "stdout",
          "text": [
            "Epoch 1/10\n",
            "20/20 [==============================] - 9s 104ms/step - loss: 0.5451 - accuracy: 0.2438 - val_loss: 0.4610 - val_accuracy: 0.3688\n",
            "Epoch 2/10\n",
            "20/20 [==============================] - 0s 25ms/step - loss: 0.3840 - accuracy: 0.6297 - val_loss: 0.3006 - val_accuracy: 0.7375\n",
            "Epoch 3/10\n",
            "20/20 [==============================] - 1s 26ms/step - loss: 0.2337 - accuracy: 0.8313 - val_loss: 0.1835 - val_accuracy: 0.8750\n",
            "Epoch 4/10\n",
            "20/20 [==============================] - 0s 25ms/step - loss: 0.1414 - accuracy: 0.9062 - val_loss: 0.1094 - val_accuracy: 0.9250\n",
            "Epoch 5/10\n",
            "20/20 [==============================] - 1s 26ms/step - loss: 0.0866 - accuracy: 0.9469 - val_loss: 0.0710 - val_accuracy: 0.9625\n",
            "Epoch 6/10\n",
            "20/20 [==============================] - 0s 25ms/step - loss: 0.0582 - accuracy: 0.9734 - val_loss: 0.0510 - val_accuracy: 0.9688\n",
            "Epoch 7/10\n",
            "20/20 [==============================] - 1s 26ms/step - loss: 0.0421 - accuracy: 0.9812 - val_loss: 0.0663 - val_accuracy: 0.9563\n",
            "Epoch 8/10\n",
            "20/20 [==============================] - 0s 24ms/step - loss: 0.0335 - accuracy: 0.9875 - val_loss: 0.0473 - val_accuracy: 0.9750\n",
            "Epoch 9/10\n",
            "20/20 [==============================] - 1s 26ms/step - loss: 0.0211 - accuracy: 0.9922 - val_loss: 0.0461 - val_accuracy: 0.9750\n",
            "Epoch 10/10\n",
            "20/20 [==============================] - 0s 24ms/step - loss: 0.0146 - accuracy: 0.9984 - val_loss: 0.0445 - val_accuracy: 0.9812\n"
          ]
        }
      ]
    },
    {
      "cell_type": "code",
      "source": [
        "# Evaluate the model\n",
        "score = model.evaluate(X_test, y_test, verbose=1)\n",
        "print(\"Test Score:\", score[0])\n",
        "print(\"Test Accuracy:\", score[1])"
      ],
      "metadata": {
        "colab": {
          "base_uri": "https://localhost:8080/"
        },
        "id": "_czzsRfmD0iO",
        "outputId": "af5d298a-685e-4bed-bf27-d5cff0cf6c72"
      },
      "execution_count": null,
      "outputs": [
        {
          "output_type": "stream",
          "name": "stdout",
          "text": [
            "7/7 [==============================] - 4s 27ms/step - loss: 0.0263 - accuracy: 0.9900\n",
            "Test Score: 0.026310674846172333\n",
            "Test Accuracy: 0.9900000095367432\n"
          ]
        }
      ]
    },
    {
      "cell_type": "code",
      "source": [
        "# Plotting accuracy and loss\n",
        "import matplotlib.pyplot as plt\n",
        "\n",
        "# Plotting accuracy\n",
        "plt.figure(figsize=(12, 6))\n",
        "plt.subplot(1, 2, 1)\n",
        "plt.plot(history.history['accuracy'])\n",
        "plt.plot(history.history['val_accuracy'])\n",
        "plt.title('Model Accuracy')\n",
        "plt.ylabel('Accuracy')\n",
        "plt.xlabel('Epoch')\n",
        "plt.legend(['Train', 'Test'], loc='upper left')\n",
        "\n",
        "# Plotting loss\n",
        "plt.subplot(1, 2, 2)\n",
        "plt.plot(history.history['loss'])\n",
        "plt.plot(history.history['val_loss'])\n",
        "plt.title('Model Loss')\n",
        "plt.ylabel('Loss')\n",
        "plt.xlabel('Epoch')\n",
        "plt.legend(['Train', 'Test'], loc='upper left')\n",
        "\n",
        "# Show plots\n",
        "plt.show()\n"
      ],
      "metadata": {
        "colab": {
          "base_uri": "https://localhost:8080/",
          "height": 564
        },
        "id": "xpAtyAv-D_l8",
        "outputId": "3382c9ef-3e98-470a-b1d9-4efe60569be1"
      },
      "execution_count": null,
      "outputs": [
        {
          "output_type": "display_data",
          "data": {
            "text/plain": [
              "<Figure size 1200x600 with 2 Axes>"
            ],
            "image/png": "[encoded data removed]"
          },
          "metadata": {}
        }
      ]
    },
    {
      "cell_type": "code",
      "source": [
        "def predict_multiple_needs(input_text, model, tokenizer, mlb, maxlen):\n",
        "    # Preprocess the input text\n",
        "    input_text_processed = preprocess_text(input_text)\n",
        "\n",
        "    # Tokenize and pad the input text\n",
        "    sequence = tokenizer.texts_to_sequences([input_text_processed])\n",
        "    padded_sequence = pad_sequences(sequence, maxlen=maxlen)\n",
        "\n",
        "    # Predict probabilities\n",
        "    probabilities = model.predict(padded_sequence)[0]\n",
        "\n",
        "    # Thresholding at 0.5 to determine the class\n",
        "    predicted_classes = (probabilities >= 0.5).astype(int)\n",
        "\n",
        "    # Convert predictions to class labels\n",
        "    predicted_labels = mlb.inverse_transform(np.array([predicted_classes]))[0]\n",
        "\n",
        "    # Create a dictionary of class probabilities\n",
        "    class_probabilities = {mlb.classes_[i]: probabilities[i] for i in range(len(mlb.classes_))}\n",
        "\n",
        "    return predicted_labels, class_probabilities"
      ],
      "metadata": {
        "colab": {
          "base_uri": "https://localhost:8080/"
        },
        "id": "wbO1qPkT_iUg",
        "outputId": "7f5fdfd0-3bcf-4ea0-b3d6-852032699c69"
      },
      "execution_count": null,
      "outputs": [
        {
          "output_type": "stream",
          "name": "stdout",
          "text": [
            "1/1 [==============================] - 0s 106ms/step\n",
            "Predicted classes: ('cv_improver',)\n",
            "Probabilities: {'KO': 0.23363884, 'best_jobs': 0.0036458257, 'cv_improver': 0.60777825, 'interview-coaching': 0.0013792765, 'lm_improver': 0.012371753}\n"
          ]
        }
      ]
    },
    {
      "cell_type": "code",
      "source": [
        "# Example usage\n",
        "input_prompt = \"Je cherche des conseils pour améliorer ma lettre de motivation et mon CV.\"\n",
        "predicted_classes, probabilities = predict_multiple_needs(input_prompt, model, tokenizer, mlb, maxlen)\n",
        "print(f'Predicted classes: {predicted_classes}')\n",
        "print(f'Probabilities: {probabilities}')"
      ],
      "metadata": {
        "id": "FBLCOPcfl5VN"
      },
      "execution_count": null,
      "outputs": []
    }
  ],
  "metadata": {
    "colab": {
      "toc_visible": true,
      "provenance": [],
      "gpuType": "T4",
      "include_colab_link": true
    },
    "kernelspec": {
      "display_name": "Python 3",
      "name": "python3"
    },
    "language_info": {
      "codemirror_mode": {
        "name": "ipython",
        "version": 3
      },
      "file_extension": ".py",
      "mimetype": "text/x-python",
      "name": "python",
      "nbconvert_exporter": "python",
      "pygments_lexer": "ipython3",
      "version": "3.12.3"
    },
    "accelerator": "GPU"
  },
  "nbformat": 4,
  "nbformat_minor": 0
}